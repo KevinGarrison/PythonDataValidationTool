{
 "cells": [
  {
   "cell_type": "code",
   "execution_count": 107,
   "metadata": {},
   "outputs": [],
   "source": [
    "import pandas as pd, numpy as np\n",
    "from sklearn.preprocessing import StandardScaler\n",
    "from sklearn.ensemble import IsolationForest\n",
    "from scipy.stats import skew, kurtosis\n",
    "import numpy as np\n",
    "import plotly.express as px\n"
   ]
  },
  {
   "cell_type": "code",
   "execution_count": 145,
   "metadata": {},
   "outputs": [],
   "source": [
    "def normalize_numerical_data(series):\n",
    "    scaler = StandardScaler()\n",
    "    standardized_data = scaler.fit_transform(series.values.reshape(-1, 1)).flatten()\n",
    "    mean = scaler.mean_[0]\n",
    "    std = scaler.scale_[0]\n",
    "    \n",
    "    return pd.Series(standardized_data, name=series.name), mean, std\n",
    "\n",
    "def inverse_filter_ranges(filter_ranges, mean, std):\n",
    "    filter_ranges['lower_bound_gamma'] = round(filter_ranges['lower_bound'] * std + mean, 2)\n",
    "    filter_ranges['upper_bound_gamma'] = round(filter_ranges['upper_bound'] * std + mean, 2)\n",
    "    return filter_ranges.drop(['lower_bound', 'upper_bound'], axis=1)\n",
    "\n",
    "def iqr_approach(series, feature):\n",
    "    summary = series.describe()\n",
    "    return pd.DataFrame({\n",
    "        'feature': [feature],\n",
    "        'lower_bound_iqr': round(summary['25%'] - 1.5 * (summary['75%'] - summary['25%']), 2),\n",
    "        'upper_bound_iqr': round(summary['75%'] + 1.5 * (summary['75%'] - summary['25%']), 2)\n",
    "    })\n",
    "\n",
    "def z_score_approach(series, feature, alpha: int = 3):\n",
    "    summary = series.describe()\n",
    "    return pd.DataFrame({\n",
    "        'feature': [feature],\n",
    "        'lower_bound_z_score': round(summary['mean'] - alpha * summary['std'], 2),\n",
    "        'upper_bound_z_score': round(summary['mean'] + alpha * summary['std'], 2)\n",
    "    })\n",
    "\n",
    "def modified_z_score_approach(series, feature, alpha: int = 3):\n",
    "    median = series.median()\n",
    "    absolute_deviations = np.abs(series - median)\n",
    "    mad = absolute_deviations.median()\n",
    "\n",
    "    if mad == 0:\n",
    "        lower_bound = upper_bound = median\n",
    "    else:\n",
    "        lower_bound = round(median - alpha * mad, 2)\n",
    "        upper_bound = round(median + alpha * mad, 2)\n",
    "\n",
    "    return pd.DataFrame({\n",
    "        'feature': [feature],\n",
    "        'lower_bound_mod_z_score': lower_bound,\n",
    "        'upper_bound_mod_z_score': upper_bound\n",
    "    })\n",
    "\n",
    "def f1(z: pd.Series, beta_1: int, beta_2: int) -> pd.Series:\n",
    "    anomaly_mask = ~((-beta_1 < z) & (z < beta_2))\n",
    "    print(set(anomaly_mask))\n",
    "    return anomaly_mask\n",
    "\n",
    "def f2(z: pd.Series, beta_1: int, beta_2: int, gamma: int = 3) -> pd.Series:\n",
    "    isolation_forest = IsolationForest()\n",
    "    mask_f1 = f1(z, gamma * beta_1, gamma * beta_2)\n",
    "    isolation_forest.fit(z.values.reshape(-1, 1))  # Fit on reshaped data\n",
    "    mask_iforest = isolation_forest.predict(z.values.reshape(-1, 1)) == -1  # -1 indicates outliers\n",
    "    return mask_f1 & mask_iforest\n",
    "\n",
    "def gamma_outlier(series, feature, alphas: int = 6, alphak: int = 30):\n",
    "    \n",
    "    skew_result, kurt_result = abs(skew(series)), abs(kurtosis(series))\n",
    "    \n",
    "    if skew_result < alphas and kurt_result < alphak:\n",
    "        mask = f1(series, beta_1=skew_result, beta_2=kurt_result)\n",
    "    else:\n",
    "        mask = f2(series, beta_1=skew_result, beta_2=kurt_result, gamma=3)\n",
    "\n",
    "    filtered_data = series[~mask]\n",
    "\n",
    "\n",
    "    if len(filtered_data) > 0:\n",
    "        return pd.DataFrame({\n",
    "            'feature': [feature],\n",
    "            'lower_bound': round(filtered_data.min(), 2),\n",
    "            'upper_bound': round(filtered_data.max(), 2)\n",
    "        })\n",
    "\n",
    "def jaccard_index(lower_a, upper_a, lower_b, upper_b):\n",
    "    overlap = max(0, min(upper_b, upper_a) - max(lower_b, lower_a))\n",
    "    distance = max(0, max(upper_b, upper_a) - min(lower_b, lower_a))\n",
    "    \n",
    "    return overlap / distance if distance != 0 else 0\n",
    "\n"
   ]
  },
  {
   "cell_type": "code",
   "execution_count": 146,
   "metadata": {},
   "outputs": [
    {
     "data": {
      "text/html": [
       "<div>\n",
       "<style scoped>\n",
       "    .dataframe tbody tr th:only-of-type {\n",
       "        vertical-align: middle;\n",
       "    }\n",
       "\n",
       "    .dataframe tbody tr th {\n",
       "        vertical-align: top;\n",
       "    }\n",
       "\n",
       "    .dataframe thead th {\n",
       "        text-align: right;\n",
       "    }\n",
       "</style>\n",
       "<table border=\"1\" class=\"dataframe\">\n",
       "  <thead>\n",
       "    <tr style=\"text-align: right;\">\n",
       "      <th></th>\n",
       "      <th>feature</th>\n",
       "      <th>values</th>\n",
       "      <th>lower</th>\n",
       "      <th>upper</th>\n",
       "    </tr>\n",
       "  </thead>\n",
       "  <tbody>\n",
       "    <tr>\n",
       "      <th>0</th>\n",
       "      <td>Feature_1</td>\n",
       "      <td>[12.483570765056164, 9.308678494144077, 13.238...</td>\n",
       "      <td>-3.098726</td>\n",
       "      <td>19.261391</td>\n",
       "    </tr>\n",
       "    <tr>\n",
       "      <th>1</th>\n",
       "      <td>Feature_2</td>\n",
       "      <td>[11.074694150473775, -0.11157466597867582, 5.2...</td>\n",
       "      <td>-0.111575</td>\n",
       "      <td>23.672111</td>\n",
       "    </tr>\n",
       "    <tr>\n",
       "      <th>2</th>\n",
       "      <td>Feature_3</td>\n",
       "      <td>[15.415256215876385, 15.269010260174515, 3.111...</td>\n",
       "      <td>-6.206337</td>\n",
       "      <td>29.263657</td>\n",
       "    </tr>\n",
       "    <tr>\n",
       "      <th>3</th>\n",
       "      <td>Feature_4</td>\n",
       "      <td>[6.653986359093935, 15.809686588733873, 17.764...</td>\n",
       "      <td>-2.261323</td>\n",
       "      <td>21.378806</td>\n",
       "    </tr>\n",
       "    <tr>\n",
       "      <th>4</th>\n",
       "      <td>Feature_5</td>\n",
       "      <td>[15.896485920319133, 10.337592407050545, 20.30...</td>\n",
       "      <td>-1.509606</td>\n",
       "      <td>25.394404</td>\n",
       "    </tr>\n",
       "    <tr>\n",
       "      <th>5</th>\n",
       "      <td>Feature_6</td>\n",
       "      <td>[7.177214983652124, 4.989766381856329, 11.3987...</td>\n",
       "      <td>-3.704774</td>\n",
       "      <td>23.918887</td>\n",
       "    </tr>\n",
       "    <tr>\n",
       "      <th>6</th>\n",
       "      <td>Feature_7</td>\n",
       "      <td>[10.278624561443474, 15.470957592354743, 1.537...</td>\n",
       "      <td>-3.484433</td>\n",
       "      <td>22.866799</td>\n",
       "    </tr>\n",
       "    <tr>\n",
       "      <th>7</th>\n",
       "      <td>Feature_8</td>\n",
       "      <td>[1.8520350701183634, 12.759318276547504, 20.02...</td>\n",
       "      <td>-2.423058</td>\n",
       "      <td>20.406573</td>\n",
       "    </tr>\n",
       "    <tr>\n",
       "      <th>8</th>\n",
       "      <td>Feature_9</td>\n",
       "      <td>[14.921611992382918, 8.930055778872456, 9.7526...</td>\n",
       "      <td>-0.994030</td>\n",
       "      <td>22.634662</td>\n",
       "    </tr>\n",
       "    <tr>\n",
       "      <th>9</th>\n",
       "      <td>Feature_10</td>\n",
       "      <td>[8.887936107722172, 4.265206856332804, 9.42704...</td>\n",
       "      <td>2.042977</td>\n",
       "      <td>24.825052</td>\n",
       "    </tr>\n",
       "  </tbody>\n",
       "</table>\n",
       "</div>"
      ],
      "text/plain": [
       "      feature                                             values     lower  \\\n",
       "0   Feature_1  [12.483570765056164, 9.308678494144077, 13.238... -3.098726   \n",
       "1   Feature_2  [11.074694150473775, -0.11157466597867582, 5.2... -0.111575   \n",
       "2   Feature_3  [15.415256215876385, 15.269010260174515, 3.111... -6.206337   \n",
       "3   Feature_4  [6.653986359093935, 15.809686588733873, 17.764... -2.261323   \n",
       "4   Feature_5  [15.896485920319133, 10.337592407050545, 20.30... -1.509606   \n",
       "5   Feature_6  [7.177214983652124, 4.989766381856329, 11.3987... -3.704774   \n",
       "6   Feature_7  [10.278624561443474, 15.470957592354743, 1.537... -3.484433   \n",
       "7   Feature_8  [1.8520350701183634, 12.759318276547504, 20.02... -2.423058   \n",
       "8   Feature_9  [14.921611992382918, 8.930055778872456, 9.7526... -0.994030   \n",
       "9  Feature_10  [8.887936107722172, 4.265206856332804, 9.42704...  2.042977   \n",
       "\n",
       "       upper  \n",
       "0  19.261391  \n",
       "1  23.672111  \n",
       "2  29.263657  \n",
       "3  21.378806  \n",
       "4  25.394404  \n",
       "5  23.918887  \n",
       "6  22.866799  \n",
       "7  20.406573  \n",
       "8  22.634662  \n",
       "9  24.825052  "
      ]
     },
     "execution_count": 146,
     "metadata": {},
     "output_type": "execute_result"
    }
   ],
   "source": [
    "np.random.seed(42)\n",
    "\n",
    "num_features = 10  \n",
    "num_data_points = 100  \n",
    "num_anomalies = 5  \n",
    "\n",
    "\n",
    "data = {}\n",
    "min_values = []\n",
    "max_values = []\n",
    "\n",
    "for i in range(1, num_features + 1):\n",
    "    feature_name = f'Feature_{i}'\n",
    "    normal_data = np.random.normal(loc=10, scale=5, size=num_data_points)  \n",
    "    min_values.append(np.min(normal_data))  \n",
    "    max_values.append(np.max(normal_data))  \n",
    "    anomalies = np.random.uniform(low=50, high=100, size=num_anomalies)  \n",
    "    combined_data = np.concatenate([normal_data, anomalies]) \n",
    "    data[feature_name] = combined_data\n",
    "\n",
    "features_list = []\n",
    "values_list = []\n",
    "\n",
    "for feature in data:\n",
    "    features_list.append(feature)\n",
    "    values_list.append(data[feature].tolist()) \n",
    "\n",
    "final_df = pd.DataFrame({\n",
    "    'feature': features_list,\n",
    "    'values': values_list,\n",
    "    'lower': min_values,\n",
    "    'upper': max_values\n",
    "})\n",
    "\n",
    "final_df"
   ]
  },
  {
   "cell_type": "code",
   "execution_count": 147,
   "metadata": {},
   "outputs": [
    {
     "name": "stdout",
     "output_type": "stream",
     "text": [
      "{False}\n",
      "{False}\n",
      "{False}\n",
      "{False}\n",
      "{False}\n",
      "{False}\n",
      "{False}\n",
      "{False}\n",
      "{False}\n",
      "{False}\n"
     ]
    }
   ],
   "source": [
    "# Initialize empty DataFrames for filter ranges\n",
    "filter_ranges_iqr = []\n",
    "filter_ranges_z = []\n",
    "filter_ranges_modified_z = []\n",
    "filter_ranges_gamma = []\n",
    "\n",
    "# Iterate over each row in the final DataFrame\n",
    "for index, row in final_df.iterrows():\n",
    "    # Extract the 'Values' column as a Series\n",
    "    values_series = row['values']\n",
    "    feature = row['feature']\n",
    "    # Flatten the lists into a single Series\n",
    "    #values_series = values_series.explode()\n",
    "\n",
    "    # Convert to float if necessary\n",
    "    values_series = pd.Series(values_series)\n",
    "\n",
    "    # Apply each outlier detection method on the Series\n",
    "    filter_row_iqr = iqr_approach(values_series, feature)\n",
    "    filter_row_z = z_score_approach(values_series, feature)\n",
    "    filter_row_modified_z = modified_z_score_approach(values_series, feature)\n",
    "    \n",
    "    # Normalize the numerical data (Values Series)\n",
    "    final_df_norm, mean, std = normalize_numerical_data(values_series)\n",
    "    \n",
    "    # Apply gamma outlier detection on the normalized Series\n",
    "    filter_ranges_gamma_norm = gamma_outlier(final_df_norm, feature)\n",
    "    \n",
    "    # Inverse the filter ranges using the mean and std\n",
    "    filter_row_gamma = inverse_filter_ranges(filter_ranges_gamma_norm, mean, std)\n",
    "\n",
    "    filter_ranges_iqr.append(filter_row_iqr)\n",
    "    filter_ranges_z.append(filter_row_z)\n",
    "    filter_ranges_modified_z.append(filter_row_modified_z)\n",
    "    filter_ranges_gamma.append(filter_row_gamma)\n",
    "    "
   ]
  },
  {
   "cell_type": "code",
   "execution_count": 148,
   "metadata": {},
   "outputs": [],
   "source": [
    "filter_ranges_iqr = pd.concat(filter_ranges_iqr, ignore_index=True)"
   ]
  },
  {
   "cell_type": "code",
   "execution_count": 149,
   "metadata": {},
   "outputs": [],
   "source": [
    "filter_ranges_z = pd.concat(filter_ranges_z, ignore_index=True)"
   ]
  },
  {
   "cell_type": "code",
   "execution_count": 150,
   "metadata": {},
   "outputs": [],
   "source": [
    "filter_ranges_modified_z = pd.concat(filter_ranges_modified_z, ignore_index=True)"
   ]
  },
  {
   "cell_type": "code",
   "execution_count": 151,
   "metadata": {},
   "outputs": [],
   "source": [
    "filter_ranges_gamma = pd.concat(filter_ranges_gamma, ignore_index=True)"
   ]
  },
  {
   "cell_type": "code",
   "execution_count": 152,
   "metadata": {},
   "outputs": [
    {
     "data": {
      "text/html": [
       "<div>\n",
       "<style scoped>\n",
       "    .dataframe tbody tr th:only-of-type {\n",
       "        vertical-align: middle;\n",
       "    }\n",
       "\n",
       "    .dataframe tbody tr th {\n",
       "        vertical-align: top;\n",
       "    }\n",
       "\n",
       "    .dataframe thead th {\n",
       "        text-align: right;\n",
       "    }\n",
       "</style>\n",
       "<table border=\"1\" class=\"dataframe\">\n",
       "  <thead>\n",
       "    <tr style=\"text-align: right;\">\n",
       "      <th></th>\n",
       "      <th>feature</th>\n",
       "      <th>lower_bound_iqr</th>\n",
       "      <th>upper_bound_iqr</th>\n",
       "    </tr>\n",
       "  </thead>\n",
       "  <tbody>\n",
       "    <tr>\n",
       "      <th>0</th>\n",
       "      <td>Feature_1</td>\n",
       "      <td>-1.62</td>\n",
       "      <td>21.86</td>\n",
       "    </tr>\n",
       "    <tr>\n",
       "      <th>1</th>\n",
       "      <td>Feature_2</td>\n",
       "      <td>-3.77</td>\n",
       "      <td>25.29</td>\n",
       "    </tr>\n",
       "    <tr>\n",
       "      <th>2</th>\n",
       "      <td>Feature_3</td>\n",
       "      <td>-4.54</td>\n",
       "      <td>25.52</td>\n",
       "    </tr>\n",
       "    <tr>\n",
       "      <th>3</th>\n",
       "      <td>Feature_4</td>\n",
       "      <td>-2.42</td>\n",
       "      <td>25.26</td>\n",
       "    </tr>\n",
       "    <tr>\n",
       "      <th>4</th>\n",
       "      <td>Feature_5</td>\n",
       "      <td>-6.43</td>\n",
       "      <td>25.90</td>\n",
       "    </tr>\n",
       "    <tr>\n",
       "      <th>5</th>\n",
       "      <td>Feature_6</td>\n",
       "      <td>-3.13</td>\n",
       "      <td>24.51</td>\n",
       "    </tr>\n",
       "    <tr>\n",
       "      <th>6</th>\n",
       "      <td>Feature_7</td>\n",
       "      <td>-2.18</td>\n",
       "      <td>23.01</td>\n",
       "    </tr>\n",
       "    <tr>\n",
       "      <th>7</th>\n",
       "      <td>Feature_8</td>\n",
       "      <td>-6.11</td>\n",
       "      <td>26.12</td>\n",
       "    </tr>\n",
       "    <tr>\n",
       "      <th>8</th>\n",
       "      <td>Feature_9</td>\n",
       "      <td>-4.28</td>\n",
       "      <td>27.10</td>\n",
       "    </tr>\n",
       "    <tr>\n",
       "      <th>9</th>\n",
       "      <td>Feature_10</td>\n",
       "      <td>-0.98</td>\n",
       "      <td>22.37</td>\n",
       "    </tr>\n",
       "  </tbody>\n",
       "</table>\n",
       "</div>"
      ],
      "text/plain": [
       "      feature  lower_bound_iqr  upper_bound_iqr\n",
       "0   Feature_1            -1.62            21.86\n",
       "1   Feature_2            -3.77            25.29\n",
       "2   Feature_3            -4.54            25.52\n",
       "3   Feature_4            -2.42            25.26\n",
       "4   Feature_5            -6.43            25.90\n",
       "5   Feature_6            -3.13            24.51\n",
       "6   Feature_7            -2.18            23.01\n",
       "7   Feature_8            -6.11            26.12\n",
       "8   Feature_9            -4.28            27.10\n",
       "9  Feature_10            -0.98            22.37"
      ]
     },
     "execution_count": 152,
     "metadata": {},
     "output_type": "execute_result"
    }
   ],
   "source": [
    "filter_ranges_iqr"
   ]
  },
  {
   "cell_type": "code",
   "execution_count": 153,
   "metadata": {},
   "outputs": [],
   "source": [
    "dfs = [filter_ranges_iqr, filter_ranges_z, filter_ranges_modified_z, filter_ranges_gamma]\n",
    "\n",
    "for df in dfs:\n",
    "    final_df = pd.merge(final_df, df, on=['feature'], how='left')"
   ]
  },
  {
   "cell_type": "code",
   "execution_count": 154,
   "metadata": {},
   "outputs": [
    {
     "data": {
      "text/html": [
       "<div>\n",
       "<style scoped>\n",
       "    .dataframe tbody tr th:only-of-type {\n",
       "        vertical-align: middle;\n",
       "    }\n",
       "\n",
       "    .dataframe tbody tr th {\n",
       "        vertical-align: top;\n",
       "    }\n",
       "\n",
       "    .dataframe thead th {\n",
       "        text-align: right;\n",
       "    }\n",
       "</style>\n",
       "<table border=\"1\" class=\"dataframe\">\n",
       "  <thead>\n",
       "    <tr style=\"text-align: right;\">\n",
       "      <th></th>\n",
       "      <th>feature</th>\n",
       "      <th>values</th>\n",
       "      <th>lower</th>\n",
       "      <th>upper</th>\n",
       "      <th>lower_bound_iqr</th>\n",
       "      <th>upper_bound_iqr</th>\n",
       "      <th>lower_bound_z_score</th>\n",
       "      <th>upper_bound_z_score</th>\n",
       "      <th>lower_bound_mod_z_score</th>\n",
       "      <th>upper_bound_mod_z_score</th>\n",
       "      <th>lower_bound_gamma</th>\n",
       "      <th>upper_bound_gamma</th>\n",
       "    </tr>\n",
       "  </thead>\n",
       "  <tbody>\n",
       "    <tr>\n",
       "      <th>0</th>\n",
       "      <td>Feature_1</td>\n",
       "      <td>[12.483570765056164, 9.308678494144077, 13.238...</td>\n",
       "      <td>-3.098726</td>\n",
       "      <td>19.261391</td>\n",
       "      <td>-1.62</td>\n",
       "      <td>21.86</td>\n",
       "      <td>-29.98</td>\n",
       "      <td>54.74</td>\n",
       "      <td>1.33</td>\n",
       "      <td>18.31</td>\n",
       "      <td>-3.08</td>\n",
       "      <td>97.12</td>\n",
       "    </tr>\n",
       "    <tr>\n",
       "      <th>1</th>\n",
       "      <td>Feature_2</td>\n",
       "      <td>[11.074694150473775, -0.11157466597867582, 5.2...</td>\n",
       "      <td>-0.111575</td>\n",
       "      <td>23.672111</td>\n",
       "      <td>-3.77</td>\n",
       "      <td>25.29</td>\n",
       "      <td>-35.31</td>\n",
       "      <td>63.28</td>\n",
       "      <td>-1.06</td>\n",
       "      <td>22.08</td>\n",
       "      <td>-0.08</td>\n",
       "      <td>99.51</td>\n",
       "    </tr>\n",
       "    <tr>\n",
       "      <th>2</th>\n",
       "      <td>Feature_3</td>\n",
       "      <td>[15.415256215876385, 15.269010260174515, 3.111...</td>\n",
       "      <td>-6.206337</td>\n",
       "      <td>29.263657</td>\n",
       "      <td>-4.54</td>\n",
       "      <td>25.52</td>\n",
       "      <td>-36.49</td>\n",
       "      <td>63.87</td>\n",
       "      <td>-0.72</td>\n",
       "      <td>21.85</td>\n",
       "      <td>-6.28</td>\n",
       "      <td>99.58</td>\n",
       "    </tr>\n",
       "    <tr>\n",
       "      <th>3</th>\n",
       "      <td>Feature_4</td>\n",
       "      <td>[6.653986359093935, 15.809686588733873, 17.764...</td>\n",
       "      <td>-2.261323</td>\n",
       "      <td>21.378806</td>\n",
       "      <td>-2.42</td>\n",
       "      <td>25.26</td>\n",
       "      <td>-30.24</td>\n",
       "      <td>57.84</td>\n",
       "      <td>0.93</td>\n",
       "      <td>21.86</td>\n",
       "      <td>-2.27</td>\n",
       "      <td>88.60</td>\n",
       "    </tr>\n",
       "    <tr>\n",
       "      <th>4</th>\n",
       "      <td>Feature_5</td>\n",
       "      <td>[15.896485920319133, 10.337592407050545, 20.30...</td>\n",
       "      <td>-1.509606</td>\n",
       "      <td>25.394404</td>\n",
       "      <td>-6.43</td>\n",
       "      <td>25.90</td>\n",
       "      <td>-35.81</td>\n",
       "      <td>61.98</td>\n",
       "      <td>-2.33</td>\n",
       "      <td>21.71</td>\n",
       "      <td>-1.51</td>\n",
       "      <td>96.46</td>\n",
       "    </tr>\n",
       "    <tr>\n",
       "      <th>5</th>\n",
       "      <td>Feature_6</td>\n",
       "      <td>[7.177214983652124, 4.989766381856329, 11.3987...</td>\n",
       "      <td>-3.704774</td>\n",
       "      <td>23.918887</td>\n",
       "      <td>-3.13</td>\n",
       "      <td>24.51</td>\n",
       "      <td>-35.53</td>\n",
       "      <td>62.48</td>\n",
       "      <td>0.65</td>\n",
       "      <td>21.00</td>\n",
       "      <td>-3.76</td>\n",
       "      <td>99.31</td>\n",
       "    </tr>\n",
       "    <tr>\n",
       "      <th>6</th>\n",
       "      <td>Feature_7</td>\n",
       "      <td>[10.278624561443474, 15.470957592354743, 1.537...</td>\n",
       "      <td>-3.484433</td>\n",
       "      <td>22.866799</td>\n",
       "      <td>-2.18</td>\n",
       "      <td>23.01</td>\n",
       "      <td>-27.85</td>\n",
       "      <td>52.17</td>\n",
       "      <td>-0.32</td>\n",
       "      <td>19.78</td>\n",
       "      <td>-3.50</td>\n",
       "      <td>95.78</td>\n",
       "    </tr>\n",
       "    <tr>\n",
       "      <th>7</th>\n",
       "      <td>Feature_8</td>\n",
       "      <td>[1.8520350701183634, 12.759318276547504, 20.02...</td>\n",
       "      <td>-2.423058</td>\n",
       "      <td>20.406573</td>\n",
       "      <td>-6.11</td>\n",
       "      <td>26.12</td>\n",
       "      <td>-34.53</td>\n",
       "      <td>60.14</td>\n",
       "      <td>-1.10</td>\n",
       "      <td>22.44</td>\n",
       "      <td>-2.43</td>\n",
       "      <td>97.44</td>\n",
       "    </tr>\n",
       "    <tr>\n",
       "      <th>8</th>\n",
       "      <td>Feature_9</td>\n",
       "      <td>[14.921611992382918, 8.930055778872456, 9.7526...</td>\n",
       "      <td>-0.994030</td>\n",
       "      <td>22.634662</td>\n",
       "      <td>-4.28</td>\n",
       "      <td>27.10</td>\n",
       "      <td>-30.99</td>\n",
       "      <td>59.57</td>\n",
       "      <td>-0.46</td>\n",
       "      <td>22.95</td>\n",
       "      <td>-1.03</td>\n",
       "      <td>97.50</td>\n",
       "    </tr>\n",
       "    <tr>\n",
       "      <th>9</th>\n",
       "      <td>Feature_10</td>\n",
       "      <td>[8.887936107722172, 4.265206856332804, 9.42704...</td>\n",
       "      <td>2.042977</td>\n",
       "      <td>24.825052</td>\n",
       "      <td>-0.98</td>\n",
       "      <td>22.37</td>\n",
       "      <td>-28.80</td>\n",
       "      <td>56.04</td>\n",
       "      <td>1.72</td>\n",
       "      <td>19.02</td>\n",
       "      <td>2.08</td>\n",
       "      <td>99.32</td>\n",
       "    </tr>\n",
       "  </tbody>\n",
       "</table>\n",
       "</div>"
      ],
      "text/plain": [
       "      feature                                             values     lower  \\\n",
       "0   Feature_1  [12.483570765056164, 9.308678494144077, 13.238... -3.098726   \n",
       "1   Feature_2  [11.074694150473775, -0.11157466597867582, 5.2... -0.111575   \n",
       "2   Feature_3  [15.415256215876385, 15.269010260174515, 3.111... -6.206337   \n",
       "3   Feature_4  [6.653986359093935, 15.809686588733873, 17.764... -2.261323   \n",
       "4   Feature_5  [15.896485920319133, 10.337592407050545, 20.30... -1.509606   \n",
       "5   Feature_6  [7.177214983652124, 4.989766381856329, 11.3987... -3.704774   \n",
       "6   Feature_7  [10.278624561443474, 15.470957592354743, 1.537... -3.484433   \n",
       "7   Feature_8  [1.8520350701183634, 12.759318276547504, 20.02... -2.423058   \n",
       "8   Feature_9  [14.921611992382918, 8.930055778872456, 9.7526... -0.994030   \n",
       "9  Feature_10  [8.887936107722172, 4.265206856332804, 9.42704...  2.042977   \n",
       "\n",
       "       upper  lower_bound_iqr  upper_bound_iqr  lower_bound_z_score  \\\n",
       "0  19.261391            -1.62            21.86               -29.98   \n",
       "1  23.672111            -3.77            25.29               -35.31   \n",
       "2  29.263657            -4.54            25.52               -36.49   \n",
       "3  21.378806            -2.42            25.26               -30.24   \n",
       "4  25.394404            -6.43            25.90               -35.81   \n",
       "5  23.918887            -3.13            24.51               -35.53   \n",
       "6  22.866799            -2.18            23.01               -27.85   \n",
       "7  20.406573            -6.11            26.12               -34.53   \n",
       "8  22.634662            -4.28            27.10               -30.99   \n",
       "9  24.825052            -0.98            22.37               -28.80   \n",
       "\n",
       "   upper_bound_z_score  lower_bound_mod_z_score  upper_bound_mod_z_score  \\\n",
       "0                54.74                     1.33                    18.31   \n",
       "1                63.28                    -1.06                    22.08   \n",
       "2                63.87                    -0.72                    21.85   \n",
       "3                57.84                     0.93                    21.86   \n",
       "4                61.98                    -2.33                    21.71   \n",
       "5                62.48                     0.65                    21.00   \n",
       "6                52.17                    -0.32                    19.78   \n",
       "7                60.14                    -1.10                    22.44   \n",
       "8                59.57                    -0.46                    22.95   \n",
       "9                56.04                     1.72                    19.02   \n",
       "\n",
       "   lower_bound_gamma  upper_bound_gamma  \n",
       "0              -3.08              97.12  \n",
       "1              -0.08              99.51  \n",
       "2              -6.28              99.58  \n",
       "3              -2.27              88.60  \n",
       "4              -1.51              96.46  \n",
       "5              -3.76              99.31  \n",
       "6              -3.50              95.78  \n",
       "7              -2.43              97.44  \n",
       "8              -1.03              97.50  \n",
       "9               2.08              99.32  "
      ]
     },
     "execution_count": 154,
     "metadata": {},
     "output_type": "execute_result"
    }
   ],
   "source": [
    "final_df"
   ]
  },
  {
   "cell_type": "code",
   "execution_count": 155,
   "metadata": {},
   "outputs": [],
   "source": [
    "# Calculate Jaccard index for each feature\n",
    "jaccard_results = {\n",
    "                    'feature':[],\n",
    "                    'IQR':[],\n",
    "                   'Z-SCORE': [],\n",
    "                   'MOD_Z': [],\n",
    "                   'GAMMA':[]\n",
    "                   }\n",
    "\n",
    "for method_iters in range(5):\n",
    "    for index, row in final_df.iterrows():\n",
    "        match method_iters:\n",
    "            case 0:\n",
    "                jaccard_results['feature'].append(row['feature'])\n",
    "            case 1:\n",
    "                lower= row['lower']\n",
    "                upper = row['upper']\n",
    "                jaccard_value = jaccard_index(lower_a=row['lower_bound_iqr'],upper_a=row['upper_bound_iqr'], lower_b=lower, upper_b=upper)\n",
    "                jaccard_results['IQR'].append(jaccard_value)\n",
    "            case 2:\n",
    "                lower= row['lower']\n",
    "                upper = row['upper']\n",
    "                jaccard_value = jaccard_index(lower_a=row['lower_bound_z_score'],upper_a=row['upper_bound_z_score'], lower_b=lower, upper_b=upper)\n",
    "                jaccard_results['Z-SCORE'].append(jaccard_value)\n",
    "            case 3:\n",
    "                lower= row['lower']\n",
    "                upper = row['upper']\n",
    "                jaccard_value = jaccard_index(lower_a=row['lower_bound_mod_z_score'],upper_a=row['upper_bound_mod_z_score'], lower_b=lower, upper_b=upper)\n",
    "                jaccard_results['MOD_Z'].append(jaccard_value)\n",
    "            case 4:\n",
    "                lower= row['lower']\n",
    "                upper = row['upper']\n",
    "                jaccard_value = jaccard_index(lower_a=row['lower_bound_gamma'],upper_a=row['upper_bound_gamma'], lower_b=lower, upper_b=upper)\n",
    "                jaccard_results['GAMMA'].append(jaccard_value)\n"
   ]
  },
  {
   "cell_type": "code",
   "execution_count": 156,
   "metadata": {},
   "outputs": [
    {
     "data": {
      "text/plain": [
       "{'feature': ['Feature_1',\n",
       "  'Feature_2',\n",
       "  'Feature_3',\n",
       "  'Feature_4',\n",
       "  'Feature_5',\n",
       "  'Feature_6',\n",
       "  'Feature_7',\n",
       "  'Feature_8',\n",
       "  'Feature_9',\n",
       "  'Feature_10'],\n",
       " 'IQR': [0.8366369070182103,\n",
       "  0.818433773616221,\n",
       "  0.8474768805941009,\n",
       "  0.8540509210409928,\n",
       "  0.8321685699336256,\n",
       "  0.9586781345238681,\n",
       "  0.9453608164882374,\n",
       "  0.7083348178484263,\n",
       "  0.7529857206012912,\n",
       "  0.7877148795372693],\n",
       " 'Z-SCORE': [0.26392960862834525,\n",
       "  0.24123831485229114,\n",
       "  0.35342760216838354,\n",
       "  0.26839384076310946,\n",
       "  0.2751202563243084,\n",
       "  0.2818453355753879,\n",
       "  0.32930807586799743,\n",
       "  0.24114958465464015,\n",
       "  0.2609175343691312,\n",
       "  0.26852987972754655],\n",
       " 'MOD_Z': [0.7593878163957736,\n",
       "  0.8972778283925554,\n",
       "  0.6363124815372208,\n",
       "  0.8477481306584621,\n",
       "  0.8375150567085582,\n",
       "  0.7366872823162394,\n",
       "  0.7627726788573753,\n",
       "  0.8650011343849852,\n",
       "  0.9645269546761182,\n",
       "  0.7347753822347408],\n",
       " 'GAMMA': [0.22292631248823983,\n",
       "  0.23842336235847697,\n",
       "  0.33506512519949905,\n",
       "  0.26015329035341345,\n",
       "  0.2746147786664705,\n",
       "  0.2680087449281436,\n",
       "  0.26542337057773124,\n",
       "  0.22859348332086493,\n",
       "  0.23981215784500678,\n",
       "  0.2338173085650076]}"
      ]
     },
     "execution_count": 156,
     "metadata": {},
     "output_type": "execute_result"
    }
   ],
   "source": [
    "jaccard_results"
   ]
  },
  {
   "cell_type": "code",
   "execution_count": 157,
   "metadata": {},
   "outputs": [],
   "source": [
    "jaccard_results = pd.DataFrame(jaccard_results)\n"
   ]
  },
  {
   "cell_type": "code",
   "execution_count": 158,
   "metadata": {},
   "outputs": [],
   "source": [
    "final_df = pd.merge(final_df, jaccard_results, on=['feature'], how='left')"
   ]
  },
  {
   "cell_type": "code",
   "execution_count": 159,
   "metadata": {},
   "outputs": [
    {
     "data": {
      "text/html": [
       "<div>\n",
       "<style scoped>\n",
       "    .dataframe tbody tr th:only-of-type {\n",
       "        vertical-align: middle;\n",
       "    }\n",
       "\n",
       "    .dataframe tbody tr th {\n",
       "        vertical-align: top;\n",
       "    }\n",
       "\n",
       "    .dataframe thead th {\n",
       "        text-align: right;\n",
       "    }\n",
       "</style>\n",
       "<table border=\"1\" class=\"dataframe\">\n",
       "  <thead>\n",
       "    <tr style=\"text-align: right;\">\n",
       "      <th></th>\n",
       "      <th>feature</th>\n",
       "      <th>values</th>\n",
       "      <th>lower</th>\n",
       "      <th>upper</th>\n",
       "      <th>lower_bound_iqr</th>\n",
       "      <th>upper_bound_iqr</th>\n",
       "      <th>lower_bound_z_score</th>\n",
       "      <th>upper_bound_z_score</th>\n",
       "      <th>lower_bound_mod_z_score</th>\n",
       "      <th>upper_bound_mod_z_score</th>\n",
       "      <th>lower_bound_gamma</th>\n",
       "      <th>upper_bound_gamma</th>\n",
       "      <th>IQR</th>\n",
       "      <th>Z-SCORE</th>\n",
       "      <th>MOD_Z</th>\n",
       "      <th>GAMMA</th>\n",
       "    </tr>\n",
       "  </thead>\n",
       "  <tbody>\n",
       "    <tr>\n",
       "      <th>0</th>\n",
       "      <td>Feature_1</td>\n",
       "      <td>[12.483570765056164, 9.308678494144077, 13.238...</td>\n",
       "      <td>-3.098726</td>\n",
       "      <td>19.261391</td>\n",
       "      <td>-1.62</td>\n",
       "      <td>21.86</td>\n",
       "      <td>-29.98</td>\n",
       "      <td>54.74</td>\n",
       "      <td>1.33</td>\n",
       "      <td>18.31</td>\n",
       "      <td>-3.08</td>\n",
       "      <td>97.12</td>\n",
       "      <td>0.836637</td>\n",
       "      <td>0.263930</td>\n",
       "      <td>0.759388</td>\n",
       "      <td>0.222926</td>\n",
       "    </tr>\n",
       "    <tr>\n",
       "      <th>1</th>\n",
       "      <td>Feature_2</td>\n",
       "      <td>[11.074694150473775, -0.11157466597867582, 5.2...</td>\n",
       "      <td>-0.111575</td>\n",
       "      <td>23.672111</td>\n",
       "      <td>-3.77</td>\n",
       "      <td>25.29</td>\n",
       "      <td>-35.31</td>\n",
       "      <td>63.28</td>\n",
       "      <td>-1.06</td>\n",
       "      <td>22.08</td>\n",
       "      <td>-0.08</td>\n",
       "      <td>99.51</td>\n",
       "      <td>0.818434</td>\n",
       "      <td>0.241238</td>\n",
       "      <td>0.897278</td>\n",
       "      <td>0.238423</td>\n",
       "    </tr>\n",
       "    <tr>\n",
       "      <th>2</th>\n",
       "      <td>Feature_3</td>\n",
       "      <td>[15.415256215876385, 15.269010260174515, 3.111...</td>\n",
       "      <td>-6.206337</td>\n",
       "      <td>29.263657</td>\n",
       "      <td>-4.54</td>\n",
       "      <td>25.52</td>\n",
       "      <td>-36.49</td>\n",
       "      <td>63.87</td>\n",
       "      <td>-0.72</td>\n",
       "      <td>21.85</td>\n",
       "      <td>-6.28</td>\n",
       "      <td>99.58</td>\n",
       "      <td>0.847477</td>\n",
       "      <td>0.353428</td>\n",
       "      <td>0.636312</td>\n",
       "      <td>0.335065</td>\n",
       "    </tr>\n",
       "    <tr>\n",
       "      <th>3</th>\n",
       "      <td>Feature_4</td>\n",
       "      <td>[6.653986359093935, 15.809686588733873, 17.764...</td>\n",
       "      <td>-2.261323</td>\n",
       "      <td>21.378806</td>\n",
       "      <td>-2.42</td>\n",
       "      <td>25.26</td>\n",
       "      <td>-30.24</td>\n",
       "      <td>57.84</td>\n",
       "      <td>0.93</td>\n",
       "      <td>21.86</td>\n",
       "      <td>-2.27</td>\n",
       "      <td>88.60</td>\n",
       "      <td>0.854051</td>\n",
       "      <td>0.268394</td>\n",
       "      <td>0.847748</td>\n",
       "      <td>0.260153</td>\n",
       "    </tr>\n",
       "    <tr>\n",
       "      <th>4</th>\n",
       "      <td>Feature_5</td>\n",
       "      <td>[15.896485920319133, 10.337592407050545, 20.30...</td>\n",
       "      <td>-1.509606</td>\n",
       "      <td>25.394404</td>\n",
       "      <td>-6.43</td>\n",
       "      <td>25.90</td>\n",
       "      <td>-35.81</td>\n",
       "      <td>61.98</td>\n",
       "      <td>-2.33</td>\n",
       "      <td>21.71</td>\n",
       "      <td>-1.51</td>\n",
       "      <td>96.46</td>\n",
       "      <td>0.832169</td>\n",
       "      <td>0.275120</td>\n",
       "      <td>0.837515</td>\n",
       "      <td>0.274615</td>\n",
       "    </tr>\n",
       "    <tr>\n",
       "      <th>5</th>\n",
       "      <td>Feature_6</td>\n",
       "      <td>[7.177214983652124, 4.989766381856329, 11.3987...</td>\n",
       "      <td>-3.704774</td>\n",
       "      <td>23.918887</td>\n",
       "      <td>-3.13</td>\n",
       "      <td>24.51</td>\n",
       "      <td>-35.53</td>\n",
       "      <td>62.48</td>\n",
       "      <td>0.65</td>\n",
       "      <td>21.00</td>\n",
       "      <td>-3.76</td>\n",
       "      <td>99.31</td>\n",
       "      <td>0.958678</td>\n",
       "      <td>0.281845</td>\n",
       "      <td>0.736687</td>\n",
       "      <td>0.268009</td>\n",
       "    </tr>\n",
       "    <tr>\n",
       "      <th>6</th>\n",
       "      <td>Feature_7</td>\n",
       "      <td>[10.278624561443474, 15.470957592354743, 1.537...</td>\n",
       "      <td>-3.484433</td>\n",
       "      <td>22.866799</td>\n",
       "      <td>-2.18</td>\n",
       "      <td>23.01</td>\n",
       "      <td>-27.85</td>\n",
       "      <td>52.17</td>\n",
       "      <td>-0.32</td>\n",
       "      <td>19.78</td>\n",
       "      <td>-3.50</td>\n",
       "      <td>95.78</td>\n",
       "      <td>0.945361</td>\n",
       "      <td>0.329308</td>\n",
       "      <td>0.762773</td>\n",
       "      <td>0.265423</td>\n",
       "    </tr>\n",
       "    <tr>\n",
       "      <th>7</th>\n",
       "      <td>Feature_8</td>\n",
       "      <td>[1.8520350701183634, 12.759318276547504, 20.02...</td>\n",
       "      <td>-2.423058</td>\n",
       "      <td>20.406573</td>\n",
       "      <td>-6.11</td>\n",
       "      <td>26.12</td>\n",
       "      <td>-34.53</td>\n",
       "      <td>60.14</td>\n",
       "      <td>-1.10</td>\n",
       "      <td>22.44</td>\n",
       "      <td>-2.43</td>\n",
       "      <td>97.44</td>\n",
       "      <td>0.708335</td>\n",
       "      <td>0.241150</td>\n",
       "      <td>0.865001</td>\n",
       "      <td>0.228593</td>\n",
       "    </tr>\n",
       "    <tr>\n",
       "      <th>8</th>\n",
       "      <td>Feature_9</td>\n",
       "      <td>[14.921611992382918, 8.930055778872456, 9.7526...</td>\n",
       "      <td>-0.994030</td>\n",
       "      <td>22.634662</td>\n",
       "      <td>-4.28</td>\n",
       "      <td>27.10</td>\n",
       "      <td>-30.99</td>\n",
       "      <td>59.57</td>\n",
       "      <td>-0.46</td>\n",
       "      <td>22.95</td>\n",
       "      <td>-1.03</td>\n",
       "      <td>97.50</td>\n",
       "      <td>0.752986</td>\n",
       "      <td>0.260918</td>\n",
       "      <td>0.964527</td>\n",
       "      <td>0.239812</td>\n",
       "    </tr>\n",
       "    <tr>\n",
       "      <th>9</th>\n",
       "      <td>Feature_10</td>\n",
       "      <td>[8.887936107722172, 4.265206856332804, 9.42704...</td>\n",
       "      <td>2.042977</td>\n",
       "      <td>24.825052</td>\n",
       "      <td>-0.98</td>\n",
       "      <td>22.37</td>\n",
       "      <td>-28.80</td>\n",
       "      <td>56.04</td>\n",
       "      <td>1.72</td>\n",
       "      <td>19.02</td>\n",
       "      <td>2.08</td>\n",
       "      <td>99.32</td>\n",
       "      <td>0.787715</td>\n",
       "      <td>0.268530</td>\n",
       "      <td>0.734775</td>\n",
       "      <td>0.233817</td>\n",
       "    </tr>\n",
       "  </tbody>\n",
       "</table>\n",
       "</div>"
      ],
      "text/plain": [
       "      feature                                             values     lower  \\\n",
       "0   Feature_1  [12.483570765056164, 9.308678494144077, 13.238... -3.098726   \n",
       "1   Feature_2  [11.074694150473775, -0.11157466597867582, 5.2... -0.111575   \n",
       "2   Feature_3  [15.415256215876385, 15.269010260174515, 3.111... -6.206337   \n",
       "3   Feature_4  [6.653986359093935, 15.809686588733873, 17.764... -2.261323   \n",
       "4   Feature_5  [15.896485920319133, 10.337592407050545, 20.30... -1.509606   \n",
       "5   Feature_6  [7.177214983652124, 4.989766381856329, 11.3987... -3.704774   \n",
       "6   Feature_7  [10.278624561443474, 15.470957592354743, 1.537... -3.484433   \n",
       "7   Feature_8  [1.8520350701183634, 12.759318276547504, 20.02... -2.423058   \n",
       "8   Feature_9  [14.921611992382918, 8.930055778872456, 9.7526... -0.994030   \n",
       "9  Feature_10  [8.887936107722172, 4.265206856332804, 9.42704...  2.042977   \n",
       "\n",
       "       upper  lower_bound_iqr  upper_bound_iqr  lower_bound_z_score  \\\n",
       "0  19.261391            -1.62            21.86               -29.98   \n",
       "1  23.672111            -3.77            25.29               -35.31   \n",
       "2  29.263657            -4.54            25.52               -36.49   \n",
       "3  21.378806            -2.42            25.26               -30.24   \n",
       "4  25.394404            -6.43            25.90               -35.81   \n",
       "5  23.918887            -3.13            24.51               -35.53   \n",
       "6  22.866799            -2.18            23.01               -27.85   \n",
       "7  20.406573            -6.11            26.12               -34.53   \n",
       "8  22.634662            -4.28            27.10               -30.99   \n",
       "9  24.825052            -0.98            22.37               -28.80   \n",
       "\n",
       "   upper_bound_z_score  lower_bound_mod_z_score  upper_bound_mod_z_score  \\\n",
       "0                54.74                     1.33                    18.31   \n",
       "1                63.28                    -1.06                    22.08   \n",
       "2                63.87                    -0.72                    21.85   \n",
       "3                57.84                     0.93                    21.86   \n",
       "4                61.98                    -2.33                    21.71   \n",
       "5                62.48                     0.65                    21.00   \n",
       "6                52.17                    -0.32                    19.78   \n",
       "7                60.14                    -1.10                    22.44   \n",
       "8                59.57                    -0.46                    22.95   \n",
       "9                56.04                     1.72                    19.02   \n",
       "\n",
       "   lower_bound_gamma  upper_bound_gamma       IQR   Z-SCORE     MOD_Z  \\\n",
       "0              -3.08              97.12  0.836637  0.263930  0.759388   \n",
       "1              -0.08              99.51  0.818434  0.241238  0.897278   \n",
       "2              -6.28              99.58  0.847477  0.353428  0.636312   \n",
       "3              -2.27              88.60  0.854051  0.268394  0.847748   \n",
       "4              -1.51              96.46  0.832169  0.275120  0.837515   \n",
       "5              -3.76              99.31  0.958678  0.281845  0.736687   \n",
       "6              -3.50              95.78  0.945361  0.329308  0.762773   \n",
       "7              -2.43              97.44  0.708335  0.241150  0.865001   \n",
       "8              -1.03              97.50  0.752986  0.260918  0.964527   \n",
       "9               2.08              99.32  0.787715  0.268530  0.734775   \n",
       "\n",
       "      GAMMA  \n",
       "0  0.222926  \n",
       "1  0.238423  \n",
       "2  0.335065  \n",
       "3  0.260153  \n",
       "4  0.274615  \n",
       "5  0.268009  \n",
       "6  0.265423  \n",
       "7  0.228593  \n",
       "8  0.239812  \n",
       "9  0.233817  "
      ]
     },
     "execution_count": 159,
     "metadata": {},
     "output_type": "execute_result"
    }
   ],
   "source": [
    "final_df"
   ]
  },
  {
   "cell_type": "code",
   "execution_count": 160,
   "metadata": {},
   "outputs": [],
   "source": [
    "length_df = len(final_df)\n",
    "\n",
    "iqr_mean = final_df['IQR'].sum() / length_df\n",
    "z_score_mean = final_df['Z-SCORE'].sum() / length_df\n",
    "mod_z_mean = final_df['MOD_Z'].sum() / length_df\n",
    "gamma_mean = final_df['GAMMA'].sum() / length_df\n",
    "\n",
    "df_eval = pd.DataFrame({\n",
    "    'IQR': [iqr_mean],\n",
    "    'Z-SCORE': [z_score_mean],\n",
    "    'MOD_Z': [mod_z_mean],\n",
    "    'GAMMA': [gamma_mean]\n",
    "}, index=['mean jaccard coeff'])"
   ]
  },
  {
   "cell_type": "code",
   "execution_count": 161,
   "metadata": {},
   "outputs": [
    {
     "data": {
      "application/vnd.plotly.v1+json": {
       "config": {
        "plotlyServerURL": "https://plot.ly"
       },
       "data": [
        {
         "coloraxis": "coloraxis",
         "hovertemplate": "x: %{x}<br>y: %{y}<br>Jaccard Index: %{z}<extra></extra>",
         "name": "0",
         "texttemplate": "%{z:.2f}",
         "type": "heatmap",
         "x": [
          "IQR",
          "Z-SCORE",
          "MOD_Z",
          "GAMMA"
         ],
         "xaxis": "x",
         "y": [
          0,
          1,
          2,
          3,
          4,
          5,
          6,
          7,
          8,
          9
         ],
         "yaxis": "y",
         "z": [
          [
           0.8366369070182103,
           0.26392960862834525,
           0.7593878163957736,
           0.22292631248823983
          ],
          [
           0.818433773616221,
           0.24123831485229114,
           0.8972778283925554,
           0.23842336235847697
          ],
          [
           0.8474768805941009,
           0.35342760216838354,
           0.6363124815372208,
           0.33506512519949905
          ],
          [
           0.8540509210409928,
           0.26839384076310946,
           0.8477481306584621,
           0.26015329035341345
          ],
          [
           0.8321685699336256,
           0.2751202563243084,
           0.8375150567085582,
           0.2746147786664705
          ],
          [
           0.9586781345238681,
           0.2818453355753879,
           0.7366872823162394,
           0.2680087449281436
          ],
          [
           0.9453608164882374,
           0.32930807586799743,
           0.7627726788573753,
           0.26542337057773124
          ],
          [
           0.7083348178484263,
           0.24114958465464015,
           0.8650011343849852,
           0.22859348332086493
          ],
          [
           0.7529857206012912,
           0.2609175343691312,
           0.9645269546761182,
           0.23981215784500678
          ],
          [
           0.7877148795372693,
           0.26852987972754655,
           0.7347753822347408,
           0.2338173085650076
          ]
         ]
        }
       ],
       "layout": {
        "coloraxis": {
         "colorbar": {
          "title": {
           "text": "Jaccard Index"
          }
         },
         "colorscale": [
          [
           0,
           "rgb(255,255,217)"
          ],
          [
           0.125,
           "rgb(237,248,177)"
          ],
          [
           0.25,
           "rgb(199,233,180)"
          ],
          [
           0.375,
           "rgb(127,205,187)"
          ],
          [
           0.5,
           "rgb(65,182,196)"
          ],
          [
           0.625,
           "rgb(29,145,192)"
          ],
          [
           0.75,
           "rgb(34,94,168)"
          ],
          [
           0.875,
           "rgb(37,52,148)"
          ],
          [
           1,
           "rgb(8,29,88)"
          ]
         ]
        },
        "margin": {
         "t": 60
        },
        "template": {
         "data": {
          "bar": [
           {
            "error_x": {
             "color": "#2a3f5f"
            },
            "error_y": {
             "color": "#2a3f5f"
            },
            "marker": {
             "line": {
              "color": "#E5ECF6",
              "width": 0.5
             },
             "pattern": {
              "fillmode": "overlay",
              "size": 10,
              "solidity": 0.2
             }
            },
            "type": "bar"
           }
          ],
          "barpolar": [
           {
            "marker": {
             "line": {
              "color": "#E5ECF6",
              "width": 0.5
             },
             "pattern": {
              "fillmode": "overlay",
              "size": 10,
              "solidity": 0.2
             }
            },
            "type": "barpolar"
           }
          ],
          "carpet": [
           {
            "aaxis": {
             "endlinecolor": "#2a3f5f",
             "gridcolor": "white",
             "linecolor": "white",
             "minorgridcolor": "white",
             "startlinecolor": "#2a3f5f"
            },
            "baxis": {
             "endlinecolor": "#2a3f5f",
             "gridcolor": "white",
             "linecolor": "white",
             "minorgridcolor": "white",
             "startlinecolor": "#2a3f5f"
            },
            "type": "carpet"
           }
          ],
          "choropleth": [
           {
            "colorbar": {
             "outlinewidth": 0,
             "ticks": ""
            },
            "type": "choropleth"
           }
          ],
          "contour": [
           {
            "colorbar": {
             "outlinewidth": 0,
             "ticks": ""
            },
            "colorscale": [
             [
              0,
              "#0d0887"
             ],
             [
              0.1111111111111111,
              "#46039f"
             ],
             [
              0.2222222222222222,
              "#7201a8"
             ],
             [
              0.3333333333333333,
              "#9c179e"
             ],
             [
              0.4444444444444444,
              "#bd3786"
             ],
             [
              0.5555555555555556,
              "#d8576b"
             ],
             [
              0.6666666666666666,
              "#ed7953"
             ],
             [
              0.7777777777777778,
              "#fb9f3a"
             ],
             [
              0.8888888888888888,
              "#fdca26"
             ],
             [
              1,
              "#f0f921"
             ]
            ],
            "type": "contour"
           }
          ],
          "contourcarpet": [
           {
            "colorbar": {
             "outlinewidth": 0,
             "ticks": ""
            },
            "type": "contourcarpet"
           }
          ],
          "heatmap": [
           {
            "colorbar": {
             "outlinewidth": 0,
             "ticks": ""
            },
            "colorscale": [
             [
              0,
              "#0d0887"
             ],
             [
              0.1111111111111111,
              "#46039f"
             ],
             [
              0.2222222222222222,
              "#7201a8"
             ],
             [
              0.3333333333333333,
              "#9c179e"
             ],
             [
              0.4444444444444444,
              "#bd3786"
             ],
             [
              0.5555555555555556,
              "#d8576b"
             ],
             [
              0.6666666666666666,
              "#ed7953"
             ],
             [
              0.7777777777777778,
              "#fb9f3a"
             ],
             [
              0.8888888888888888,
              "#fdca26"
             ],
             [
              1,
              "#f0f921"
             ]
            ],
            "type": "heatmap"
           }
          ],
          "heatmapgl": [
           {
            "colorbar": {
             "outlinewidth": 0,
             "ticks": ""
            },
            "colorscale": [
             [
              0,
              "#0d0887"
             ],
             [
              0.1111111111111111,
              "#46039f"
             ],
             [
              0.2222222222222222,
              "#7201a8"
             ],
             [
              0.3333333333333333,
              "#9c179e"
             ],
             [
              0.4444444444444444,
              "#bd3786"
             ],
             [
              0.5555555555555556,
              "#d8576b"
             ],
             [
              0.6666666666666666,
              "#ed7953"
             ],
             [
              0.7777777777777778,
              "#fb9f3a"
             ],
             [
              0.8888888888888888,
              "#fdca26"
             ],
             [
              1,
              "#f0f921"
             ]
            ],
            "type": "heatmapgl"
           }
          ],
          "histogram": [
           {
            "marker": {
             "pattern": {
              "fillmode": "overlay",
              "size": 10,
              "solidity": 0.2
             }
            },
            "type": "histogram"
           }
          ],
          "histogram2d": [
           {
            "colorbar": {
             "outlinewidth": 0,
             "ticks": ""
            },
            "colorscale": [
             [
              0,
              "#0d0887"
             ],
             [
              0.1111111111111111,
              "#46039f"
             ],
             [
              0.2222222222222222,
              "#7201a8"
             ],
             [
              0.3333333333333333,
              "#9c179e"
             ],
             [
              0.4444444444444444,
              "#bd3786"
             ],
             [
              0.5555555555555556,
              "#d8576b"
             ],
             [
              0.6666666666666666,
              "#ed7953"
             ],
             [
              0.7777777777777778,
              "#fb9f3a"
             ],
             [
              0.8888888888888888,
              "#fdca26"
             ],
             [
              1,
              "#f0f921"
             ]
            ],
            "type": "histogram2d"
           }
          ],
          "histogram2dcontour": [
           {
            "colorbar": {
             "outlinewidth": 0,
             "ticks": ""
            },
            "colorscale": [
             [
              0,
              "#0d0887"
             ],
             [
              0.1111111111111111,
              "#46039f"
             ],
             [
              0.2222222222222222,
              "#7201a8"
             ],
             [
              0.3333333333333333,
              "#9c179e"
             ],
             [
              0.4444444444444444,
              "#bd3786"
             ],
             [
              0.5555555555555556,
              "#d8576b"
             ],
             [
              0.6666666666666666,
              "#ed7953"
             ],
             [
              0.7777777777777778,
              "#fb9f3a"
             ],
             [
              0.8888888888888888,
              "#fdca26"
             ],
             [
              1,
              "#f0f921"
             ]
            ],
            "type": "histogram2dcontour"
           }
          ],
          "mesh3d": [
           {
            "colorbar": {
             "outlinewidth": 0,
             "ticks": ""
            },
            "type": "mesh3d"
           }
          ],
          "parcoords": [
           {
            "line": {
             "colorbar": {
              "outlinewidth": 0,
              "ticks": ""
             }
            },
            "type": "parcoords"
           }
          ],
          "pie": [
           {
            "automargin": true,
            "type": "pie"
           }
          ],
          "scatter": [
           {
            "fillpattern": {
             "fillmode": "overlay",
             "size": 10,
             "solidity": 0.2
            },
            "type": "scatter"
           }
          ],
          "scatter3d": [
           {
            "line": {
             "colorbar": {
              "outlinewidth": 0,
              "ticks": ""
             }
            },
            "marker": {
             "colorbar": {
              "outlinewidth": 0,
              "ticks": ""
             }
            },
            "type": "scatter3d"
           }
          ],
          "scattercarpet": [
           {
            "marker": {
             "colorbar": {
              "outlinewidth": 0,
              "ticks": ""
             }
            },
            "type": "scattercarpet"
           }
          ],
          "scattergeo": [
           {
            "marker": {
             "colorbar": {
              "outlinewidth": 0,
              "ticks": ""
             }
            },
            "type": "scattergeo"
           }
          ],
          "scattergl": [
           {
            "marker": {
             "colorbar": {
              "outlinewidth": 0,
              "ticks": ""
             }
            },
            "type": "scattergl"
           }
          ],
          "scattermapbox": [
           {
            "marker": {
             "colorbar": {
              "outlinewidth": 0,
              "ticks": ""
             }
            },
            "type": "scattermapbox"
           }
          ],
          "scatterpolar": [
           {
            "marker": {
             "colorbar": {
              "outlinewidth": 0,
              "ticks": ""
             }
            },
            "type": "scatterpolar"
           }
          ],
          "scatterpolargl": [
           {
            "marker": {
             "colorbar": {
              "outlinewidth": 0,
              "ticks": ""
             }
            },
            "type": "scatterpolargl"
           }
          ],
          "scatterternary": [
           {
            "marker": {
             "colorbar": {
              "outlinewidth": 0,
              "ticks": ""
             }
            },
            "type": "scatterternary"
           }
          ],
          "surface": [
           {
            "colorbar": {
             "outlinewidth": 0,
             "ticks": ""
            },
            "colorscale": [
             [
              0,
              "#0d0887"
             ],
             [
              0.1111111111111111,
              "#46039f"
             ],
             [
              0.2222222222222222,
              "#7201a8"
             ],
             [
              0.3333333333333333,
              "#9c179e"
             ],
             [
              0.4444444444444444,
              "#bd3786"
             ],
             [
              0.5555555555555556,
              "#d8576b"
             ],
             [
              0.6666666666666666,
              "#ed7953"
             ],
             [
              0.7777777777777778,
              "#fb9f3a"
             ],
             [
              0.8888888888888888,
              "#fdca26"
             ],
             [
              1,
              "#f0f921"
             ]
            ],
            "type": "surface"
           }
          ],
          "table": [
           {
            "cells": {
             "fill": {
              "color": "#EBF0F8"
             },
             "line": {
              "color": "white"
             }
            },
            "header": {
             "fill": {
              "color": "#C8D4E3"
             },
             "line": {
              "color": "white"
             }
            },
            "type": "table"
           }
          ]
         },
         "layout": {
          "annotationdefaults": {
           "arrowcolor": "#2a3f5f",
           "arrowhead": 0,
           "arrowwidth": 1
          },
          "autotypenumbers": "strict",
          "coloraxis": {
           "colorbar": {
            "outlinewidth": 0,
            "ticks": ""
           }
          },
          "colorscale": {
           "diverging": [
            [
             0,
             "#8e0152"
            ],
            [
             0.1,
             "#c51b7d"
            ],
            [
             0.2,
             "#de77ae"
            ],
            [
             0.3,
             "#f1b6da"
            ],
            [
             0.4,
             "#fde0ef"
            ],
            [
             0.5,
             "#f7f7f7"
            ],
            [
             0.6,
             "#e6f5d0"
            ],
            [
             0.7,
             "#b8e186"
            ],
            [
             0.8,
             "#7fbc41"
            ],
            [
             0.9,
             "#4d9221"
            ],
            [
             1,
             "#276419"
            ]
           ],
           "sequential": [
            [
             0,
             "#0d0887"
            ],
            [
             0.1111111111111111,
             "#46039f"
            ],
            [
             0.2222222222222222,
             "#7201a8"
            ],
            [
             0.3333333333333333,
             "#9c179e"
            ],
            [
             0.4444444444444444,
             "#bd3786"
            ],
            [
             0.5555555555555556,
             "#d8576b"
            ],
            [
             0.6666666666666666,
             "#ed7953"
            ],
            [
             0.7777777777777778,
             "#fb9f3a"
            ],
            [
             0.8888888888888888,
             "#fdca26"
            ],
            [
             1,
             "#f0f921"
            ]
           ],
           "sequentialminus": [
            [
             0,
             "#0d0887"
            ],
            [
             0.1111111111111111,
             "#46039f"
            ],
            [
             0.2222222222222222,
             "#7201a8"
            ],
            [
             0.3333333333333333,
             "#9c179e"
            ],
            [
             0.4444444444444444,
             "#bd3786"
            ],
            [
             0.5555555555555556,
             "#d8576b"
            ],
            [
             0.6666666666666666,
             "#ed7953"
            ],
            [
             0.7777777777777778,
             "#fb9f3a"
            ],
            [
             0.8888888888888888,
             "#fdca26"
            ],
            [
             1,
             "#f0f921"
            ]
           ]
          },
          "colorway": [
           "#636efa",
           "#EF553B",
           "#00cc96",
           "#ab63fa",
           "#FFA15A",
           "#19d3f3",
           "#FF6692",
           "#B6E880",
           "#FF97FF",
           "#FECB52"
          ],
          "font": {
           "color": "#2a3f5f"
          },
          "geo": {
           "bgcolor": "white",
           "lakecolor": "white",
           "landcolor": "#E5ECF6",
           "showlakes": true,
           "showland": true,
           "subunitcolor": "white"
          },
          "hoverlabel": {
           "align": "left"
          },
          "hovermode": "closest",
          "mapbox": {
           "style": "light"
          },
          "paper_bgcolor": "white",
          "plot_bgcolor": "#E5ECF6",
          "polar": {
           "angularaxis": {
            "gridcolor": "white",
            "linecolor": "white",
            "ticks": ""
           },
           "bgcolor": "#E5ECF6",
           "radialaxis": {
            "gridcolor": "white",
            "linecolor": "white",
            "ticks": ""
           }
          },
          "scene": {
           "xaxis": {
            "backgroundcolor": "#E5ECF6",
            "gridcolor": "white",
            "gridwidth": 2,
            "linecolor": "white",
            "showbackground": true,
            "ticks": "",
            "zerolinecolor": "white"
           },
           "yaxis": {
            "backgroundcolor": "#E5ECF6",
            "gridcolor": "white",
            "gridwidth": 2,
            "linecolor": "white",
            "showbackground": true,
            "ticks": "",
            "zerolinecolor": "white"
           },
           "zaxis": {
            "backgroundcolor": "#E5ECF6",
            "gridcolor": "white",
            "gridwidth": 2,
            "linecolor": "white",
            "showbackground": true,
            "ticks": "",
            "zerolinecolor": "white"
           }
          },
          "shapedefaults": {
           "line": {
            "color": "#2a3f5f"
           }
          },
          "ternary": {
           "aaxis": {
            "gridcolor": "white",
            "linecolor": "white",
            "ticks": ""
           },
           "baxis": {
            "gridcolor": "white",
            "linecolor": "white",
            "ticks": ""
           },
           "bgcolor": "#E5ECF6",
           "caxis": {
            "gridcolor": "white",
            "linecolor": "white",
            "ticks": ""
           }
          },
          "title": {
           "x": 0.05
          },
          "xaxis": {
           "automargin": true,
           "gridcolor": "white",
           "linecolor": "white",
           "ticks": "",
           "title": {
            "standoff": 15
           },
           "zerolinecolor": "white",
           "zerolinewidth": 2
          },
          "yaxis": {
           "automargin": true,
           "gridcolor": "white",
           "linecolor": "white",
           "ticks": "",
           "title": {
            "standoff": 15
           },
           "zerolinecolor": "white",
           "zerolinewidth": 2
          }
         }
        },
        "title": {
         "text": "Jaccard Index Heatmap"
        },
        "xaxis": {
         "anchor": "y",
         "constrain": "domain",
         "domain": [
          0,
          1
         ],
         "scaleanchor": "y",
         "title": {
          "text": "Methods"
         }
        },
        "yaxis": {
         "anchor": "x",
         "autorange": "reversed",
         "constrain": "domain",
         "domain": [
          0,
          1
         ],
         "title": {
          "text": "Runs"
         }
        }
       }
      }
     },
     "metadata": {},
     "output_type": "display_data"
    }
   ],
   "source": [
    "df_jaccard = final_df.iloc[:, -4:]\n",
    "\n",
    "fig = px.imshow(df_jaccard, \n",
    "                text_auto=\".2f\",  \n",
    "                color_continuous_scale=\"YlGnBu\", \n",
    "                labels=dict(color=\"Jaccard Index\")) \n",
    "\n",
    "fig.update_layout(\n",
    "    title=\"Jaccard Index Heatmap\",\n",
    "    xaxis_title=\"Methods\",\n",
    "    yaxis_title=\"Runs\"\n",
    ")\n",
    "\n",
    "\n",
    "fig.show()\n"
   ]
  },
  {
   "cell_type": "code",
   "execution_count": 162,
   "metadata": {},
   "outputs": [
    {
     "data": {
      "text/html": [
       "<div>\n",
       "<style scoped>\n",
       "    .dataframe tbody tr th:only-of-type {\n",
       "        vertical-align: middle;\n",
       "    }\n",
       "\n",
       "    .dataframe tbody tr th {\n",
       "        vertical-align: top;\n",
       "    }\n",
       "\n",
       "    .dataframe thead th {\n",
       "        text-align: right;\n",
       "    }\n",
       "</style>\n",
       "<table border=\"1\" class=\"dataframe\">\n",
       "  <thead>\n",
       "    <tr style=\"text-align: right;\">\n",
       "      <th></th>\n",
       "      <th>IQR</th>\n",
       "      <th>Z-SCORE</th>\n",
       "      <th>MOD_Z</th>\n",
       "      <th>GAMMA</th>\n",
       "    </tr>\n",
       "  </thead>\n",
       "  <tbody>\n",
       "    <tr>\n",
       "      <th>mean jaccard coeff</th>\n",
       "      <td>0.834184</td>\n",
       "      <td>0.278386</td>\n",
       "      <td>0.8042</td>\n",
       "      <td>0.256684</td>\n",
       "    </tr>\n",
       "  </tbody>\n",
       "</table>\n",
       "</div>"
      ],
      "text/plain": [
       "                         IQR   Z-SCORE   MOD_Z     GAMMA\n",
       "mean jaccard coeff  0.834184  0.278386  0.8042  0.256684"
      ]
     },
     "execution_count": 162,
     "metadata": {},
     "output_type": "execute_result"
    }
   ],
   "source": [
    "df_eval"
   ]
  },
  {
   "cell_type": "code",
   "execution_count": 163,
   "metadata": {},
   "outputs": [],
   "source": [
    "best_method = df_eval.idxmax(axis=1)"
   ]
  },
  {
   "cell_type": "code",
   "execution_count": 164,
   "metadata": {},
   "outputs": [
    {
     "name": "stdout",
     "output_type": "stream",
     "text": [
      "Best Method based on labeled data: IQR\n"
     ]
    }
   ],
   "source": [
    "print(f'Best Method based on labeled data: {best_method.values[0]}')"
   ]
  }
 ],
 "metadata": {
  "kernelspec": {
   "display_name": ".env",
   "language": "python",
   "name": "python3"
  },
  "language_info": {
   "codemirror_mode": {
    "name": "ipython",
    "version": 3
   },
   "file_extension": ".py",
   "mimetype": "text/x-python",
   "name": "python",
   "nbconvert_exporter": "python",
   "pygments_lexer": "ipython3",
   "version": "3.12.6"
  }
 },
 "nbformat": 4,
 "nbformat_minor": 2
}
