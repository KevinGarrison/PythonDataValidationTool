{
 "cells": [
  {
   "cell_type": "code",
   "execution_count": 27,
   "metadata": {},
   "outputs": [],
   "source": [
    "import pandas as pd, numpy as np\n",
    "from sklearn.ensemble import IsolationForest\n",
    "from scipy.stats import skew, kurtosis\n",
    "import numpy as np\n",
    "import plotly.express as px\n"
   ]
  },
  {
   "cell_type": "code",
   "execution_count": 28,
   "metadata": {},
   "outputs": [],
   "source": [
    "def iqr_approach(series, feature):\n",
    "    summary = series.describe()\n",
    "    return pd.DataFrame({\n",
    "        'feature': [feature],\n",
    "        'lower_bound_iqr': round(summary['25%'] - 1.5 * (summary['75%'] - summary['25%']), 2),\n",
    "        'upper_bound_iqr': round(summary['75%'] + 1.5 * (summary['75%'] - summary['25%']), 2)\n",
    "    })\n",
    "\n",
    "def std_approach(series, feature, alpha: int = 3):\n",
    "    summary = series.describe()\n",
    "    return pd.DataFrame({\n",
    "        'feature': [feature],\n",
    "        'lower_bound_std': round(summary['mean'] - alpha * summary['std'], 2),\n",
    "        'upper_bound_std': round(summary['mean'] + alpha * summary['std'], 2)\n",
    "    })\n",
    "\n",
    "def modified_z_score_approach(series, feature, alpha: int = 3.5):\n",
    "    median = series.median()\n",
    "    absolute_deviations = np.abs(series - median)\n",
    "    mad = absolute_deviations.median()\n",
    "\n",
    "    if mad == 0:\n",
    "        lower_bound = upper_bound = median\n",
    "    else:\n",
    "        lower_bound = round(median - alpha * mad, 2)\n",
    "        upper_bound = round(median + alpha * mad, 2)\n",
    "\n",
    "    return pd.DataFrame({\n",
    "        'feature': [feature],\n",
    "        'lower_bound_mod_z_score': lower_bound,\n",
    "        'upper_bound_mod_z_score': upper_bound\n",
    "    })\n",
    "\n",
    "def f1(z: pd.Series, beta_1: int, beta_2: int) -> pd.Series:\n",
    "    anomaly_mask = (z <= (-beta_1)) | (z >= beta_2)\n",
    "    return anomaly_mask\n",
    "\n",
    "def f2(z: pd.Series, beta_1: int, beta_2: int, gamma: int = 3) -> pd.Series:\n",
    "    isolation_forest = IsolationForest()\n",
    "    mask_f1 = f1(z, gamma * beta_1, gamma * beta_2)\n",
    "    isolation_forest.fit(z.values.reshape(-1, 1))  \n",
    "    mask_iforest = isolation_forest.predict(z.values.reshape(-1, 1)) == -1 \n",
    "    return mask_f1 & mask_iforest\n",
    "\n",
    "def gamma_outlier(series, feature, alphas: int = 6, alphak: int = 30):\n",
    "    \n",
    "    mean = series.mean()\n",
    "    std_dev = series.std()\n",
    "\n",
    "    z_scores = (series - mean) / std_dev\n",
    "\n",
    "    skew_result, kurt_result = abs(skew(z_scores)), abs(kurtosis(z_scores))\n",
    "    \n",
    "    if skew_result < alphas and kurt_result < alphak:\n",
    "        mask = f1(z_scores, beta_1=3, beta_2=3)\n",
    "    else:\n",
    "        mask = f2(z_scores, beta_1=3, beta_2=3, gamma=2)\n",
    "\n",
    "    filtered_data = series[~mask]\n",
    "\n",
    "    if len(filtered_data) > 0:\n",
    "        return pd.DataFrame({\n",
    "            'feature': [feature],\n",
    "            'lower_bound_gamma': round(filtered_data.min(), 2),\n",
    "            'upper_bound_gamma': round(filtered_data.max(), 2)\n",
    "        })\n",
    "\n",
    "def jaccard_index(lower_a, upper_a, lower_b, upper_b):\n",
    "    overlap = max(0, min(upper_b, upper_a) - max(lower_b, lower_a))\n",
    "    distance = max(0, max(upper_b, upper_a) - min(lower_b, lower_a))\n",
    "    \n",
    "    return overlap / distance if distance != 0 else 0\n",
    "\n"
   ]
  },
  {
   "cell_type": "code",
   "execution_count": 29,
   "metadata": {},
   "outputs": [
    {
     "data": {
      "text/html": [
       "<div>\n",
       "<style scoped>\n",
       "    .dataframe tbody tr th:only-of-type {\n",
       "        vertical-align: middle;\n",
       "    }\n",
       "\n",
       "    .dataframe tbody tr th {\n",
       "        vertical-align: top;\n",
       "    }\n",
       "\n",
       "    .dataframe thead th {\n",
       "        text-align: right;\n",
       "    }\n",
       "</style>\n",
       "<table border=\"1\" class=\"dataframe\">\n",
       "  <thead>\n",
       "    <tr style=\"text-align: right;\">\n",
       "      <th></th>\n",
       "      <th>feature</th>\n",
       "      <th>values</th>\n",
       "      <th>lower</th>\n",
       "      <th>upper</th>\n",
       "    </tr>\n",
       "  </thead>\n",
       "  <tbody>\n",
       "    <tr>\n",
       "      <th>0</th>\n",
       "      <td>Feature_1</td>\n",
       "      <td>[12.483570765056164, 9.308678494144077, 13.238...</td>\n",
       "      <td>-3.098726</td>\n",
       "      <td>19.261391</td>\n",
       "    </tr>\n",
       "    <tr>\n",
       "      <th>1</th>\n",
       "      <td>Feature_2</td>\n",
       "      <td>[11.074694150473775, -0.11157466597867582, 5.2...</td>\n",
       "      <td>-0.111575</td>\n",
       "      <td>23.672111</td>\n",
       "    </tr>\n",
       "    <tr>\n",
       "      <th>2</th>\n",
       "      <td>Feature_3</td>\n",
       "      <td>[15.415256215876385, 15.269010260174515, 3.111...</td>\n",
       "      <td>-6.206337</td>\n",
       "      <td>29.263657</td>\n",
       "    </tr>\n",
       "    <tr>\n",
       "      <th>3</th>\n",
       "      <td>Feature_4</td>\n",
       "      <td>[6.653986359093935, 15.809686588733873, 17.764...</td>\n",
       "      <td>-2.261323</td>\n",
       "      <td>21.378806</td>\n",
       "    </tr>\n",
       "    <tr>\n",
       "      <th>4</th>\n",
       "      <td>Feature_5</td>\n",
       "      <td>[15.896485920319133, 10.337592407050545, 20.30...</td>\n",
       "      <td>-1.509606</td>\n",
       "      <td>25.394404</td>\n",
       "    </tr>\n",
       "    <tr>\n",
       "      <th>5</th>\n",
       "      <td>Feature_6</td>\n",
       "      <td>[7.177214983652124, 4.989766381856329, 11.3987...</td>\n",
       "      <td>-3.704774</td>\n",
       "      <td>23.918887</td>\n",
       "    </tr>\n",
       "    <tr>\n",
       "      <th>6</th>\n",
       "      <td>Feature_7</td>\n",
       "      <td>[10.278624561443474, 15.470957592354743, 1.537...</td>\n",
       "      <td>-3.484433</td>\n",
       "      <td>22.866799</td>\n",
       "    </tr>\n",
       "    <tr>\n",
       "      <th>7</th>\n",
       "      <td>Feature_8</td>\n",
       "      <td>[1.8520350701183634, 12.759318276547504, 20.02...</td>\n",
       "      <td>-2.423058</td>\n",
       "      <td>20.406573</td>\n",
       "    </tr>\n",
       "    <tr>\n",
       "      <th>8</th>\n",
       "      <td>Feature_9</td>\n",
       "      <td>[14.921611992382918, 8.930055778872456, 9.7526...</td>\n",
       "      <td>-0.994030</td>\n",
       "      <td>22.634662</td>\n",
       "    </tr>\n",
       "    <tr>\n",
       "      <th>9</th>\n",
       "      <td>Feature_10</td>\n",
       "      <td>[8.887936107722172, 4.265206856332804, 9.42704...</td>\n",
       "      <td>2.042977</td>\n",
       "      <td>24.825052</td>\n",
       "    </tr>\n",
       "  </tbody>\n",
       "</table>\n",
       "</div>"
      ],
      "text/plain": [
       "      feature                                             values     lower  \\\n",
       "0   Feature_1  [12.483570765056164, 9.308678494144077, 13.238... -3.098726   \n",
       "1   Feature_2  [11.074694150473775, -0.11157466597867582, 5.2... -0.111575   \n",
       "2   Feature_3  [15.415256215876385, 15.269010260174515, 3.111... -6.206337   \n",
       "3   Feature_4  [6.653986359093935, 15.809686588733873, 17.764... -2.261323   \n",
       "4   Feature_5  [15.896485920319133, 10.337592407050545, 20.30... -1.509606   \n",
       "5   Feature_6  [7.177214983652124, 4.989766381856329, 11.3987... -3.704774   \n",
       "6   Feature_7  [10.278624561443474, 15.470957592354743, 1.537... -3.484433   \n",
       "7   Feature_8  [1.8520350701183634, 12.759318276547504, 20.02... -2.423058   \n",
       "8   Feature_9  [14.921611992382918, 8.930055778872456, 9.7526... -0.994030   \n",
       "9  Feature_10  [8.887936107722172, 4.265206856332804, 9.42704...  2.042977   \n",
       "\n",
       "       upper  \n",
       "0  19.261391  \n",
       "1  23.672111  \n",
       "2  29.263657  \n",
       "3  21.378806  \n",
       "4  25.394404  \n",
       "5  23.918887  \n",
       "6  22.866799  \n",
       "7  20.406573  \n",
       "8  22.634662  \n",
       "9  24.825052  "
      ]
     },
     "execution_count": 29,
     "metadata": {},
     "output_type": "execute_result"
    }
   ],
   "source": [
    "np.random.seed(42)\n",
    "\n",
    "num_features = 10  \n",
    "num_data_points = 100  \n",
    "num_anomalies = 5  \n",
    "\n",
    "\n",
    "data = {}\n",
    "min_values = []\n",
    "max_values = []\n",
    "\n",
    "for i in range(1, num_features + 1):\n",
    "    feature_name = f'Feature_{i}'\n",
    "    normal_data = np.random.normal(loc=10, scale=5, size=num_data_points)\n",
    "    min_values.append(np.min(normal_data))  \n",
    "    max_values.append(np.max(normal_data))  \n",
    "    anomalies = np.random.uniform(low=50, high=100, size=num_anomalies)\n",
    "    combined_data = np.concatenate([normal_data, anomalies]) \n",
    "    data[feature_name] = combined_data\n",
    "features_list = []\n",
    "values_list = []\n",
    "\n",
    "for feature in data:\n",
    "    features_list.append(feature)\n",
    "    values_list.append(data[feature].tolist()) \n",
    "\n",
    "final_df = pd.DataFrame({\n",
    "    'feature': features_list,\n",
    "    'values': values_list,\n",
    "    'lower': min_values,\n",
    "    'upper': max_values\n",
    "})\n",
    "\n",
    "final_df"
   ]
  },
  {
   "cell_type": "code",
   "execution_count": 30,
   "metadata": {},
   "outputs": [],
   "source": [
    "# Initialize empty DataFrames for filter ranges\n",
    "filter_ranges_iqr = []\n",
    "filter_ranges_std = []\n",
    "filter_ranges_modified_z = []\n",
    "filter_ranges_gamma = []\n",
    "\n",
    "# Iterate over each row in the final DataFrame\n",
    "for index, row in final_df.iterrows():\n",
    "    # Extract the 'Values' column as a Series\n",
    "    values_series = row['values']\n",
    "    feature = row['feature']\n",
    "    # Flatten the lists into a single Series\n",
    "    #values_series = values_series.explode()\n",
    "\n",
    "    # Convert to float if necessary\n",
    "    values_series = pd.Series(values_series)\n",
    "\n",
    "    # Apply each outlier detection method on the Series\n",
    "    filter_row_iqr = iqr_approach(values_series, feature)\n",
    "    filter_row_std = std_approach(values_series, feature)\n",
    "    filter_row_modified_z = modified_z_score_approach(values_series, feature)\n",
    "    filter_row_gamma = gamma_outlier(values_series, feature)\n",
    "\n",
    "    filter_ranges_iqr.append(filter_row_iqr)\n",
    "    filter_ranges_std.append(filter_row_std)\n",
    "    filter_ranges_modified_z.append(filter_row_modified_z)\n",
    "    filter_ranges_gamma.append(filter_row_gamma)\n",
    "    "
   ]
  },
  {
   "cell_type": "code",
   "execution_count": 31,
   "metadata": {},
   "outputs": [],
   "source": [
    "filter_ranges_iqr = pd.concat(filter_ranges_iqr, ignore_index=True)"
   ]
  },
  {
   "cell_type": "code",
   "execution_count": 32,
   "metadata": {},
   "outputs": [],
   "source": [
    "filter_ranges_std = pd.concat(filter_ranges_std, ignore_index=True)"
   ]
  },
  {
   "cell_type": "code",
   "execution_count": 33,
   "metadata": {},
   "outputs": [],
   "source": [
    "filter_ranges_modified_z = pd.concat(filter_ranges_modified_z, ignore_index=True)"
   ]
  },
  {
   "cell_type": "code",
   "execution_count": 34,
   "metadata": {},
   "outputs": [],
   "source": [
    "filter_ranges_gamma = pd.concat(filter_ranges_gamma, ignore_index=True)"
   ]
  },
  {
   "cell_type": "code",
   "execution_count": 35,
   "metadata": {},
   "outputs": [
    {
     "data": {
      "text/html": [
       "<div>\n",
       "<style scoped>\n",
       "    .dataframe tbody tr th:only-of-type {\n",
       "        vertical-align: middle;\n",
       "    }\n",
       "\n",
       "    .dataframe tbody tr th {\n",
       "        vertical-align: top;\n",
       "    }\n",
       "\n",
       "    .dataframe thead th {\n",
       "        text-align: right;\n",
       "    }\n",
       "</style>\n",
       "<table border=\"1\" class=\"dataframe\">\n",
       "  <thead>\n",
       "    <tr style=\"text-align: right;\">\n",
       "      <th></th>\n",
       "      <th>feature</th>\n",
       "      <th>lower_bound_iqr</th>\n",
       "      <th>upper_bound_iqr</th>\n",
       "    </tr>\n",
       "  </thead>\n",
       "  <tbody>\n",
       "    <tr>\n",
       "      <th>0</th>\n",
       "      <td>Feature_1</td>\n",
       "      <td>-1.62</td>\n",
       "      <td>21.86</td>\n",
       "    </tr>\n",
       "    <tr>\n",
       "      <th>1</th>\n",
       "      <td>Feature_2</td>\n",
       "      <td>-3.77</td>\n",
       "      <td>25.29</td>\n",
       "    </tr>\n",
       "    <tr>\n",
       "      <th>2</th>\n",
       "      <td>Feature_3</td>\n",
       "      <td>-4.54</td>\n",
       "      <td>25.52</td>\n",
       "    </tr>\n",
       "    <tr>\n",
       "      <th>3</th>\n",
       "      <td>Feature_4</td>\n",
       "      <td>-2.42</td>\n",
       "      <td>25.26</td>\n",
       "    </tr>\n",
       "    <tr>\n",
       "      <th>4</th>\n",
       "      <td>Feature_5</td>\n",
       "      <td>-6.43</td>\n",
       "      <td>25.90</td>\n",
       "    </tr>\n",
       "    <tr>\n",
       "      <th>5</th>\n",
       "      <td>Feature_6</td>\n",
       "      <td>-3.13</td>\n",
       "      <td>24.51</td>\n",
       "    </tr>\n",
       "    <tr>\n",
       "      <th>6</th>\n",
       "      <td>Feature_7</td>\n",
       "      <td>-2.18</td>\n",
       "      <td>23.01</td>\n",
       "    </tr>\n",
       "    <tr>\n",
       "      <th>7</th>\n",
       "      <td>Feature_8</td>\n",
       "      <td>-6.11</td>\n",
       "      <td>26.12</td>\n",
       "    </tr>\n",
       "    <tr>\n",
       "      <th>8</th>\n",
       "      <td>Feature_9</td>\n",
       "      <td>-4.28</td>\n",
       "      <td>27.10</td>\n",
       "    </tr>\n",
       "    <tr>\n",
       "      <th>9</th>\n",
       "      <td>Feature_10</td>\n",
       "      <td>-0.98</td>\n",
       "      <td>22.37</td>\n",
       "    </tr>\n",
       "  </tbody>\n",
       "</table>\n",
       "</div>"
      ],
      "text/plain": [
       "      feature  lower_bound_iqr  upper_bound_iqr\n",
       "0   Feature_1            -1.62            21.86\n",
       "1   Feature_2            -3.77            25.29\n",
       "2   Feature_3            -4.54            25.52\n",
       "3   Feature_4            -2.42            25.26\n",
       "4   Feature_5            -6.43            25.90\n",
       "5   Feature_6            -3.13            24.51\n",
       "6   Feature_7            -2.18            23.01\n",
       "7   Feature_8            -6.11            26.12\n",
       "8   Feature_9            -4.28            27.10\n",
       "9  Feature_10            -0.98            22.37"
      ]
     },
     "execution_count": 35,
     "metadata": {},
     "output_type": "execute_result"
    }
   ],
   "source": [
    "filter_ranges_iqr"
   ]
  },
  {
   "cell_type": "code",
   "execution_count": 36,
   "metadata": {},
   "outputs": [],
   "source": [
    "dfs = [filter_ranges_iqr, filter_ranges_std, filter_ranges_modified_z, filter_ranges_gamma]\n",
    "\n",
    "for df in dfs:\n",
    "    final_df = pd.merge(final_df, df, on=['feature'], how='left')"
   ]
  },
  {
   "cell_type": "code",
   "execution_count": 37,
   "metadata": {},
   "outputs": [
    {
     "data": {
      "text/html": [
       "<div>\n",
       "<style scoped>\n",
       "    .dataframe tbody tr th:only-of-type {\n",
       "        vertical-align: middle;\n",
       "    }\n",
       "\n",
       "    .dataframe tbody tr th {\n",
       "        vertical-align: top;\n",
       "    }\n",
       "\n",
       "    .dataframe thead th {\n",
       "        text-align: right;\n",
       "    }\n",
       "</style>\n",
       "<table border=\"1\" class=\"dataframe\">\n",
       "  <thead>\n",
       "    <tr style=\"text-align: right;\">\n",
       "      <th></th>\n",
       "      <th>feature</th>\n",
       "      <th>values</th>\n",
       "      <th>lower</th>\n",
       "      <th>upper</th>\n",
       "      <th>lower_bound_iqr</th>\n",
       "      <th>upper_bound_iqr</th>\n",
       "      <th>lower_bound_std</th>\n",
       "      <th>upper_bound_std</th>\n",
       "      <th>lower_bound_mod_z_score</th>\n",
       "      <th>upper_bound_mod_z_score</th>\n",
       "      <th>lower_bound_gamma</th>\n",
       "      <th>upper_bound_gamma</th>\n",
       "    </tr>\n",
       "  </thead>\n",
       "  <tbody>\n",
       "    <tr>\n",
       "      <th>0</th>\n",
       "      <td>Feature_1</td>\n",
       "      <td>[12.483570765056164, 9.308678494144077, 13.238...</td>\n",
       "      <td>-3.098726</td>\n",
       "      <td>19.261391</td>\n",
       "      <td>-1.62</td>\n",
       "      <td>21.86</td>\n",
       "      <td>-29.98</td>\n",
       "      <td>54.74</td>\n",
       "      <td>-0.08</td>\n",
       "      <td>19.72</td>\n",
       "      <td>-3.10</td>\n",
       "      <td>19.26</td>\n",
       "    </tr>\n",
       "    <tr>\n",
       "      <th>1</th>\n",
       "      <td>Feature_2</td>\n",
       "      <td>[11.074694150473775, -0.11157466597867582, 5.2...</td>\n",
       "      <td>-0.111575</td>\n",
       "      <td>23.672111</td>\n",
       "      <td>-3.77</td>\n",
       "      <td>25.29</td>\n",
       "      <td>-35.31</td>\n",
       "      <td>63.28</td>\n",
       "      <td>-2.98</td>\n",
       "      <td>24.01</td>\n",
       "      <td>-0.11</td>\n",
       "      <td>57.00</td>\n",
       "    </tr>\n",
       "    <tr>\n",
       "      <th>2</th>\n",
       "      <td>Feature_3</td>\n",
       "      <td>[15.415256215876385, 15.269010260174515, 3.111...</td>\n",
       "      <td>-6.206337</td>\n",
       "      <td>29.263657</td>\n",
       "      <td>-4.54</td>\n",
       "      <td>25.52</td>\n",
       "      <td>-36.49</td>\n",
       "      <td>63.87</td>\n",
       "      <td>-2.60</td>\n",
       "      <td>23.73</td>\n",
       "      <td>-6.21</td>\n",
       "      <td>29.26</td>\n",
       "    </tr>\n",
       "    <tr>\n",
       "      <th>3</th>\n",
       "      <td>Feature_4</td>\n",
       "      <td>[6.653986359093935, 15.809686588733873, 17.764...</td>\n",
       "      <td>-2.261323</td>\n",
       "      <td>21.378806</td>\n",
       "      <td>-2.42</td>\n",
       "      <td>25.26</td>\n",
       "      <td>-30.24</td>\n",
       "      <td>57.84</td>\n",
       "      <td>-0.81</td>\n",
       "      <td>23.60</td>\n",
       "      <td>-2.26</td>\n",
       "      <td>55.68</td>\n",
       "    </tr>\n",
       "    <tr>\n",
       "      <th>4</th>\n",
       "      <td>Feature_5</td>\n",
       "      <td>[15.896485920319133, 10.337592407050545, 20.30...</td>\n",
       "      <td>-1.509606</td>\n",
       "      <td>25.394404</td>\n",
       "      <td>-6.43</td>\n",
       "      <td>25.90</td>\n",
       "      <td>-35.81</td>\n",
       "      <td>61.98</td>\n",
       "      <td>-4.34</td>\n",
       "      <td>23.71</td>\n",
       "      <td>-1.51</td>\n",
       "      <td>25.39</td>\n",
       "    </tr>\n",
       "    <tr>\n",
       "      <th>5</th>\n",
       "      <td>Feature_6</td>\n",
       "      <td>[7.177214983652124, 4.989766381856329, 11.3987...</td>\n",
       "      <td>-3.704774</td>\n",
       "      <td>23.918887</td>\n",
       "      <td>-3.13</td>\n",
       "      <td>24.51</td>\n",
       "      <td>-35.53</td>\n",
       "      <td>62.48</td>\n",
       "      <td>-1.04</td>\n",
       "      <td>22.69</td>\n",
       "      <td>-3.70</td>\n",
       "      <td>56.23</td>\n",
       "    </tr>\n",
       "    <tr>\n",
       "      <th>6</th>\n",
       "      <td>Feature_7</td>\n",
       "      <td>[10.278624561443474, 15.470957592354743, 1.537...</td>\n",
       "      <td>-3.484433</td>\n",
       "      <td>22.866799</td>\n",
       "      <td>-2.18</td>\n",
       "      <td>23.01</td>\n",
       "      <td>-27.85</td>\n",
       "      <td>52.17</td>\n",
       "      <td>-2.00</td>\n",
       "      <td>21.46</td>\n",
       "      <td>-3.48</td>\n",
       "      <td>50.92</td>\n",
       "    </tr>\n",
       "    <tr>\n",
       "      <th>7</th>\n",
       "      <td>Feature_8</td>\n",
       "      <td>[1.8520350701183634, 12.759318276547504, 20.02...</td>\n",
       "      <td>-2.423058</td>\n",
       "      <td>20.406573</td>\n",
       "      <td>-6.11</td>\n",
       "      <td>26.12</td>\n",
       "      <td>-34.53</td>\n",
       "      <td>60.14</td>\n",
       "      <td>-3.06</td>\n",
       "      <td>24.40</td>\n",
       "      <td>-2.42</td>\n",
       "      <td>54.47</td>\n",
       "    </tr>\n",
       "    <tr>\n",
       "      <th>8</th>\n",
       "      <td>Feature_9</td>\n",
       "      <td>[14.921611992382918, 8.930055778872456, 9.7526...</td>\n",
       "      <td>-0.994030</td>\n",
       "      <td>22.634662</td>\n",
       "      <td>-4.28</td>\n",
       "      <td>27.10</td>\n",
       "      <td>-30.99</td>\n",
       "      <td>59.57</td>\n",
       "      <td>-2.41</td>\n",
       "      <td>24.90</td>\n",
       "      <td>-0.99</td>\n",
       "      <td>54.12</td>\n",
       "    </tr>\n",
       "    <tr>\n",
       "      <th>9</th>\n",
       "      <td>Feature_10</td>\n",
       "      <td>[8.887936107722172, 4.265206856332804, 9.42704...</td>\n",
       "      <td>2.042977</td>\n",
       "      <td>24.825052</td>\n",
       "      <td>-0.98</td>\n",
       "      <td>22.37</td>\n",
       "      <td>-28.80</td>\n",
       "      <td>56.04</td>\n",
       "      <td>0.28</td>\n",
       "      <td>20.46</td>\n",
       "      <td>2.04</td>\n",
       "      <td>52.01</td>\n",
       "    </tr>\n",
       "  </tbody>\n",
       "</table>\n",
       "</div>"
      ],
      "text/plain": [
       "      feature                                             values     lower  \\\n",
       "0   Feature_1  [12.483570765056164, 9.308678494144077, 13.238... -3.098726   \n",
       "1   Feature_2  [11.074694150473775, -0.11157466597867582, 5.2... -0.111575   \n",
       "2   Feature_3  [15.415256215876385, 15.269010260174515, 3.111... -6.206337   \n",
       "3   Feature_4  [6.653986359093935, 15.809686588733873, 17.764... -2.261323   \n",
       "4   Feature_5  [15.896485920319133, 10.337592407050545, 20.30... -1.509606   \n",
       "5   Feature_6  [7.177214983652124, 4.989766381856329, 11.3987... -3.704774   \n",
       "6   Feature_7  [10.278624561443474, 15.470957592354743, 1.537... -3.484433   \n",
       "7   Feature_8  [1.8520350701183634, 12.759318276547504, 20.02... -2.423058   \n",
       "8   Feature_9  [14.921611992382918, 8.930055778872456, 9.7526... -0.994030   \n",
       "9  Feature_10  [8.887936107722172, 4.265206856332804, 9.42704...  2.042977   \n",
       "\n",
       "       upper  lower_bound_iqr  upper_bound_iqr  lower_bound_std  \\\n",
       "0  19.261391            -1.62            21.86           -29.98   \n",
       "1  23.672111            -3.77            25.29           -35.31   \n",
       "2  29.263657            -4.54            25.52           -36.49   \n",
       "3  21.378806            -2.42            25.26           -30.24   \n",
       "4  25.394404            -6.43            25.90           -35.81   \n",
       "5  23.918887            -3.13            24.51           -35.53   \n",
       "6  22.866799            -2.18            23.01           -27.85   \n",
       "7  20.406573            -6.11            26.12           -34.53   \n",
       "8  22.634662            -4.28            27.10           -30.99   \n",
       "9  24.825052            -0.98            22.37           -28.80   \n",
       "\n",
       "   upper_bound_std  lower_bound_mod_z_score  upper_bound_mod_z_score  \\\n",
       "0            54.74                    -0.08                    19.72   \n",
       "1            63.28                    -2.98                    24.01   \n",
       "2            63.87                    -2.60                    23.73   \n",
       "3            57.84                    -0.81                    23.60   \n",
       "4            61.98                    -4.34                    23.71   \n",
       "5            62.48                    -1.04                    22.69   \n",
       "6            52.17                    -2.00                    21.46   \n",
       "7            60.14                    -3.06                    24.40   \n",
       "8            59.57                    -2.41                    24.90   \n",
       "9            56.04                     0.28                    20.46   \n",
       "\n",
       "   lower_bound_gamma  upper_bound_gamma  \n",
       "0              -3.10              19.26  \n",
       "1              -0.11              57.00  \n",
       "2              -6.21              29.26  \n",
       "3              -2.26              55.68  \n",
       "4              -1.51              25.39  \n",
       "5              -3.70              56.23  \n",
       "6              -3.48              50.92  \n",
       "7              -2.42              54.47  \n",
       "8              -0.99              54.12  \n",
       "9               2.04              52.01  "
      ]
     },
     "execution_count": 37,
     "metadata": {},
     "output_type": "execute_result"
    }
   ],
   "source": [
    "final_df"
   ]
  },
  {
   "cell_type": "code",
   "execution_count": 38,
   "metadata": {},
   "outputs": [],
   "source": [
    "# Calculate Jaccard index for each feature\n",
    "jaccard_results = {\n",
    "                    'feature':[],\n",
    "                    'IQR':[],\n",
    "                   'STD': [],\n",
    "                   'MOD_Z': [],\n",
    "                   'GAMMA':[]\n",
    "                   }\n",
    "\n",
    "for method_iters in range(5):\n",
    "    for index, row in final_df.iterrows():\n",
    "        match method_iters:\n",
    "            case 0:\n",
    "                jaccard_results['feature'].append(row['feature'])\n",
    "            case 1:\n",
    "                lower= row['lower']\n",
    "                upper = row['upper']\n",
    "                jaccard_value = jaccard_index(lower_a=row['lower_bound_iqr'],upper_a=row['upper_bound_iqr'], lower_b=lower, upper_b=upper)\n",
    "                jaccard_results['IQR'].append(jaccard_value)\n",
    "            case 2:\n",
    "                lower= row['lower']\n",
    "                upper = row['upper']\n",
    "                jaccard_value = jaccard_index(lower_a=row['lower_bound_std'],upper_a=row['upper_bound_std'], lower_b=lower, upper_b=upper)\n",
    "                jaccard_results['STD'].append(jaccard_value)\n",
    "            case 3:\n",
    "                lower= row['lower']\n",
    "                upper = row['upper']\n",
    "                jaccard_value = jaccard_index(lower_a=row['lower_bound_mod_z_score'],upper_a=row['upper_bound_mod_z_score'], lower_b=lower, upper_b=upper)\n",
    "                jaccard_results['MOD_Z'].append(jaccard_value)\n",
    "            case 4:\n",
    "                lower= row['lower']\n",
    "                upper = row['upper']\n",
    "                jaccard_value = jaccard_index(lower_a=row['lower_bound_gamma'],upper_a=row['upper_bound_gamma'], lower_b=lower, upper_b=upper)\n",
    "                jaccard_results['GAMMA'].append(jaccard_value)\n"
   ]
  },
  {
   "cell_type": "code",
   "execution_count": 39,
   "metadata": {},
   "outputs": [],
   "source": [
    "jaccard_results = pd.DataFrame(jaccard_results)\n"
   ]
  },
  {
   "cell_type": "code",
   "execution_count": 40,
   "metadata": {},
   "outputs": [],
   "source": [
    "final_df = pd.merge(final_df, jaccard_results, on=['feature'], how='left')"
   ]
  },
  {
   "cell_type": "code",
   "execution_count": 41,
   "metadata": {},
   "outputs": [
    {
     "data": {
      "text/html": [
       "<div>\n",
       "<style scoped>\n",
       "    .dataframe tbody tr th:only-of-type {\n",
       "        vertical-align: middle;\n",
       "    }\n",
       "\n",
       "    .dataframe tbody tr th {\n",
       "        vertical-align: top;\n",
       "    }\n",
       "\n",
       "    .dataframe thead th {\n",
       "        text-align: right;\n",
       "    }\n",
       "</style>\n",
       "<table border=\"1\" class=\"dataframe\">\n",
       "  <thead>\n",
       "    <tr style=\"text-align: right;\">\n",
       "      <th></th>\n",
       "      <th>feature</th>\n",
       "      <th>values</th>\n",
       "      <th>lower</th>\n",
       "      <th>upper</th>\n",
       "      <th>lower_bound_iqr</th>\n",
       "      <th>upper_bound_iqr</th>\n",
       "      <th>lower_bound_std</th>\n",
       "      <th>upper_bound_std</th>\n",
       "      <th>lower_bound_mod_z_score</th>\n",
       "      <th>upper_bound_mod_z_score</th>\n",
       "      <th>lower_bound_gamma</th>\n",
       "      <th>upper_bound_gamma</th>\n",
       "      <th>IQR</th>\n",
       "      <th>STD</th>\n",
       "      <th>MOD_Z</th>\n",
       "      <th>GAMMA</th>\n",
       "    </tr>\n",
       "  </thead>\n",
       "  <tbody>\n",
       "    <tr>\n",
       "      <th>0</th>\n",
       "      <td>Feature_1</td>\n",
       "      <td>[12.483570765056164, 9.308678494144077, 13.238...</td>\n",
       "      <td>-3.098726</td>\n",
       "      <td>19.261391</td>\n",
       "      <td>-1.62</td>\n",
       "      <td>21.86</td>\n",
       "      <td>-29.98</td>\n",
       "      <td>54.74</td>\n",
       "      <td>-0.08</td>\n",
       "      <td>19.72</td>\n",
       "      <td>-3.10</td>\n",
       "      <td>19.26</td>\n",
       "      <td>0.836637</td>\n",
       "      <td>0.263930</td>\n",
       "      <td>0.847610</td>\n",
       "      <td>0.999881</td>\n",
       "    </tr>\n",
       "    <tr>\n",
       "      <th>1</th>\n",
       "      <td>Feature_2</td>\n",
       "      <td>[11.074694150473775, -0.11157466597867582, 5.2...</td>\n",
       "      <td>-0.111575</td>\n",
       "      <td>23.672111</td>\n",
       "      <td>-3.77</td>\n",
       "      <td>25.29</td>\n",
       "      <td>-35.31</td>\n",
       "      <td>63.28</td>\n",
       "      <td>-2.98</td>\n",
       "      <td>24.01</td>\n",
       "      <td>-0.11</td>\n",
       "      <td>57.00</td>\n",
       "      <td>0.818434</td>\n",
       "      <td>0.241238</td>\n",
       "      <td>0.881204</td>\n",
       "      <td>0.416415</td>\n",
       "    </tr>\n",
       "    <tr>\n",
       "      <th>2</th>\n",
       "      <td>Feature_3</td>\n",
       "      <td>[15.415256215876385, 15.269010260174515, 3.111...</td>\n",
       "      <td>-6.206337</td>\n",
       "      <td>29.263657</td>\n",
       "      <td>-4.54</td>\n",
       "      <td>25.52</td>\n",
       "      <td>-36.49</td>\n",
       "      <td>63.87</td>\n",
       "      <td>-2.60</td>\n",
       "      <td>23.73</td>\n",
       "      <td>-6.21</td>\n",
       "      <td>29.26</td>\n",
       "      <td>0.847477</td>\n",
       "      <td>0.353428</td>\n",
       "      <td>0.742318</td>\n",
       "      <td>0.999794</td>\n",
       "    </tr>\n",
       "    <tr>\n",
       "      <th>3</th>\n",
       "      <td>Feature_4</td>\n",
       "      <td>[6.653986359093935, 15.809686588733873, 17.764...</td>\n",
       "      <td>-2.261323</td>\n",
       "      <td>21.378806</td>\n",
       "      <td>-2.42</td>\n",
       "      <td>25.26</td>\n",
       "      <td>-30.24</td>\n",
       "      <td>57.84</td>\n",
       "      <td>-0.81</td>\n",
       "      <td>23.60</td>\n",
       "      <td>-2.26</td>\n",
       "      <td>55.68</td>\n",
       "      <td>0.854051</td>\n",
       "      <td>0.268394</td>\n",
       "      <td>0.857992</td>\n",
       "      <td>0.407978</td>\n",
       "    </tr>\n",
       "    <tr>\n",
       "      <th>4</th>\n",
       "      <td>Feature_5</td>\n",
       "      <td>[15.896485920319133, 10.337592407050545, 20.30...</td>\n",
       "      <td>-1.509606</td>\n",
       "      <td>25.394404</td>\n",
       "      <td>-6.43</td>\n",
       "      <td>25.90</td>\n",
       "      <td>-35.81</td>\n",
       "      <td>61.98</td>\n",
       "      <td>-4.34</td>\n",
       "      <td>23.71</td>\n",
       "      <td>-1.51</td>\n",
       "      <td>25.39</td>\n",
       "      <td>0.832169</td>\n",
       "      <td>0.275120</td>\n",
       "      <td>0.848162</td>\n",
       "      <td>0.999822</td>\n",
       "    </tr>\n",
       "    <tr>\n",
       "      <th>5</th>\n",
       "      <td>Feature_6</td>\n",
       "      <td>[7.177214983652124, 4.989766381856329, 11.3987...</td>\n",
       "      <td>-3.704774</td>\n",
       "      <td>23.918887</td>\n",
       "      <td>-3.13</td>\n",
       "      <td>24.51</td>\n",
       "      <td>-35.53</td>\n",
       "      <td>62.48</td>\n",
       "      <td>-1.04</td>\n",
       "      <td>22.69</td>\n",
       "      <td>-3.70</td>\n",
       "      <td>56.23</td>\n",
       "      <td>0.958678</td>\n",
       "      <td>0.281845</td>\n",
       "      <td>0.859046</td>\n",
       "      <td>0.460816</td>\n",
       "    </tr>\n",
       "    <tr>\n",
       "      <th>6</th>\n",
       "      <td>Feature_7</td>\n",
       "      <td>[10.278624561443474, 15.470957592354743, 1.537...</td>\n",
       "      <td>-3.484433</td>\n",
       "      <td>22.866799</td>\n",
       "      <td>-2.18</td>\n",
       "      <td>23.01</td>\n",
       "      <td>-27.85</td>\n",
       "      <td>52.17</td>\n",
       "      <td>-2.00</td>\n",
       "      <td>21.46</td>\n",
       "      <td>-3.48</td>\n",
       "      <td>50.92</td>\n",
       "      <td>0.945361</td>\n",
       "      <td>0.329308</td>\n",
       "      <td>0.890281</td>\n",
       "      <td>0.484277</td>\n",
       "    </tr>\n",
       "    <tr>\n",
       "      <th>7</th>\n",
       "      <td>Feature_8</td>\n",
       "      <td>[1.8520350701183634, 12.759318276547504, 20.02...</td>\n",
       "      <td>-2.423058</td>\n",
       "      <td>20.406573</td>\n",
       "      <td>-6.11</td>\n",
       "      <td>26.12</td>\n",
       "      <td>-34.53</td>\n",
       "      <td>60.14</td>\n",
       "      <td>-3.06</td>\n",
       "      <td>24.40</td>\n",
       "      <td>-2.42</td>\n",
       "      <td>54.47</td>\n",
       "      <td>0.708335</td>\n",
       "      <td>0.241150</td>\n",
       "      <td>0.831378</td>\n",
       "      <td>0.401219</td>\n",
       "    </tr>\n",
       "    <tr>\n",
       "      <th>8</th>\n",
       "      <td>Feature_9</td>\n",
       "      <td>[14.921611992382918, 8.930055778872456, 9.7526...</td>\n",
       "      <td>-0.994030</td>\n",
       "      <td>22.634662</td>\n",
       "      <td>-4.28</td>\n",
       "      <td>27.10</td>\n",
       "      <td>-30.99</td>\n",
       "      <td>59.57</td>\n",
       "      <td>-2.41</td>\n",
       "      <td>24.90</td>\n",
       "      <td>-0.99</td>\n",
       "      <td>54.12</td>\n",
       "      <td>0.752986</td>\n",
       "      <td>0.260918</td>\n",
       "      <td>0.865203</td>\n",
       "      <td>0.428651</td>\n",
       "    </tr>\n",
       "    <tr>\n",
       "      <th>9</th>\n",
       "      <td>Feature_10</td>\n",
       "      <td>[8.887936107722172, 4.265206856332804, 9.42704...</td>\n",
       "      <td>2.042977</td>\n",
       "      <td>24.825052</td>\n",
       "      <td>-0.98</td>\n",
       "      <td>22.37</td>\n",
       "      <td>-28.80</td>\n",
       "      <td>56.04</td>\n",
       "      <td>0.28</td>\n",
       "      <td>20.46</td>\n",
       "      <td>2.04</td>\n",
       "      <td>52.01</td>\n",
       "      <td>0.787715</td>\n",
       "      <td>0.268530</td>\n",
       "      <td>0.750335</td>\n",
       "      <td>0.455915</td>\n",
       "    </tr>\n",
       "  </tbody>\n",
       "</table>\n",
       "</div>"
      ],
      "text/plain": [
       "      feature                                             values     lower  \\\n",
       "0   Feature_1  [12.483570765056164, 9.308678494144077, 13.238... -3.098726   \n",
       "1   Feature_2  [11.074694150473775, -0.11157466597867582, 5.2... -0.111575   \n",
       "2   Feature_3  [15.415256215876385, 15.269010260174515, 3.111... -6.206337   \n",
       "3   Feature_4  [6.653986359093935, 15.809686588733873, 17.764... -2.261323   \n",
       "4   Feature_5  [15.896485920319133, 10.337592407050545, 20.30... -1.509606   \n",
       "5   Feature_6  [7.177214983652124, 4.989766381856329, 11.3987... -3.704774   \n",
       "6   Feature_7  [10.278624561443474, 15.470957592354743, 1.537... -3.484433   \n",
       "7   Feature_8  [1.8520350701183634, 12.759318276547504, 20.02... -2.423058   \n",
       "8   Feature_9  [14.921611992382918, 8.930055778872456, 9.7526... -0.994030   \n",
       "9  Feature_10  [8.887936107722172, 4.265206856332804, 9.42704...  2.042977   \n",
       "\n",
       "       upper  lower_bound_iqr  upper_bound_iqr  lower_bound_std  \\\n",
       "0  19.261391            -1.62            21.86           -29.98   \n",
       "1  23.672111            -3.77            25.29           -35.31   \n",
       "2  29.263657            -4.54            25.52           -36.49   \n",
       "3  21.378806            -2.42            25.26           -30.24   \n",
       "4  25.394404            -6.43            25.90           -35.81   \n",
       "5  23.918887            -3.13            24.51           -35.53   \n",
       "6  22.866799            -2.18            23.01           -27.85   \n",
       "7  20.406573            -6.11            26.12           -34.53   \n",
       "8  22.634662            -4.28            27.10           -30.99   \n",
       "9  24.825052            -0.98            22.37           -28.80   \n",
       "\n",
       "   upper_bound_std  lower_bound_mod_z_score  upper_bound_mod_z_score  \\\n",
       "0            54.74                    -0.08                    19.72   \n",
       "1            63.28                    -2.98                    24.01   \n",
       "2            63.87                    -2.60                    23.73   \n",
       "3            57.84                    -0.81                    23.60   \n",
       "4            61.98                    -4.34                    23.71   \n",
       "5            62.48                    -1.04                    22.69   \n",
       "6            52.17                    -2.00                    21.46   \n",
       "7            60.14                    -3.06                    24.40   \n",
       "8            59.57                    -2.41                    24.90   \n",
       "9            56.04                     0.28                    20.46   \n",
       "\n",
       "   lower_bound_gamma  upper_bound_gamma       IQR       STD     MOD_Z  \\\n",
       "0              -3.10              19.26  0.836637  0.263930  0.847610   \n",
       "1              -0.11              57.00  0.818434  0.241238  0.881204   \n",
       "2              -6.21              29.26  0.847477  0.353428  0.742318   \n",
       "3              -2.26              55.68  0.854051  0.268394  0.857992   \n",
       "4              -1.51              25.39  0.832169  0.275120  0.848162   \n",
       "5              -3.70              56.23  0.958678  0.281845  0.859046   \n",
       "6              -3.48              50.92  0.945361  0.329308  0.890281   \n",
       "7              -2.42              54.47  0.708335  0.241150  0.831378   \n",
       "8              -0.99              54.12  0.752986  0.260918  0.865203   \n",
       "9               2.04              52.01  0.787715  0.268530  0.750335   \n",
       "\n",
       "      GAMMA  \n",
       "0  0.999881  \n",
       "1  0.416415  \n",
       "2  0.999794  \n",
       "3  0.407978  \n",
       "4  0.999822  \n",
       "5  0.460816  \n",
       "6  0.484277  \n",
       "7  0.401219  \n",
       "8  0.428651  \n",
       "9  0.455915  "
      ]
     },
     "execution_count": 41,
     "metadata": {},
     "output_type": "execute_result"
    }
   ],
   "source": [
    "final_df"
   ]
  },
  {
   "cell_type": "code",
   "execution_count": 42,
   "metadata": {},
   "outputs": [],
   "source": [
    "length_df = len(final_df)\n",
    "\n",
    "iqr_mean = final_df['IQR'].sum() / length_df\n",
    "z_score_mean = final_df['STD'].sum() / length_df\n",
    "mod_z_mean = final_df['MOD_Z'].sum() / length_df\n",
    "gamma_mean = final_df['GAMMA'].sum() / length_df\n",
    "\n",
    "df_eval = pd.DataFrame({\n",
    "    'IQR': [iqr_mean],\n",
    "    'STD': [z_score_mean],\n",
    "    'MOD_Z': [mod_z_mean],\n",
    "    'GAMMA': [gamma_mean]\n",
    "}, index=['mean jaccard coeff'])"
   ]
  },
  {
   "cell_type": "code",
   "execution_count": 43,
   "metadata": {},
   "outputs": [
    {
     "data": {
      "application/vnd.plotly.v1+json": {
       "config": {
        "plotlyServerURL": "https://plot.ly"
       },
       "data": [
        {
         "coloraxis": "coloraxis",
         "hovertemplate": "x: %{x}<br>y: %{y}<br>Jaccard Index: %{z}<extra></extra>",
         "name": "0",
         "texttemplate": "%{z:.2f}",
         "type": "heatmap",
         "x": [
          "IQR",
          "STD",
          "MOD_Z",
          "GAMMA"
         ],
         "xaxis": "x",
         "y": [
          0,
          1,
          2,
          3,
          4,
          5,
          6,
          7,
          8,
          9
         ],
         "yaxis": "y",
         "z": [
          [
           0.8366369070182103,
           0.26392960862834525,
           0.847610481365935,
           0.9998808033853887
          ],
          [
           0.818433773616221,
           0.24123831485229114,
           0.8812036110147233,
           0.4164149024851821
          ],
          [
           0.8474768805941009,
           0.35342760216838354,
           0.742317573720648,
           0.9997936284709892
          ],
          [
           0.8540509210409928,
           0.26839384076310946,
           0.8579919318973578,
           0.40797836951620975
          ],
          [
           0.8321685699336256,
           0.2751202563243084,
           0.8481624783137017,
           0.9998216567595875
          ],
          [
           0.9586781345238681,
           0.2818453355753879,
           0.8590461527943175,
           0.46081573637045176
          ],
          [
           0.9453608164882374,
           0.32930807586799743,
           0.8902809475618917,
           0.4842766932663611
          ],
          [
           0.7083348178484263,
           0.24114958465464015,
           0.8313776831483898,
           0.40121895584838396
          ],
          [
           0.7529857206012912,
           0.2609175343691312,
           0.8652029261248084,
           0.42865060352767254
          ],
          [
           0.7877148795372693,
           0.26852987972754655,
           0.7503354818156311,
           0.45591504895107166
          ]
         ]
        }
       ],
       "layout": {
        "coloraxis": {
         "colorbar": {
          "title": {
           "text": "Jaccard Index"
          }
         },
         "colorscale": [
          [
           0,
           "rgb(255,255,217)"
          ],
          [
           0.125,
           "rgb(237,248,177)"
          ],
          [
           0.25,
           "rgb(199,233,180)"
          ],
          [
           0.375,
           "rgb(127,205,187)"
          ],
          [
           0.5,
           "rgb(65,182,196)"
          ],
          [
           0.625,
           "rgb(29,145,192)"
          ],
          [
           0.75,
           "rgb(34,94,168)"
          ],
          [
           0.875,
           "rgb(37,52,148)"
          ],
          [
           1,
           "rgb(8,29,88)"
          ]
         ]
        },
        "margin": {
         "t": 60
        },
        "template": {
         "data": {
          "bar": [
           {
            "error_x": {
             "color": "#2a3f5f"
            },
            "error_y": {
             "color": "#2a3f5f"
            },
            "marker": {
             "line": {
              "color": "#E5ECF6",
              "width": 0.5
             },
             "pattern": {
              "fillmode": "overlay",
              "size": 10,
              "solidity": 0.2
             }
            },
            "type": "bar"
           }
          ],
          "barpolar": [
           {
            "marker": {
             "line": {
              "color": "#E5ECF6",
              "width": 0.5
             },
             "pattern": {
              "fillmode": "overlay",
              "size": 10,
              "solidity": 0.2
             }
            },
            "type": "barpolar"
           }
          ],
          "carpet": [
           {
            "aaxis": {
             "endlinecolor": "#2a3f5f",
             "gridcolor": "white",
             "linecolor": "white",
             "minorgridcolor": "white",
             "startlinecolor": "#2a3f5f"
            },
            "baxis": {
             "endlinecolor": "#2a3f5f",
             "gridcolor": "white",
             "linecolor": "white",
             "minorgridcolor": "white",
             "startlinecolor": "#2a3f5f"
            },
            "type": "carpet"
           }
          ],
          "choropleth": [
           {
            "colorbar": {
             "outlinewidth": 0,
             "ticks": ""
            },
            "type": "choropleth"
           }
          ],
          "contour": [
           {
            "colorbar": {
             "outlinewidth": 0,
             "ticks": ""
            },
            "colorscale": [
             [
              0,
              "#0d0887"
             ],
             [
              0.1111111111111111,
              "#46039f"
             ],
             [
              0.2222222222222222,
              "#7201a8"
             ],
             [
              0.3333333333333333,
              "#9c179e"
             ],
             [
              0.4444444444444444,
              "#bd3786"
             ],
             [
              0.5555555555555556,
              "#d8576b"
             ],
             [
              0.6666666666666666,
              "#ed7953"
             ],
             [
              0.7777777777777778,
              "#fb9f3a"
             ],
             [
              0.8888888888888888,
              "#fdca26"
             ],
             [
              1,
              "#f0f921"
             ]
            ],
            "type": "contour"
           }
          ],
          "contourcarpet": [
           {
            "colorbar": {
             "outlinewidth": 0,
             "ticks": ""
            },
            "type": "contourcarpet"
           }
          ],
          "heatmap": [
           {
            "colorbar": {
             "outlinewidth": 0,
             "ticks": ""
            },
            "colorscale": [
             [
              0,
              "#0d0887"
             ],
             [
              0.1111111111111111,
              "#46039f"
             ],
             [
              0.2222222222222222,
              "#7201a8"
             ],
             [
              0.3333333333333333,
              "#9c179e"
             ],
             [
              0.4444444444444444,
              "#bd3786"
             ],
             [
              0.5555555555555556,
              "#d8576b"
             ],
             [
              0.6666666666666666,
              "#ed7953"
             ],
             [
              0.7777777777777778,
              "#fb9f3a"
             ],
             [
              0.8888888888888888,
              "#fdca26"
             ],
             [
              1,
              "#f0f921"
             ]
            ],
            "type": "heatmap"
           }
          ],
          "heatmapgl": [
           {
            "colorbar": {
             "outlinewidth": 0,
             "ticks": ""
            },
            "colorscale": [
             [
              0,
              "#0d0887"
             ],
             [
              0.1111111111111111,
              "#46039f"
             ],
             [
              0.2222222222222222,
              "#7201a8"
             ],
             [
              0.3333333333333333,
              "#9c179e"
             ],
             [
              0.4444444444444444,
              "#bd3786"
             ],
             [
              0.5555555555555556,
              "#d8576b"
             ],
             [
              0.6666666666666666,
              "#ed7953"
             ],
             [
              0.7777777777777778,
              "#fb9f3a"
             ],
             [
              0.8888888888888888,
              "#fdca26"
             ],
             [
              1,
              "#f0f921"
             ]
            ],
            "type": "heatmapgl"
           }
          ],
          "histogram": [
           {
            "marker": {
             "pattern": {
              "fillmode": "overlay",
              "size": 10,
              "solidity": 0.2
             }
            },
            "type": "histogram"
           }
          ],
          "histogram2d": [
           {
            "colorbar": {
             "outlinewidth": 0,
             "ticks": ""
            },
            "colorscale": [
             [
              0,
              "#0d0887"
             ],
             [
              0.1111111111111111,
              "#46039f"
             ],
             [
              0.2222222222222222,
              "#7201a8"
             ],
             [
              0.3333333333333333,
              "#9c179e"
             ],
             [
              0.4444444444444444,
              "#bd3786"
             ],
             [
              0.5555555555555556,
              "#d8576b"
             ],
             [
              0.6666666666666666,
              "#ed7953"
             ],
             [
              0.7777777777777778,
              "#fb9f3a"
             ],
             [
              0.8888888888888888,
              "#fdca26"
             ],
             [
              1,
              "#f0f921"
             ]
            ],
            "type": "histogram2d"
           }
          ],
          "histogram2dcontour": [
           {
            "colorbar": {
             "outlinewidth": 0,
             "ticks": ""
            },
            "colorscale": [
             [
              0,
              "#0d0887"
             ],
             [
              0.1111111111111111,
              "#46039f"
             ],
             [
              0.2222222222222222,
              "#7201a8"
             ],
             [
              0.3333333333333333,
              "#9c179e"
             ],
             [
              0.4444444444444444,
              "#bd3786"
             ],
             [
              0.5555555555555556,
              "#d8576b"
             ],
             [
              0.6666666666666666,
              "#ed7953"
             ],
             [
              0.7777777777777778,
              "#fb9f3a"
             ],
             [
              0.8888888888888888,
              "#fdca26"
             ],
             [
              1,
              "#f0f921"
             ]
            ],
            "type": "histogram2dcontour"
           }
          ],
          "mesh3d": [
           {
            "colorbar": {
             "outlinewidth": 0,
             "ticks": ""
            },
            "type": "mesh3d"
           }
          ],
          "parcoords": [
           {
            "line": {
             "colorbar": {
              "outlinewidth": 0,
              "ticks": ""
             }
            },
            "type": "parcoords"
           }
          ],
          "pie": [
           {
            "automargin": true,
            "type": "pie"
           }
          ],
          "scatter": [
           {
            "fillpattern": {
             "fillmode": "overlay",
             "size": 10,
             "solidity": 0.2
            },
            "type": "scatter"
           }
          ],
          "scatter3d": [
           {
            "line": {
             "colorbar": {
              "outlinewidth": 0,
              "ticks": ""
             }
            },
            "marker": {
             "colorbar": {
              "outlinewidth": 0,
              "ticks": ""
             }
            },
            "type": "scatter3d"
           }
          ],
          "scattercarpet": [
           {
            "marker": {
             "colorbar": {
              "outlinewidth": 0,
              "ticks": ""
             }
            },
            "type": "scattercarpet"
           }
          ],
          "scattergeo": [
           {
            "marker": {
             "colorbar": {
              "outlinewidth": 0,
              "ticks": ""
             }
            },
            "type": "scattergeo"
           }
          ],
          "scattergl": [
           {
            "marker": {
             "colorbar": {
              "outlinewidth": 0,
              "ticks": ""
             }
            },
            "type": "scattergl"
           }
          ],
          "scattermapbox": [
           {
            "marker": {
             "colorbar": {
              "outlinewidth": 0,
              "ticks": ""
             }
            },
            "type": "scattermapbox"
           }
          ],
          "scatterpolar": [
           {
            "marker": {
             "colorbar": {
              "outlinewidth": 0,
              "ticks": ""
             }
            },
            "type": "scatterpolar"
           }
          ],
          "scatterpolargl": [
           {
            "marker": {
             "colorbar": {
              "outlinewidth": 0,
              "ticks": ""
             }
            },
            "type": "scatterpolargl"
           }
          ],
          "scatterternary": [
           {
            "marker": {
             "colorbar": {
              "outlinewidth": 0,
              "ticks": ""
             }
            },
            "type": "scatterternary"
           }
          ],
          "surface": [
           {
            "colorbar": {
             "outlinewidth": 0,
             "ticks": ""
            },
            "colorscale": [
             [
              0,
              "#0d0887"
             ],
             [
              0.1111111111111111,
              "#46039f"
             ],
             [
              0.2222222222222222,
              "#7201a8"
             ],
             [
              0.3333333333333333,
              "#9c179e"
             ],
             [
              0.4444444444444444,
              "#bd3786"
             ],
             [
              0.5555555555555556,
              "#d8576b"
             ],
             [
              0.6666666666666666,
              "#ed7953"
             ],
             [
              0.7777777777777778,
              "#fb9f3a"
             ],
             [
              0.8888888888888888,
              "#fdca26"
             ],
             [
              1,
              "#f0f921"
             ]
            ],
            "type": "surface"
           }
          ],
          "table": [
           {
            "cells": {
             "fill": {
              "color": "#EBF0F8"
             },
             "line": {
              "color": "white"
             }
            },
            "header": {
             "fill": {
              "color": "#C8D4E3"
             },
             "line": {
              "color": "white"
             }
            },
            "type": "table"
           }
          ]
         },
         "layout": {
          "annotationdefaults": {
           "arrowcolor": "#2a3f5f",
           "arrowhead": 0,
           "arrowwidth": 1
          },
          "autotypenumbers": "strict",
          "coloraxis": {
           "colorbar": {
            "outlinewidth": 0,
            "ticks": ""
           }
          },
          "colorscale": {
           "diverging": [
            [
             0,
             "#8e0152"
            ],
            [
             0.1,
             "#c51b7d"
            ],
            [
             0.2,
             "#de77ae"
            ],
            [
             0.3,
             "#f1b6da"
            ],
            [
             0.4,
             "#fde0ef"
            ],
            [
             0.5,
             "#f7f7f7"
            ],
            [
             0.6,
             "#e6f5d0"
            ],
            [
             0.7,
             "#b8e186"
            ],
            [
             0.8,
             "#7fbc41"
            ],
            [
             0.9,
             "#4d9221"
            ],
            [
             1,
             "#276419"
            ]
           ],
           "sequential": [
            [
             0,
             "#0d0887"
            ],
            [
             0.1111111111111111,
             "#46039f"
            ],
            [
             0.2222222222222222,
             "#7201a8"
            ],
            [
             0.3333333333333333,
             "#9c179e"
            ],
            [
             0.4444444444444444,
             "#bd3786"
            ],
            [
             0.5555555555555556,
             "#d8576b"
            ],
            [
             0.6666666666666666,
             "#ed7953"
            ],
            [
             0.7777777777777778,
             "#fb9f3a"
            ],
            [
             0.8888888888888888,
             "#fdca26"
            ],
            [
             1,
             "#f0f921"
            ]
           ],
           "sequentialminus": [
            [
             0,
             "#0d0887"
            ],
            [
             0.1111111111111111,
             "#46039f"
            ],
            [
             0.2222222222222222,
             "#7201a8"
            ],
            [
             0.3333333333333333,
             "#9c179e"
            ],
            [
             0.4444444444444444,
             "#bd3786"
            ],
            [
             0.5555555555555556,
             "#d8576b"
            ],
            [
             0.6666666666666666,
             "#ed7953"
            ],
            [
             0.7777777777777778,
             "#fb9f3a"
            ],
            [
             0.8888888888888888,
             "#fdca26"
            ],
            [
             1,
             "#f0f921"
            ]
           ]
          },
          "colorway": [
           "#636efa",
           "#EF553B",
           "#00cc96",
           "#ab63fa",
           "#FFA15A",
           "#19d3f3",
           "#FF6692",
           "#B6E880",
           "#FF97FF",
           "#FECB52"
          ],
          "font": {
           "color": "#2a3f5f"
          },
          "geo": {
           "bgcolor": "white",
           "lakecolor": "white",
           "landcolor": "#E5ECF6",
           "showlakes": true,
           "showland": true,
           "subunitcolor": "white"
          },
          "hoverlabel": {
           "align": "left"
          },
          "hovermode": "closest",
          "mapbox": {
           "style": "light"
          },
          "paper_bgcolor": "white",
          "plot_bgcolor": "#E5ECF6",
          "polar": {
           "angularaxis": {
            "gridcolor": "white",
            "linecolor": "white",
            "ticks": ""
           },
           "bgcolor": "#E5ECF6",
           "radialaxis": {
            "gridcolor": "white",
            "linecolor": "white",
            "ticks": ""
           }
          },
          "scene": {
           "xaxis": {
            "backgroundcolor": "#E5ECF6",
            "gridcolor": "white",
            "gridwidth": 2,
            "linecolor": "white",
            "showbackground": true,
            "ticks": "",
            "zerolinecolor": "white"
           },
           "yaxis": {
            "backgroundcolor": "#E5ECF6",
            "gridcolor": "white",
            "gridwidth": 2,
            "linecolor": "white",
            "showbackground": true,
            "ticks": "",
            "zerolinecolor": "white"
           },
           "zaxis": {
            "backgroundcolor": "#E5ECF6",
            "gridcolor": "white",
            "gridwidth": 2,
            "linecolor": "white",
            "showbackground": true,
            "ticks": "",
            "zerolinecolor": "white"
           }
          },
          "shapedefaults": {
           "line": {
            "color": "#2a3f5f"
           }
          },
          "ternary": {
           "aaxis": {
            "gridcolor": "white",
            "linecolor": "white",
            "ticks": ""
           },
           "baxis": {
            "gridcolor": "white",
            "linecolor": "white",
            "ticks": ""
           },
           "bgcolor": "#E5ECF6",
           "caxis": {
            "gridcolor": "white",
            "linecolor": "white",
            "ticks": ""
           }
          },
          "title": {
           "x": 0.05
          },
          "xaxis": {
           "automargin": true,
           "gridcolor": "white",
           "linecolor": "white",
           "ticks": "",
           "title": {
            "standoff": 15
           },
           "zerolinecolor": "white",
           "zerolinewidth": 2
          },
          "yaxis": {
           "automargin": true,
           "gridcolor": "white",
           "linecolor": "white",
           "ticks": "",
           "title": {
            "standoff": 15
           },
           "zerolinecolor": "white",
           "zerolinewidth": 2
          }
         }
        },
        "title": {
         "text": "Jaccard Index Heatmap"
        },
        "xaxis": {
         "anchor": "y",
         "constrain": "domain",
         "domain": [
          0,
          1
         ],
         "scaleanchor": "y",
         "title": {
          "text": "Methods"
         }
        },
        "yaxis": {
         "anchor": "x",
         "autorange": "reversed",
         "constrain": "domain",
         "domain": [
          0,
          1
         ],
         "title": {
          "text": "Features"
         }
        }
       }
      }
     },
     "metadata": {},
     "output_type": "display_data"
    }
   ],
   "source": [
    "df_jaccard = final_df.iloc[:, -4:]\n",
    "\n",
    "fig = px.imshow(df_jaccard, \n",
    "                text_auto=\".2f\",  \n",
    "                color_continuous_scale=\"YlGnBu\", \n",
    "                labels=dict(color=\"Jaccard Index\")) \n",
    "\n",
    "fig.update_layout(\n",
    "    title=\"Jaccard Index Heatmap\",\n",
    "    xaxis_title=\"Methods\",\n",
    "    yaxis_title=\"Features\"\n",
    ")\n",
    "\n",
    "\n",
    "fig.show()\n"
   ]
  },
  {
   "cell_type": "code",
   "execution_count": 44,
   "metadata": {},
   "outputs": [
    {
     "data": {
      "text/html": [
       "<div>\n",
       "<style scoped>\n",
       "    .dataframe tbody tr th:only-of-type {\n",
       "        vertical-align: middle;\n",
       "    }\n",
       "\n",
       "    .dataframe tbody tr th {\n",
       "        vertical-align: top;\n",
       "    }\n",
       "\n",
       "    .dataframe thead th {\n",
       "        text-align: right;\n",
       "    }\n",
       "</style>\n",
       "<table border=\"1\" class=\"dataframe\">\n",
       "  <thead>\n",
       "    <tr style=\"text-align: right;\">\n",
       "      <th></th>\n",
       "      <th>IQR</th>\n",
       "      <th>STD</th>\n",
       "      <th>MOD_Z</th>\n",
       "      <th>GAMMA</th>\n",
       "    </tr>\n",
       "  </thead>\n",
       "  <tbody>\n",
       "    <tr>\n",
       "      <th>mean jaccard coeff</th>\n",
       "      <td>0.834184</td>\n",
       "      <td>0.278386</td>\n",
       "      <td>0.837353</td>\n",
       "      <td>0.605477</td>\n",
       "    </tr>\n",
       "  </tbody>\n",
       "</table>\n",
       "</div>"
      ],
      "text/plain": [
       "                         IQR       STD     MOD_Z     GAMMA\n",
       "mean jaccard coeff  0.834184  0.278386  0.837353  0.605477"
      ]
     },
     "execution_count": 44,
     "metadata": {},
     "output_type": "execute_result"
    }
   ],
   "source": [
    "df_eval"
   ]
  },
  {
   "cell_type": "code",
   "execution_count": 45,
   "metadata": {},
   "outputs": [],
   "source": [
    "best_method = df_eval.idxmax(axis=1)"
   ]
  },
  {
   "cell_type": "code",
   "execution_count": 46,
   "metadata": {},
   "outputs": [
    {
     "name": "stdout",
     "output_type": "stream",
     "text": [
      "Best Method based on labeled data: MOD_Z\n"
     ]
    }
   ],
   "source": [
    "print(f'Best Method based on labeled data: {best_method.values[0]}')"
   ]
  }
 ],
 "metadata": {
  "kernelspec": {
   "display_name": ".env",
   "language": "python",
   "name": "python3"
  },
  "language_info": {
   "codemirror_mode": {
    "name": "ipython",
    "version": 3
   },
   "file_extension": ".py",
   "mimetype": "text/x-python",
   "name": "python",
   "nbconvert_exporter": "python",
   "pygments_lexer": "ipython3",
   "version": "3.12.6"
  }
 },
 "nbformat": 4,
 "nbformat_minor": 2
}
