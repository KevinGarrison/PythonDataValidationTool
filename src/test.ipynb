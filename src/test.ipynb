{
 "cells": [
  {
   "cell_type": "code",
   "execution_count": 1,
   "metadata": {},
   "outputs": [],
   "source": [
    "import pandas as pd, numpy as np\n",
    "from sklearn.ensemble import IsolationForest\n",
    "from scipy.stats import skew, kurtosis\n",
    "import numpy as np\n",
    "import plotly.express as px\n",
    "import time"
   ]
  },
  {
   "cell_type": "code",
   "execution_count": 2,
   "metadata": {},
   "outputs": [],
   "source": [
    "def iqr_approach(series, feature, k:float):\n",
    "    summary = series.describe()\n",
    "    return pd.DataFrame({\n",
    "        'feature': [feature],\n",
    "        'lower_bound_iqr': round(summary['25%'] - k * (summary['75%'] - summary['25%']), 2),\n",
    "        'upper_bound_iqr': round(summary['75%'] + k * (summary['75%'] - summary['25%']), 2)\n",
    "    })\n",
    "\n",
    "def std_approach(series, feature, alpha: float):\n",
    "    summary = series.describe()\n",
    "    return pd.DataFrame({\n",
    "        'feature': [feature],\n",
    "        'lower_bound_std': round(summary['mean'] - alpha * summary['std'], 2),\n",
    "        'upper_bound_std': round(summary['mean'] + alpha * summary['std'], 2)\n",
    "    })\n",
    "\n",
    "def modified_z_score_approach(series, feature, alpha: float):\n",
    "    median = series.median()\n",
    "    absolute_deviations = np.abs(series - median)\n",
    "    mad = absolute_deviations.median()\n",
    "\n",
    "    if mad == 0:\n",
    "        lower_bound = upper_bound = median\n",
    "    else:\n",
    "        lower_bound = round(median - alpha * mad, 2)\n",
    "        upper_bound = round(median + alpha * mad, 2)\n",
    "\n",
    "    return pd.DataFrame({\n",
    "        'feature': [feature],\n",
    "        'lower_bound_mod_z_score': lower_bound,\n",
    "        'upper_bound_mod_z_score': upper_bound\n",
    "    })\n",
    "\n",
    "def f1(z: pd.Series, beta_1: float, beta_2: float) -> pd.Series:\n",
    "    anomaly_mask = (z <= (-beta_1)) | (z >= beta_2)\n",
    "    return anomaly_mask\n",
    "\n",
    "def f2(z: pd.Series, beta_1: float, beta_2: float, gamma: float) -> pd.Series:\n",
    "    isolation_forest = IsolationForest()\n",
    "    mask_f1 = f1(z, gamma * beta_1, gamma * beta_2)\n",
    "    isolation_forest.fit(z.values.reshape(-1, 1))  \n",
    "    mask_iforest = isolation_forest.predict(z.values.reshape(-1, 1)) == -1 \n",
    "    return mask_f1 & mask_iforest\n",
    "\n",
    "def gamma_outlier(series, feature, alpha_s: float, alpha_k: float, beta_1:float, beta_2:float, gamma: float):\n",
    "    \n",
    "    mean = series.mean()\n",
    "    std_dev = series.std()\n",
    "\n",
    "    z_scores = (series - mean) / std_dev\n",
    "\n",
    "    skew_result, kurt_result = abs(skew(z_scores)), abs(kurtosis(z_scores))\n",
    "    \n",
    "    if skew_result < alpha_s and kurt_result < alpha_k:\n",
    "        mask = f1(z_scores, beta_1, beta_2)\n",
    "    else:\n",
    "        mask = f2(z_scores, beta_1, beta_2, gamma)\n",
    "\n",
    "    filtered_data = series[~mask]\n",
    "\n",
    "    if len(filtered_data) > 0:\n",
    "        return pd.DataFrame({\n",
    "            'feature': [feature],\n",
    "            'lower_bound_gamma': round(filtered_data.min(), 2),\n",
    "            'upper_bound_gamma': round(filtered_data.max(), 2)\n",
    "        })\n",
    "\n",
    "def jaccard_index(lower_a, upper_a, lower_b, upper_b):\n",
    "    overlap = max(0, min(upper_b, upper_a) - max(lower_b, lower_a))\n",
    "    distance = max(0, max(upper_b, upper_a) - min(lower_b, lower_a))\n",
    "    \n",
    "    return overlap / distance if distance != 0 else 0\n",
    "\n"
   ]
  },
  {
   "cell_type": "code",
   "execution_count": 3,
   "metadata": {},
   "outputs": [
    {
     "data": {
      "text/html": [
       "<div>\n",
       "<style scoped>\n",
       "    .dataframe tbody tr th:only-of-type {\n",
       "        vertical-align: middle;\n",
       "    }\n",
       "\n",
       "    .dataframe tbody tr th {\n",
       "        vertical-align: top;\n",
       "    }\n",
       "\n",
       "    .dataframe thead th {\n",
       "        text-align: right;\n",
       "    }\n",
       "</style>\n",
       "<table border=\"1\" class=\"dataframe\">\n",
       "  <thead>\n",
       "    <tr style=\"text-align: right;\">\n",
       "      <th></th>\n",
       "      <th>feature</th>\n",
       "      <th>values</th>\n",
       "      <th>lower</th>\n",
       "      <th>upper</th>\n",
       "    </tr>\n",
       "  </thead>\n",
       "  <tbody>\n",
       "    <tr>\n",
       "      <th>0</th>\n",
       "      <td>Feature_1</td>\n",
       "      <td>[12.483570765056164, 9.308678494144077, 13.238...</td>\n",
       "      <td>-6.206337</td>\n",
       "      <td>29.263657</td>\n",
       "    </tr>\n",
       "    <tr>\n",
       "      <th>1</th>\n",
       "      <td>Feature_2</td>\n",
       "      <td>[14.178460560325709, 4.3514657267119095, 12.64...</td>\n",
       "      <td>-3.484433</td>\n",
       "      <td>23.161910</td>\n",
       "    </tr>\n",
       "    <tr>\n",
       "      <th>2</th>\n",
       "      <td>Feature_3</td>\n",
       "      <td>[8.391824743913087, 20.383739917804206, 11.909...</td>\n",
       "      <td>-4.481277</td>\n",
       "      <td>23.008416</td>\n",
       "    </tr>\n",
       "    <tr>\n",
       "      <th>3</th>\n",
       "      <td>Feature_4</td>\n",
       "      <td>[10.566352052688822, 2.8086101084131663, 14.59...</td>\n",
       "      <td>-5.097561</td>\n",
       "      <td>25.688743</td>\n",
       "    </tr>\n",
       "    <tr>\n",
       "      <th>4</th>\n",
       "      <td>Feature_5</td>\n",
       "      <td>[3.699176174137099, 6.918192959802613, 8.12401...</td>\n",
       "      <td>-3.178739</td>\n",
       "      <td>25.549593</td>\n",
       "    </tr>\n",
       "    <tr>\n",
       "      <th>5</th>\n",
       "      <td>Feature_6</td>\n",
       "      <td>[4.916584357117514, 8.779597631628993, 9.80346...</td>\n",
       "      <td>-4.955680</td>\n",
       "      <td>29.631189</td>\n",
       "    </tr>\n",
       "    <tr>\n",
       "      <th>6</th>\n",
       "      <td>Feature_7</td>\n",
       "      <td>[5.765745169373177, 16.248094526483335, 13.896...</td>\n",
       "      <td>-4.647243</td>\n",
       "      <td>26.215465</td>\n",
       "    </tr>\n",
       "    <tr>\n",
       "      <th>7</th>\n",
       "      <td>Feature_8</td>\n",
       "      <td>[11.38679230982338, 9.888605104081433, 11.6104...</td>\n",
       "      <td>-5.038162</td>\n",
       "      <td>25.760284</td>\n",
       "    </tr>\n",
       "    <tr>\n",
       "      <th>8</th>\n",
       "      <td>Feature_9</td>\n",
       "      <td>[16.033040774319574, 2.364160717051762, 4.7245...</td>\n",
       "      <td>-5.883519</td>\n",
       "      <td>23.776089</td>\n",
       "    </tr>\n",
       "    <tr>\n",
       "      <th>9</th>\n",
       "      <td>Feature_10</td>\n",
       "      <td>[12.939279440688676, 13.098693923514343, 0.443...</td>\n",
       "      <td>-3.124085</td>\n",
       "      <td>25.564551</td>\n",
       "    </tr>\n",
       "    <tr>\n",
       "      <th>10</th>\n",
       "      <td>Feature_11</td>\n",
       "      <td>[16.81614487566125, 8.481869635509995, 7.55556...</td>\n",
       "      <td>-4.165151</td>\n",
       "      <td>25.491497</td>\n",
       "    </tr>\n",
       "    <tr>\n",
       "      <th>11</th>\n",
       "      <td>Feature_12</td>\n",
       "      <td>[18.35673787718738, 5.493121600514128, 12.5286...</td>\n",
       "      <td>-3.563063</td>\n",
       "      <td>23.899818</td>\n",
       "    </tr>\n",
       "    <tr>\n",
       "      <th>12</th>\n",
       "      <td>Feature_13</td>\n",
       "      <td>[6.169773987998001, 7.693664747508464, -1.2639...</td>\n",
       "      <td>-3.537719</td>\n",
       "      <td>27.645276</td>\n",
       "    </tr>\n",
       "    <tr>\n",
       "      <th>13</th>\n",
       "      <td>Feature_14</td>\n",
       "      <td>[3.4227934647507716, 16.54722050701324, 8.6155...</td>\n",
       "      <td>-6.105082</td>\n",
       "      <td>25.588406</td>\n",
       "    </tr>\n",
       "    <tr>\n",
       "      <th>14</th>\n",
       "      <td>Feature_15</td>\n",
       "      <td>[10.882420918314764, 12.256130080680494, 9.634...</td>\n",
       "      <td>-8.441826</td>\n",
       "      <td>24.326060</td>\n",
       "    </tr>\n",
       "    <tr>\n",
       "      <th>15</th>\n",
       "      <td>Feature_16</td>\n",
       "      <td>[10.52639311954839, 10.753012464223168, 2.4847...</td>\n",
       "      <td>-9.183278</td>\n",
       "      <td>26.886915</td>\n",
       "    </tr>\n",
       "    <tr>\n",
       "      <th>16</th>\n",
       "      <td>Feature_17</td>\n",
       "      <td>[7.818684839099856, 15.240583796345774, 4.6573...</td>\n",
       "      <td>-2.604235</td>\n",
       "      <td>25.788856</td>\n",
       "    </tr>\n",
       "    <tr>\n",
       "      <th>17</th>\n",
       "      <td>Feature_18</td>\n",
       "      <td>[11.220492217511932, 11.369555434235895, 2.384...</td>\n",
       "      <td>-4.009558</td>\n",
       "      <td>23.841868</td>\n",
       "    </tr>\n",
       "    <tr>\n",
       "      <th>18</th>\n",
       "      <td>Feature_19</td>\n",
       "      <td>[5.375370921403631, 11.343878945743207, 10.935...</td>\n",
       "      <td>-9.612001</td>\n",
       "      <td>22.651848</td>\n",
       "    </tr>\n",
       "    <tr>\n",
       "      <th>19</th>\n",
       "      <td>Feature_20</td>\n",
       "      <td>[17.580580901775214, 2.462235276832896, 10.050...</td>\n",
       "      <td>-4.053142</td>\n",
       "      <td>24.006865</td>\n",
       "    </tr>\n",
       "  </tbody>\n",
       "</table>\n",
       "</div>"
      ],
      "text/plain": [
       "       feature                                             values     lower  \\\n",
       "0    Feature_1  [12.483570765056164, 9.308678494144077, 13.238... -6.206337   \n",
       "1    Feature_2  [14.178460560325709, 4.3514657267119095, 12.64... -3.484433   \n",
       "2    Feature_3  [8.391824743913087, 20.383739917804206, 11.909... -4.481277   \n",
       "3    Feature_4  [10.566352052688822, 2.8086101084131663, 14.59... -5.097561   \n",
       "4    Feature_5  [3.699176174137099, 6.918192959802613, 8.12401... -3.178739   \n",
       "5    Feature_6  [4.916584357117514, 8.779597631628993, 9.80346... -4.955680   \n",
       "6    Feature_7  [5.765745169373177, 16.248094526483335, 13.896... -4.647243   \n",
       "7    Feature_8  [11.38679230982338, 9.888605104081433, 11.6104... -5.038162   \n",
       "8    Feature_9  [16.033040774319574, 2.364160717051762, 4.7245... -5.883519   \n",
       "9   Feature_10  [12.939279440688676, 13.098693923514343, 0.443... -3.124085   \n",
       "10  Feature_11  [16.81614487566125, 8.481869635509995, 7.55556... -4.165151   \n",
       "11  Feature_12  [18.35673787718738, 5.493121600514128, 12.5286... -3.563063   \n",
       "12  Feature_13  [6.169773987998001, 7.693664747508464, -1.2639... -3.537719   \n",
       "13  Feature_14  [3.4227934647507716, 16.54722050701324, 8.6155... -6.105082   \n",
       "14  Feature_15  [10.882420918314764, 12.256130080680494, 9.634... -8.441826   \n",
       "15  Feature_16  [10.52639311954839, 10.753012464223168, 2.4847... -9.183278   \n",
       "16  Feature_17  [7.818684839099856, 15.240583796345774, 4.6573... -2.604235   \n",
       "17  Feature_18  [11.220492217511932, 11.369555434235895, 2.384... -4.009558   \n",
       "18  Feature_19  [5.375370921403631, 11.343878945743207, 10.935... -9.612001   \n",
       "19  Feature_20  [17.580580901775214, 2.462235276832896, 10.050... -4.053142   \n",
       "\n",
       "        upper  \n",
       "0   29.263657  \n",
       "1   23.161910  \n",
       "2   23.008416  \n",
       "3   25.688743  \n",
       "4   25.549593  \n",
       "5   29.631189  \n",
       "6   26.215465  \n",
       "7   25.760284  \n",
       "8   23.776089  \n",
       "9   25.564551  \n",
       "10  25.491497  \n",
       "11  23.899818  \n",
       "12  27.645276  \n",
       "13  25.588406  \n",
       "14  24.326060  \n",
       "15  26.886915  \n",
       "16  25.788856  \n",
       "17  23.841868  \n",
       "18  22.651848  \n",
       "19  24.006865  "
      ]
     },
     "execution_count": 3,
     "metadata": {},
     "output_type": "execute_result"
    }
   ],
   "source": [
    "np.random.seed(42)\n",
    "\n",
    "num_features = 20  \n",
    "num_data_points = 500  \n",
    "num_anomalies = 50  \n",
    "\n",
    "\n",
    "data = {}\n",
    "min_values = []\n",
    "max_values = []\n",
    "\n",
    "for i in range(1, num_features + 1):\n",
    "    feature_name = f'Feature_{i}'\n",
    "    normal_data = np.random.normal(loc=10, scale=5, size=num_data_points)\n",
    "    min_values.append(np.min(normal_data))  \n",
    "    max_values.append(np.max(normal_data))  \n",
    "    anomalies = np.random.uniform(low=50, high=100, size=num_anomalies)\n",
    "    combined_data = np.concatenate([normal_data, anomalies]) \n",
    "    data[feature_name] = combined_data\n",
    "features_list = []\n",
    "values_list = []\n",
    "\n",
    "for feature in data:\n",
    "    features_list.append(feature)\n",
    "    values_list.append(data[feature].tolist()) \n",
    "\n",
    "final_df = pd.DataFrame({\n",
    "    'feature': features_list,\n",
    "    'values': values_list,\n",
    "    'lower': min_values,\n",
    "    'upper': max_values\n",
    "})\n",
    "\n",
    "final_df"
   ]
  },
  {
   "cell_type": "code",
   "execution_count": null,
   "metadata": {},
   "outputs": [
    {
     "name": "stdout",
     "output_type": "stream",
     "text": [
      "Elapsed time: 210.176629 seconds\n"
     ]
    }
   ],
   "source": [
    "iqr_params = {'k': [1, 1.5, 2, 2.5, 3]}\n",
    "std_params = {'alpha': [1, 1.5, 2, 2.5, 3, 3.5]}\n",
    "modified_z_params = {'alpha': [1, 1.5, 2, 2.5, 3, 3.5, 4]}\n",
    "gamma_params = {\n",
    "    'alpha_s': [2, 4, 6, 8], \n",
    "    'alpha_k': [20, 25, 30, 35], \n",
    "    'beta_1': [2, 3, 4], \n",
    "    'beta_2': [2, 3, 4], \n",
    "    'gamma': [1.5, 2, 2.5]\n",
    "}\n",
    "\n",
    "\n",
    "final_results = []\n",
    "\n",
    "best_iqr_params = {}\n",
    "best_std_params = {}\n",
    "best_mod_z_params = {}\n",
    "best_gamma_params = {}\n",
    "\n",
    "start_time = time.time()\n",
    "\n",
    "for index, row in final_df.iterrows():\n",
    "    values_series = pd.Series(row['values'])\n",
    "    feature = row['feature']\n",
    "    baseline_bounds = (row['lower'], row['upper'])\n",
    "    \n",
    "    best_iqr, best_std, best_mod_z, best_gamma = None, None, None, None\n",
    "    best_iqr_score, best_std_score, best_mod_z_score, best_gamma_score = -float('inf'), -float('inf'), -float('inf'), -float('inf')\n",
    "\n",
    "    # Grid search for IQR\n",
    "    for k in iqr_params['k']:\n",
    "        filter_row_iqr = iqr_approach(values_series, feature, k)\n",
    "        lower, upper = filter_row_iqr['lower_bound_iqr'].iloc[0], filter_row_iqr['upper_bound_iqr'].iloc[0]\n",
    "        score = jaccard_index(lower, upper, baseline_bounds[0], baseline_bounds[1])\n",
    "        if score > best_iqr_score:\n",
    "            best_iqr_score = score\n",
    "            best_iqr = filter_row_iqr\n",
    "            best_iqr_params = {'k': k}  \n",
    "\n",
    "    # Grid search for Standard Deviation\n",
    "    for alpha in std_params['alpha']:\n",
    "        filter_row_std = std_approach(values_series, feature, alpha)\n",
    "        lower, upper = filter_row_std['lower_bound_std'].iloc[0], filter_row_std['upper_bound_std'].iloc[0]\n",
    "        score = jaccard_index(lower, upper, baseline_bounds[0], baseline_bounds[1])\n",
    "        if score > best_std_score:\n",
    "            best_std_score = score\n",
    "            best_std = filter_row_std\n",
    "            best_std_params = {'alpha': alpha}  \n",
    "\n",
    "    # Grid search for Modified Z-Score\n",
    "    for alpha in modified_z_params['alpha']:\n",
    "        filter_row_mod_z = modified_z_score_approach(values_series, feature, alpha)\n",
    "        lower, upper = filter_row_mod_z['lower_bound_mod_z_score'].iloc[0], filter_row_mod_z['upper_bound_mod_z_score'].iloc[0]\n",
    "        score = jaccard_index(lower, upper, baseline_bounds[0], baseline_bounds[1])\n",
    "        if score > best_mod_z_score:\n",
    "            best_mod_z_score = score\n",
    "            best_mod_z = filter_row_mod_z\n",
    "            best_mod_z_params = {'alpha': alpha}  \n",
    "\n",
    "    # Grid search for Gamma Approach\n",
    "    for alpha_s in gamma_params['alpha_s']:\n",
    "        for alpha_k in gamma_params['alpha_k']:\n",
    "            for beta_1 in gamma_params['beta_1']:\n",
    "                for beta_2 in gamma_params['beta_2']:\n",
    "                    for gamma in gamma_params['gamma']:\n",
    "                        filter_row_gamma = gamma_outlier(values_series, feature, alpha_s, alpha_k, beta_1, beta_2, gamma)\n",
    "                        if filter_row_gamma is not None:\n",
    "                            lower, upper = filter_row_gamma['lower_bound_gamma'].iloc[0], filter_row_gamma['upper_bound_gamma'].iloc[0]\n",
    "                            score = jaccard_index(lower, upper, baseline_bounds[0], baseline_bounds[1])\n",
    "                            if score > best_gamma_score:\n",
    "                                best_gamma_score = score\n",
    "                                best_gamma = filter_row_gamma\n",
    "                                best_gamma_params = {\n",
    "                                    'alpha_s': alpha_s, \n",
    "                                    'alpha_k': alpha_k, \n",
    "                                    'beta_1': beta_1, \n",
    "                                    'beta_2': beta_2, \n",
    "                                    'gamma': gamma\n",
    "                                }  \n",
    "\n",
    "    result = {\n",
    "        'feature': feature,\n",
    "        'values': row['values'],\n",
    "        'lower': row['lower'],\n",
    "        'upper': row['upper'],\n",
    "        'lower_bound_iqr': best_iqr['lower_bound_iqr'].iloc[0] if best_iqr is not None else None,\n",
    "        'upper_bound_iqr': best_iqr['upper_bound_iqr'].iloc[0] if best_iqr is not None else None,\n",
    "        'lower_bound_std': best_std['lower_bound_std'].iloc[0] if best_std is not None else None,\n",
    "        'upper_bound_std': best_std['upper_bound_std'].iloc[0] if best_std is not None else None,\n",
    "        'lower_bound_mod_z_score': best_mod_z['lower_bound_mod_z_score'].iloc[0] if best_mod_z is not None else None,\n",
    "        'upper_bound_mod_z_score': best_mod_z['upper_bound_mod_z_score'].iloc[0] if best_mod_z is not None else None,\n",
    "        'lower_bound_gamma': best_gamma['lower_bound_gamma'].iloc[0] if best_gamma is not None else None,\n",
    "        'upper_bound_gamma': best_gamma['upper_bound_gamma'].iloc[0] if best_gamma is not None else None,\n",
    "        'IQR': best_iqr_score,\n",
    "        'STD': best_std_score,\n",
    "        'MOD_Z': best_mod_z_score,\n",
    "        'GAMMA': best_gamma_score,\n",
    "        'best_iqr_params': best_iqr_params,  \n",
    "        'best_std_params': best_std_params,  \n",
    "        'best_mod_z_params': best_mod_z_params, \n",
    "        'best_gamma_params': best_gamma_params \n",
    "    }\n",
    "    final_results.append(result)\n",
    "\n",
    "final_df_result = pd.DataFrame(final_results)\n",
    "\n",
    "end_time = time.time()"
   ]
  },
  {
   "cell_type": "code",
   "execution_count": 20,
   "metadata": {},
   "outputs": [
    {
     "name": "stdout",
     "output_type": "stream",
     "text": [
      "Elapsed time: 3.50 minutes\n"
     ]
    }
   ],
   "source": [
    "elapsed_time = (end_time - start_time)/60\n",
    "\n",
    "print(f\"Elapsed time: {elapsed_time:.2f} minutes\")"
   ]
  },
  {
   "cell_type": "code",
   "execution_count": 5,
   "metadata": {},
   "outputs": [
    {
     "data": {
      "text/html": [
       "<div>\n",
       "<style scoped>\n",
       "    .dataframe tbody tr th:only-of-type {\n",
       "        vertical-align: middle;\n",
       "    }\n",
       "\n",
       "    .dataframe tbody tr th {\n",
       "        vertical-align: top;\n",
       "    }\n",
       "\n",
       "    .dataframe thead th {\n",
       "        text-align: right;\n",
       "    }\n",
       "</style>\n",
       "<table border=\"1\" class=\"dataframe\">\n",
       "  <thead>\n",
       "    <tr style=\"text-align: right;\">\n",
       "      <th></th>\n",
       "      <th>feature</th>\n",
       "      <th>values</th>\n",
       "      <th>lower</th>\n",
       "      <th>upper</th>\n",
       "      <th>lower_bound_iqr</th>\n",
       "      <th>upper_bound_iqr</th>\n",
       "      <th>lower_bound_std</th>\n",
       "      <th>upper_bound_std</th>\n",
       "      <th>lower_bound_mod_z_score</th>\n",
       "      <th>upper_bound_mod_z_score</th>\n",
       "      <th>lower_bound_gamma</th>\n",
       "      <th>upper_bound_gamma</th>\n",
       "      <th>IQR</th>\n",
       "      <th>STD</th>\n",
       "      <th>MOD_Z</th>\n",
       "      <th>GAMMA</th>\n",
       "      <th>best_iqr_params</th>\n",
       "      <th>best_std_params</th>\n",
       "      <th>best_mod_z_params</th>\n",
       "      <th>best_gamma_params</th>\n",
       "    </tr>\n",
       "  </thead>\n",
       "  <tbody>\n",
       "    <tr>\n",
       "      <th>0</th>\n",
       "      <td>Feature_1</td>\n",
       "      <td>[12.483570765056164, 9.308678494144077, 13.238...</td>\n",
       "      <td>-6.206337</td>\n",
       "      <td>29.263657</td>\n",
       "      <td>-7.58</td>\n",
       "      <td>28.87</td>\n",
       "      <td>-3.28</td>\n",
       "      <td>34.64</td>\n",
       "      <td>-4.18</td>\n",
       "      <td>25.32</td>\n",
       "      <td>-6.21</td>\n",
       "      <td>53.17</td>\n",
       "      <td>0.952032</td>\n",
       "      <td>0.796734</td>\n",
       "      <td>0.831689</td>\n",
       "      <td>0.597339</td>\n",
       "      <td>{'k': 2}</td>\n",
       "      <td>{'alpha': 1}</td>\n",
       "      <td>{'alpha': 4}</td>\n",
       "      <td>{'alpha_s': 4, 'alpha_k': 20, 'beta_1': 2, 'be...</td>\n",
       "    </tr>\n",
       "    <tr>\n",
       "      <th>1</th>\n",
       "      <td>Feature_2</td>\n",
       "      <td>[14.178460560325709, 4.3514657267119095, 12.64...</td>\n",
       "      <td>-3.484433</td>\n",
       "      <td>23.161910</td>\n",
       "      <td>-0.36</td>\n",
       "      <td>22.95</td>\n",
       "      <td>-3.37</td>\n",
       "      <td>35.91</td>\n",
       "      <td>-1.95</td>\n",
       "      <td>23.93</td>\n",
       "      <td>-3.48</td>\n",
       "      <td>53.67</td>\n",
       "      <td>0.874792</td>\n",
       "      <td>0.673494</td>\n",
       "      <td>0.916011</td>\n",
       "      <td>0.466139</td>\n",
       "      <td>{'k': 1}</td>\n",
       "      <td>{'alpha': 1}</td>\n",
       "      <td>{'alpha': 3.5}</td>\n",
       "      <td>{'alpha_s': 4, 'alpha_k': 20, 'beta_1': 2, 'be...</td>\n",
       "    </tr>\n",
       "    <tr>\n",
       "      <th>2</th>\n",
       "      <td>Feature_3</td>\n",
       "      <td>[8.391824743913087, 20.383739917804206, 11.909...</td>\n",
       "      <td>-4.481277</td>\n",
       "      <td>23.008416</td>\n",
       "      <td>-0.85</td>\n",
       "      <td>23.10</td>\n",
       "      <td>-3.58</td>\n",
       "      <td>36.20</td>\n",
       "      <td>-2.90</td>\n",
       "      <td>24.74</td>\n",
       "      <td>-4.48</td>\n",
       "      <td>55.74</td>\n",
       "      <td>0.865022</td>\n",
       "      <td>0.653579</td>\n",
       "      <td>0.886628</td>\n",
       "      <td>0.456457</td>\n",
       "      <td>{'k': 1}</td>\n",
       "      <td>{'alpha': 1}</td>\n",
       "      <td>{'alpha': 3.5}</td>\n",
       "      <td>{'alpha_s': 4, 'alpha_k': 20, 'beta_1': 2, 'be...</td>\n",
       "    </tr>\n",
       "    <tr>\n",
       "      <th>3</th>\n",
       "      <td>Feature_4</td>\n",
       "      <td>[10.566352052688822, 2.8086101084131663, 14.59...</td>\n",
       "      <td>-5.097561</td>\n",
       "      <td>25.688743</td>\n",
       "      <td>-3.60</td>\n",
       "      <td>25.72</td>\n",
       "      <td>-3.94</td>\n",
       "      <td>35.99</td>\n",
       "      <td>-3.82</td>\n",
       "      <td>25.26</td>\n",
       "      <td>-5.10</td>\n",
       "      <td>53.78</td>\n",
       "      <td>0.950391</td>\n",
       "      <td>0.721112</td>\n",
       "      <td>0.944576</td>\n",
       "      <td>0.522865</td>\n",
       "      <td>{'k': 1.5}</td>\n",
       "      <td>{'alpha': 1}</td>\n",
       "      <td>{'alpha': 4}</td>\n",
       "      <td>{'alpha_s': 4, 'alpha_k': 20, 'beta_1': 2, 'be...</td>\n",
       "    </tr>\n",
       "    <tr>\n",
       "      <th>4</th>\n",
       "      <td>Feature_5</td>\n",
       "      <td>[3.699176174137099, 6.918192959802613, 8.12401...</td>\n",
       "      <td>-3.178739</td>\n",
       "      <td>25.549593</td>\n",
       "      <td>-4.34</td>\n",
       "      <td>25.81</td>\n",
       "      <td>-3.87</td>\n",
       "      <td>36.10</td>\n",
       "      <td>-4.36</td>\n",
       "      <td>26.30</td>\n",
       "      <td>-3.18</td>\n",
       "      <td>54.75</td>\n",
       "      <td>0.952847</td>\n",
       "      <td>0.718747</td>\n",
       "      <td>0.936997</td>\n",
       "      <td>0.495915</td>\n",
       "      <td>{'k': 1.5}</td>\n",
       "      <td>{'alpha': 1}</td>\n",
       "      <td>{'alpha': 4}</td>\n",
       "      <td>{'alpha_s': 4, 'alpha_k': 20, 'beta_1': 2, 'be...</td>\n",
       "    </tr>\n",
       "    <tr>\n",
       "      <th>5</th>\n",
       "      <td>Feature_6</td>\n",
       "      <td>[4.916584357117514, 8.779597631628993, 9.80346...</td>\n",
       "      <td>-4.955680</td>\n",
       "      <td>29.631189</td>\n",
       "      <td>-7.77</td>\n",
       "      <td>29.31</td>\n",
       "      <td>-4.28</td>\n",
       "      <td>35.96</td>\n",
       "      <td>-4.39</td>\n",
       "      <td>25.27</td>\n",
       "      <td>-4.96</td>\n",
       "      <td>55.14</td>\n",
       "      <td>0.916166</td>\n",
       "      <td>0.828807</td>\n",
       "      <td>0.857551</td>\n",
       "      <td>0.575489</td>\n",
       "      <td>{'k': 2}</td>\n",
       "      <td>{'alpha': 1}</td>\n",
       "      <td>{'alpha': 4}</td>\n",
       "      <td>{'alpha_s': 4, 'alpha_k': 20, 'beta_1': 2, 'be...</td>\n",
       "    </tr>\n",
       "    <tr>\n",
       "      <th>6</th>\n",
       "      <td>Feature_7</td>\n",
       "      <td>[5.765745169373177, 16.248094526483335, 13.896...</td>\n",
       "      <td>-4.647243</td>\n",
       "      <td>26.215465</td>\n",
       "      <td>-5.56</td>\n",
       "      <td>28.03</td>\n",
       "      <td>-3.29</td>\n",
       "      <td>35.41</td>\n",
       "      <td>-4.13</td>\n",
       "      <td>26.08</td>\n",
       "      <td>-4.65</td>\n",
       "      <td>53.38</td>\n",
       "      <td>0.918806</td>\n",
       "      <td>0.736583</td>\n",
       "      <td>0.978851</td>\n",
       "      <td>0.531841</td>\n",
       "      <td>{'k': 1.5}</td>\n",
       "      <td>{'alpha': 1}</td>\n",
       "      <td>{'alpha': 3.5}</td>\n",
       "      <td>{'alpha_s': 4, 'alpha_k': 20, 'beta_1': 2, 'be...</td>\n",
       "    </tr>\n",
       "    <tr>\n",
       "      <th>7</th>\n",
       "      <td>Feature_8</td>\n",
       "      <td>[11.38679230982338, 9.888605104081433, 11.6104...</td>\n",
       "      <td>-5.038162</td>\n",
       "      <td>25.760284</td>\n",
       "      <td>-4.21</td>\n",
       "      <td>25.25</td>\n",
       "      <td>-4.18</td>\n",
       "      <td>34.95</td>\n",
       "      <td>-4.73</td>\n",
       "      <td>25.21</td>\n",
       "      <td>-5.04</td>\n",
       "      <td>54.43</td>\n",
       "      <td>0.956542</td>\n",
       "      <td>0.748729</td>\n",
       "      <td>0.972127</td>\n",
       "      <td>0.517882</td>\n",
       "      <td>{'k': 1.5}</td>\n",
       "      <td>{'alpha': 1}</td>\n",
       "      <td>{'alpha': 4}</td>\n",
       "      <td>{'alpha_s': 4, 'alpha_k': 20, 'beta_1': 2, 'be...</td>\n",
       "    </tr>\n",
       "    <tr>\n",
       "      <th>8</th>\n",
       "      <td>Feature_9</td>\n",
       "      <td>[16.033040774319574, 2.364160717051762, 4.7245...</td>\n",
       "      <td>-5.883519</td>\n",
       "      <td>23.776089</td>\n",
       "      <td>-3.77</td>\n",
       "      <td>25.00</td>\n",
       "      <td>-3.76</td>\n",
       "      <td>34.81</td>\n",
       "      <td>-3.74</td>\n",
       "      <td>25.30</td>\n",
       "      <td>-5.88</td>\n",
       "      <td>54.10</td>\n",
       "      <td>0.891935</td>\n",
       "      <td>0.676670</td>\n",
       "      <td>0.882392</td>\n",
       "      <td>0.494404</td>\n",
       "      <td>{'k': 1.5}</td>\n",
       "      <td>{'alpha': 1}</td>\n",
       "      <td>{'alpha': 4}</td>\n",
       "      <td>{'alpha_s': 4, 'alpha_k': 20, 'beta_1': 2, 'be...</td>\n",
       "    </tr>\n",
       "    <tr>\n",
       "      <th>9</th>\n",
       "      <td>Feature_10</td>\n",
       "      <td>[12.939279440688676, 13.098693923514343, 0.443...</td>\n",
       "      <td>-3.124085</td>\n",
       "      <td>25.564551</td>\n",
       "      <td>-3.78</td>\n",
       "      <td>25.69</td>\n",
       "      <td>-3.65</td>\n",
       "      <td>35.68</td>\n",
       "      <td>-3.93</td>\n",
       "      <td>25.12</td>\n",
       "      <td>-3.12</td>\n",
       "      <td>54.90</td>\n",
       "      <td>0.973486</td>\n",
       "      <td>0.729434</td>\n",
       "      <td>0.957604</td>\n",
       "      <td>0.494356</td>\n",
       "      <td>{'k': 1.5}</td>\n",
       "      <td>{'alpha': 1}</td>\n",
       "      <td>{'alpha': 4}</td>\n",
       "      <td>{'alpha_s': 4, 'alpha_k': 20, 'beta_1': 2, 'be...</td>\n",
       "    </tr>\n",
       "    <tr>\n",
       "      <th>10</th>\n",
       "      <td>Feature_11</td>\n",
       "      <td>[16.81614487566125, 8.481869635509995, 7.55556...</td>\n",
       "      <td>-4.165151</td>\n",
       "      <td>25.491497</td>\n",
       "      <td>-4.02</td>\n",
       "      <td>25.15</td>\n",
       "      <td>-3.89</td>\n",
       "      <td>34.64</td>\n",
       "      <td>-3.95</td>\n",
       "      <td>24.10</td>\n",
       "      <td>-4.17</td>\n",
       "      <td>53.76</td>\n",
       "      <td>0.983591</td>\n",
       "      <td>0.757155</td>\n",
       "      <td>0.945825</td>\n",
       "      <td>0.511939</td>\n",
       "      <td>{'k': 1.5}</td>\n",
       "      <td>{'alpha': 1}</td>\n",
       "      <td>{'alpha': 4}</td>\n",
       "      <td>{'alpha_s': 4, 'alpha_k': 20, 'beta_1': 2, 'be...</td>\n",
       "    </tr>\n",
       "    <tr>\n",
       "      <th>11</th>\n",
       "      <td>Feature_12</td>\n",
       "      <td>[18.35673787718738, 5.493121600514128, 12.5286...</td>\n",
       "      <td>-3.563063</td>\n",
       "      <td>23.899818</td>\n",
       "      <td>-4.65</td>\n",
       "      <td>26.65</td>\n",
       "      <td>-3.28</td>\n",
       "      <td>35.14</td>\n",
       "      <td>-3.17</td>\n",
       "      <td>24.39</td>\n",
       "      <td>-3.56</td>\n",
       "      <td>53.45</td>\n",
       "      <td>0.877408</td>\n",
       "      <td>0.702265</td>\n",
       "      <td>0.968403</td>\n",
       "      <td>0.481641</td>\n",
       "      <td>{'k': 1.5}</td>\n",
       "      <td>{'alpha': 1}</td>\n",
       "      <td>{'alpha': 3.5}</td>\n",
       "      <td>{'alpha_s': 4, 'alpha_k': 20, 'beta_1': 2, 'be...</td>\n",
       "    </tr>\n",
       "    <tr>\n",
       "      <th>12</th>\n",
       "      <td>Feature_13</td>\n",
       "      <td>[6.169773987998001, 7.693664747508464, -1.2639...</td>\n",
       "      <td>-3.537719</td>\n",
       "      <td>27.645276</td>\n",
       "      <td>-6.50</td>\n",
       "      <td>27.58</td>\n",
       "      <td>-4.20</td>\n",
       "      <td>35.23</td>\n",
       "      <td>-6.54</td>\n",
       "      <td>26.81</td>\n",
       "      <td>-3.54</td>\n",
       "      <td>54.19</td>\n",
       "      <td>0.911333</td>\n",
       "      <td>0.790844</td>\n",
       "      <td>0.887742</td>\n",
       "      <td>0.540152</td>\n",
       "      <td>{'k': 1.5}</td>\n",
       "      <td>{'alpha': 1}</td>\n",
       "      <td>{'alpha': 4}</td>\n",
       "      <td>{'alpha_s': 4, 'alpha_k': 20, 'beta_1': 2, 'be...</td>\n",
       "    </tr>\n",
       "    <tr>\n",
       "      <th>13</th>\n",
       "      <td>Feature_14</td>\n",
       "      <td>[3.4227934647507716, 16.54722050701324, 8.6155...</td>\n",
       "      <td>-6.105082</td>\n",
       "      <td>25.588406</td>\n",
       "      <td>-5.53</td>\n",
       "      <td>27.68</td>\n",
       "      <td>-3.57</td>\n",
       "      <td>35.31</td>\n",
       "      <td>-5.19</td>\n",
       "      <td>26.44</td>\n",
       "      <td>-6.11</td>\n",
       "      <td>54.43</td>\n",
       "      <td>0.921069</td>\n",
       "      <td>0.704053</td>\n",
       "      <td>0.945716</td>\n",
       "      <td>0.523513</td>\n",
       "      <td>{'k': 1.5}</td>\n",
       "      <td>{'alpha': 1}</td>\n",
       "      <td>{'alpha': 4}</td>\n",
       "      <td>{'alpha_s': 4, 'alpha_k': 20, 'beta_1': 2, 'be...</td>\n",
       "    </tr>\n",
       "    <tr>\n",
       "      <th>14</th>\n",
       "      <td>Feature_15</td>\n",
       "      <td>[10.882420918314764, 12.256130080680494, 9.634...</td>\n",
       "      <td>-8.441826</td>\n",
       "      <td>24.326060</td>\n",
       "      <td>-4.91</td>\n",
       "      <td>27.07</td>\n",
       "      <td>-3.11</td>\n",
       "      <td>34.78</td>\n",
       "      <td>-5.31</td>\n",
       "      <td>26.72</td>\n",
       "      <td>-8.44</td>\n",
       "      <td>53.24</td>\n",
       "      <td>0.823277</td>\n",
       "      <td>0.634773</td>\n",
       "      <td>0.842848</td>\n",
       "      <td>0.531211</td>\n",
       "      <td>{'k': 1.5}</td>\n",
       "      <td>{'alpha': 1}</td>\n",
       "      <td>{'alpha': 4}</td>\n",
       "      <td>{'alpha_s': 4, 'alpha_k': 20, 'beta_1': 2, 'be...</td>\n",
       "    </tr>\n",
       "    <tr>\n",
       "      <th>15</th>\n",
       "      <td>Feature_16</td>\n",
       "      <td>[10.52639311954839, 10.753012464223168, 2.4847...</td>\n",
       "      <td>-9.183278</td>\n",
       "      <td>26.886915</td>\n",
       "      <td>-8.21</td>\n",
       "      <td>30.08</td>\n",
       "      <td>-3.68</td>\n",
       "      <td>35.60</td>\n",
       "      <td>-4.75</td>\n",
       "      <td>26.25</td>\n",
       "      <td>-9.18</td>\n",
       "      <td>55.01</td>\n",
       "      <td>0.893887</td>\n",
       "      <td>0.682552</td>\n",
       "      <td>0.859435</td>\n",
       "      <td>0.561849</td>\n",
       "      <td>{'k': 2}</td>\n",
       "      <td>{'alpha': 1}</td>\n",
       "      <td>{'alpha': 4}</td>\n",
       "      <td>{'alpha_s': 4, 'alpha_k': 20, 'beta_1': 2, 'be...</td>\n",
       "    </tr>\n",
       "    <tr>\n",
       "      <th>16</th>\n",
       "      <td>Feature_17</td>\n",
       "      <td>[7.818684839099856, 15.240583796345774, 4.6573...</td>\n",
       "      <td>-2.604235</td>\n",
       "      <td>25.788856</td>\n",
       "      <td>-2.51</td>\n",
       "      <td>24.75</td>\n",
       "      <td>-4.00</td>\n",
       "      <td>36.56</td>\n",
       "      <td>-3.06</td>\n",
       "      <td>24.92</td>\n",
       "      <td>-2.60</td>\n",
       "      <td>56.31</td>\n",
       "      <td>0.960093</td>\n",
       "      <td>0.700027</td>\n",
       "      <td>0.954084</td>\n",
       "      <td>0.481868</td>\n",
       "      <td>{'k': 1.5}</td>\n",
       "      <td>{'alpha': 1}</td>\n",
       "      <td>{'alpha': 4}</td>\n",
       "      <td>{'alpha_s': 4, 'alpha_k': 20, 'beta_1': 2, 'be...</td>\n",
       "    </tr>\n",
       "    <tr>\n",
       "      <th>17</th>\n",
       "      <td>Feature_18</td>\n",
       "      <td>[11.220492217511932, 11.369555434235895, 2.384...</td>\n",
       "      <td>-4.009558</td>\n",
       "      <td>23.841868</td>\n",
       "      <td>-4.03</td>\n",
       "      <td>25.83</td>\n",
       "      <td>-3.92</td>\n",
       "      <td>35.23</td>\n",
       "      <td>-4.15</td>\n",
       "      <td>25.30</td>\n",
       "      <td>-4.01</td>\n",
       "      <td>54.53</td>\n",
       "      <td>0.932734</td>\n",
       "      <td>0.707497</td>\n",
       "      <td>0.945719</td>\n",
       "      <td>0.475767</td>\n",
       "      <td>{'k': 1.5}</td>\n",
       "      <td>{'alpha': 1}</td>\n",
       "      <td>{'alpha': 4}</td>\n",
       "      <td>{'alpha_s': 4, 'alpha_k': 20, 'beta_1': 2, 'be...</td>\n",
       "    </tr>\n",
       "    <tr>\n",
       "      <th>18</th>\n",
       "      <td>Feature_19</td>\n",
       "      <td>[5.375370921403631, 11.343878945743207, 10.935...</td>\n",
       "      <td>-9.612001</td>\n",
       "      <td>22.651848</td>\n",
       "      <td>-8.39</td>\n",
       "      <td>29.12</td>\n",
       "      <td>-4.79</td>\n",
       "      <td>36.57</td>\n",
       "      <td>-4.55</td>\n",
       "      <td>25.71</td>\n",
       "      <td>-9.61</td>\n",
       "      <td>55.83</td>\n",
       "      <td>0.801452</td>\n",
       "      <td>0.594211</td>\n",
       "      <td>0.770111</td>\n",
       "      <td>0.492984</td>\n",
       "      <td>{'k': 2}</td>\n",
       "      <td>{'alpha': 1}</td>\n",
       "      <td>{'alpha': 4}</td>\n",
       "      <td>{'alpha_s': 4, 'alpha_k': 20, 'beta_1': 2, 'be...</td>\n",
       "    </tr>\n",
       "    <tr>\n",
       "      <th>19</th>\n",
       "      <td>Feature_20</td>\n",
       "      <td>[17.580580901775214, 2.462235276832896, 10.050...</td>\n",
       "      <td>-4.053142</td>\n",
       "      <td>24.006865</td>\n",
       "      <td>-4.18</td>\n",
       "      <td>26.11</td>\n",
       "      <td>-3.25</td>\n",
       "      <td>34.38</td>\n",
       "      <td>-3.03</td>\n",
       "      <td>24.01</td>\n",
       "      <td>-4.05</td>\n",
       "      <td>53.19</td>\n",
       "      <td>0.926379</td>\n",
       "      <td>0.709202</td>\n",
       "      <td>0.963430</td>\n",
       "      <td>0.490135</td>\n",
       "      <td>{'k': 1.5}</td>\n",
       "      <td>{'alpha': 1}</td>\n",
       "      <td>{'alpha': 3.5}</td>\n",
       "      <td>{'alpha_s': 4, 'alpha_k': 20, 'beta_1': 2, 'be...</td>\n",
       "    </tr>\n",
       "  </tbody>\n",
       "</table>\n",
       "</div>"
      ],
      "text/plain": [
       "       feature                                             values     lower  \\\n",
       "0    Feature_1  [12.483570765056164, 9.308678494144077, 13.238... -6.206337   \n",
       "1    Feature_2  [14.178460560325709, 4.3514657267119095, 12.64... -3.484433   \n",
       "2    Feature_3  [8.391824743913087, 20.383739917804206, 11.909... -4.481277   \n",
       "3    Feature_4  [10.566352052688822, 2.8086101084131663, 14.59... -5.097561   \n",
       "4    Feature_5  [3.699176174137099, 6.918192959802613, 8.12401... -3.178739   \n",
       "5    Feature_6  [4.916584357117514, 8.779597631628993, 9.80346... -4.955680   \n",
       "6    Feature_7  [5.765745169373177, 16.248094526483335, 13.896... -4.647243   \n",
       "7    Feature_8  [11.38679230982338, 9.888605104081433, 11.6104... -5.038162   \n",
       "8    Feature_9  [16.033040774319574, 2.364160717051762, 4.7245... -5.883519   \n",
       "9   Feature_10  [12.939279440688676, 13.098693923514343, 0.443... -3.124085   \n",
       "10  Feature_11  [16.81614487566125, 8.481869635509995, 7.55556... -4.165151   \n",
       "11  Feature_12  [18.35673787718738, 5.493121600514128, 12.5286... -3.563063   \n",
       "12  Feature_13  [6.169773987998001, 7.693664747508464, -1.2639... -3.537719   \n",
       "13  Feature_14  [3.4227934647507716, 16.54722050701324, 8.6155... -6.105082   \n",
       "14  Feature_15  [10.882420918314764, 12.256130080680494, 9.634... -8.441826   \n",
       "15  Feature_16  [10.52639311954839, 10.753012464223168, 2.4847... -9.183278   \n",
       "16  Feature_17  [7.818684839099856, 15.240583796345774, 4.6573... -2.604235   \n",
       "17  Feature_18  [11.220492217511932, 11.369555434235895, 2.384... -4.009558   \n",
       "18  Feature_19  [5.375370921403631, 11.343878945743207, 10.935... -9.612001   \n",
       "19  Feature_20  [17.580580901775214, 2.462235276832896, 10.050... -4.053142   \n",
       "\n",
       "        upper  lower_bound_iqr  upper_bound_iqr  lower_bound_std  \\\n",
       "0   29.263657            -7.58            28.87            -3.28   \n",
       "1   23.161910            -0.36            22.95            -3.37   \n",
       "2   23.008416            -0.85            23.10            -3.58   \n",
       "3   25.688743            -3.60            25.72            -3.94   \n",
       "4   25.549593            -4.34            25.81            -3.87   \n",
       "5   29.631189            -7.77            29.31            -4.28   \n",
       "6   26.215465            -5.56            28.03            -3.29   \n",
       "7   25.760284            -4.21            25.25            -4.18   \n",
       "8   23.776089            -3.77            25.00            -3.76   \n",
       "9   25.564551            -3.78            25.69            -3.65   \n",
       "10  25.491497            -4.02            25.15            -3.89   \n",
       "11  23.899818            -4.65            26.65            -3.28   \n",
       "12  27.645276            -6.50            27.58            -4.20   \n",
       "13  25.588406            -5.53            27.68            -3.57   \n",
       "14  24.326060            -4.91            27.07            -3.11   \n",
       "15  26.886915            -8.21            30.08            -3.68   \n",
       "16  25.788856            -2.51            24.75            -4.00   \n",
       "17  23.841868            -4.03            25.83            -3.92   \n",
       "18  22.651848            -8.39            29.12            -4.79   \n",
       "19  24.006865            -4.18            26.11            -3.25   \n",
       "\n",
       "    upper_bound_std  lower_bound_mod_z_score  upper_bound_mod_z_score  \\\n",
       "0             34.64                    -4.18                    25.32   \n",
       "1             35.91                    -1.95                    23.93   \n",
       "2             36.20                    -2.90                    24.74   \n",
       "3             35.99                    -3.82                    25.26   \n",
       "4             36.10                    -4.36                    26.30   \n",
       "5             35.96                    -4.39                    25.27   \n",
       "6             35.41                    -4.13                    26.08   \n",
       "7             34.95                    -4.73                    25.21   \n",
       "8             34.81                    -3.74                    25.30   \n",
       "9             35.68                    -3.93                    25.12   \n",
       "10            34.64                    -3.95                    24.10   \n",
       "11            35.14                    -3.17                    24.39   \n",
       "12            35.23                    -6.54                    26.81   \n",
       "13            35.31                    -5.19                    26.44   \n",
       "14            34.78                    -5.31                    26.72   \n",
       "15            35.60                    -4.75                    26.25   \n",
       "16            36.56                    -3.06                    24.92   \n",
       "17            35.23                    -4.15                    25.30   \n",
       "18            36.57                    -4.55                    25.71   \n",
       "19            34.38                    -3.03                    24.01   \n",
       "\n",
       "    lower_bound_gamma  upper_bound_gamma       IQR       STD     MOD_Z  \\\n",
       "0               -6.21              53.17  0.952032  0.796734  0.831689   \n",
       "1               -3.48              53.67  0.874792  0.673494  0.916011   \n",
       "2               -4.48              55.74  0.865022  0.653579  0.886628   \n",
       "3               -5.10              53.78  0.950391  0.721112  0.944576   \n",
       "4               -3.18              54.75  0.952847  0.718747  0.936997   \n",
       "5               -4.96              55.14  0.916166  0.828807  0.857551   \n",
       "6               -4.65              53.38  0.918806  0.736583  0.978851   \n",
       "7               -5.04              54.43  0.956542  0.748729  0.972127   \n",
       "8               -5.88              54.10  0.891935  0.676670  0.882392   \n",
       "9               -3.12              54.90  0.973486  0.729434  0.957604   \n",
       "10              -4.17              53.76  0.983591  0.757155  0.945825   \n",
       "11              -3.56              53.45  0.877408  0.702265  0.968403   \n",
       "12              -3.54              54.19  0.911333  0.790844  0.887742   \n",
       "13              -6.11              54.43  0.921069  0.704053  0.945716   \n",
       "14              -8.44              53.24  0.823277  0.634773  0.842848   \n",
       "15              -9.18              55.01  0.893887  0.682552  0.859435   \n",
       "16              -2.60              56.31  0.960093  0.700027  0.954084   \n",
       "17              -4.01              54.53  0.932734  0.707497  0.945719   \n",
       "18              -9.61              55.83  0.801452  0.594211  0.770111   \n",
       "19              -4.05              53.19  0.926379  0.709202  0.963430   \n",
       "\n",
       "       GAMMA best_iqr_params best_std_params best_mod_z_params  \\\n",
       "0   0.597339        {'k': 2}    {'alpha': 1}      {'alpha': 4}   \n",
       "1   0.466139        {'k': 1}    {'alpha': 1}    {'alpha': 3.5}   \n",
       "2   0.456457        {'k': 1}    {'alpha': 1}    {'alpha': 3.5}   \n",
       "3   0.522865      {'k': 1.5}    {'alpha': 1}      {'alpha': 4}   \n",
       "4   0.495915      {'k': 1.5}    {'alpha': 1}      {'alpha': 4}   \n",
       "5   0.575489        {'k': 2}    {'alpha': 1}      {'alpha': 4}   \n",
       "6   0.531841      {'k': 1.5}    {'alpha': 1}    {'alpha': 3.5}   \n",
       "7   0.517882      {'k': 1.5}    {'alpha': 1}      {'alpha': 4}   \n",
       "8   0.494404      {'k': 1.5}    {'alpha': 1}      {'alpha': 4}   \n",
       "9   0.494356      {'k': 1.5}    {'alpha': 1}      {'alpha': 4}   \n",
       "10  0.511939      {'k': 1.5}    {'alpha': 1}      {'alpha': 4}   \n",
       "11  0.481641      {'k': 1.5}    {'alpha': 1}    {'alpha': 3.5}   \n",
       "12  0.540152      {'k': 1.5}    {'alpha': 1}      {'alpha': 4}   \n",
       "13  0.523513      {'k': 1.5}    {'alpha': 1}      {'alpha': 4}   \n",
       "14  0.531211      {'k': 1.5}    {'alpha': 1}      {'alpha': 4}   \n",
       "15  0.561849        {'k': 2}    {'alpha': 1}      {'alpha': 4}   \n",
       "16  0.481868      {'k': 1.5}    {'alpha': 1}      {'alpha': 4}   \n",
       "17  0.475767      {'k': 1.5}    {'alpha': 1}      {'alpha': 4}   \n",
       "18  0.492984        {'k': 2}    {'alpha': 1}      {'alpha': 4}   \n",
       "19  0.490135      {'k': 1.5}    {'alpha': 1}    {'alpha': 3.5}   \n",
       "\n",
       "                                    best_gamma_params  \n",
       "0   {'alpha_s': 4, 'alpha_k': 20, 'beta_1': 2, 'be...  \n",
       "1   {'alpha_s': 4, 'alpha_k': 20, 'beta_1': 2, 'be...  \n",
       "2   {'alpha_s': 4, 'alpha_k': 20, 'beta_1': 2, 'be...  \n",
       "3   {'alpha_s': 4, 'alpha_k': 20, 'beta_1': 2, 'be...  \n",
       "4   {'alpha_s': 4, 'alpha_k': 20, 'beta_1': 2, 'be...  \n",
       "5   {'alpha_s': 4, 'alpha_k': 20, 'beta_1': 2, 'be...  \n",
       "6   {'alpha_s': 4, 'alpha_k': 20, 'beta_1': 2, 'be...  \n",
       "7   {'alpha_s': 4, 'alpha_k': 20, 'beta_1': 2, 'be...  \n",
       "8   {'alpha_s': 4, 'alpha_k': 20, 'beta_1': 2, 'be...  \n",
       "9   {'alpha_s': 4, 'alpha_k': 20, 'beta_1': 2, 'be...  \n",
       "10  {'alpha_s': 4, 'alpha_k': 20, 'beta_1': 2, 'be...  \n",
       "11  {'alpha_s': 4, 'alpha_k': 20, 'beta_1': 2, 'be...  \n",
       "12  {'alpha_s': 4, 'alpha_k': 20, 'beta_1': 2, 'be...  \n",
       "13  {'alpha_s': 4, 'alpha_k': 20, 'beta_1': 2, 'be...  \n",
       "14  {'alpha_s': 4, 'alpha_k': 20, 'beta_1': 2, 'be...  \n",
       "15  {'alpha_s': 4, 'alpha_k': 20, 'beta_1': 2, 'be...  \n",
       "16  {'alpha_s': 4, 'alpha_k': 20, 'beta_1': 2, 'be...  \n",
       "17  {'alpha_s': 4, 'alpha_k': 20, 'beta_1': 2, 'be...  \n",
       "18  {'alpha_s': 4, 'alpha_k': 20, 'beta_1': 2, 'be...  \n",
       "19  {'alpha_s': 4, 'alpha_k': 20, 'beta_1': 2, 'be...  "
      ]
     },
     "execution_count": 5,
     "metadata": {},
     "output_type": "execute_result"
    }
   ],
   "source": [
    "final_df_result\n"
   ]
  },
  {
   "cell_type": "code",
   "execution_count": 6,
   "metadata": {},
   "outputs": [
    {
     "data": {
      "text/plain": [
       "0     0.597339\n",
       "1     0.466139\n",
       "2     0.456457\n",
       "3     0.522865\n",
       "4     0.495915\n",
       "5     0.575489\n",
       "6     0.531841\n",
       "7     0.517882\n",
       "8     0.494404\n",
       "9     0.494356\n",
       "10    0.511939\n",
       "11    0.481641\n",
       "12    0.540152\n",
       "13    0.523513\n",
       "14    0.531211\n",
       "15    0.561849\n",
       "16    0.481868\n",
       "17    0.475767\n",
       "18    0.492984\n",
       "19    0.490135\n",
       "Name: GAMMA, dtype: float64"
      ]
     },
     "execution_count": 6,
     "metadata": {},
     "output_type": "execute_result"
    }
   ],
   "source": [
    "final_df_result['GAMMA']"
   ]
  },
  {
   "cell_type": "code",
   "execution_count": 7,
   "metadata": {},
   "outputs": [],
   "source": [
    "length_df = len(final_df_result)\n",
    "\n",
    "iqr_mean = final_df_result['IQR'].sum() / length_df\n",
    "z_score_mean = final_df_result['STD'].sum() / length_df\n",
    "mod_z_mean = final_df_result['MOD_Z'].sum() / length_df\n",
    "gamma_mean = final_df_result['GAMMA'].sum() / length_df\n",
    "\n",
    "df_eval = pd.DataFrame({\n",
    "    'IQR': [iqr_mean],\n",
    "    'STD': [z_score_mean],\n",
    "    'MOD_Z': [mod_z_mean],\n",
    "    'GAMMA': [gamma_mean]\n",
    "}, index=['mean jaccard coeff'])"
   ]
  },
  {
   "cell_type": "code",
   "execution_count": 8,
   "metadata": {},
   "outputs": [
    {
     "data": {
      "application/vnd.plotly.v1+json": {
       "config": {
        "plotlyServerURL": "https://plot.ly"
       },
       "data": [
        {
         "coloraxis": "coloraxis",
         "hovertemplate": "x: %{x}<br>y: %{y}<br>Jaccard Index: %{z}<extra></extra>",
         "name": "0",
         "texttemplate": "%{z:.2f}",
         "type": "heatmap",
         "x": [
          "IQR",
          "STD",
          "MOD_Z",
          "GAMMA"
         ],
         "xaxis": "x",
         "y": [
          0,
          1,
          2,
          3,
          4,
          5,
          6,
          7,
          8,
          9,
          10,
          11,
          12,
          13,
          14,
          15,
          16,
          17,
          18,
          19
         ],
         "yaxis": "y",
         "z": [
          [
           0.9520318862162471,
           0.7967338097420728,
           0.8316888881412501,
           0.5973390729811211
          ],
          [
           0.8747916938763152,
           0.6734938964493417,
           0.9160105601130722,
           0.46613899964860556
          ],
          [
           0.8650221548921279,
           0.6535786878608228,
           0.8866284545871301,
           0.4564568702299384
          ],
          [
           0.9503913329882755,
           0.721112232181187,
           0.9445758906937569,
           0.5228652080061836
          ],
          [
           0.9528468150948988,
           0.7187473473883212,
           0.9369971126911676,
           0.49591457750925594
          ],
          [
           0.9161655337508836,
           0.8288066739394288,
           0.8575508967275591,
           0.575488658680287
          ],
          [
           0.9188064393565051,
           0.7365825080998007,
           0.9788512306929452,
           0.5318405703599002
          ],
          [
           0.9565417879082875,
           0.7487286837120819,
           0.9721269901552657,
           0.5178820476043251
          ],
          [
           0.8919349074096654,
           0.676670127101881,
           0.8823920308794938,
           0.4944039492911167
          ],
          [
           0.9734861312212338,
           0.7294339254281659,
           0.9576035002829042,
           0.49435593626120644
          ],
          [
           0.9835905726473676,
           0.757154554793418,
           0.9458250107219288,
           0.5119393858289313
          ],
          [
           0.8774083367466444,
           0.7022653025728518,
           0.9684025788640086,
           0.48164081639096684
          ],
          [
           0.9113330738209008,
           0.7908444132578825,
           0.8877424108577308,
           0.5401523508532532
          ],
          [
           0.9210694190039647,
           0.7040528327574518,
           0.9457160333522995,
           0.5235131718858409
          ],
          [
           0.8232767230577009,
           0.6347732699966945,
           0.8428475736763102,
           0.531210925444893
          ],
          [
           0.8938865172126128,
           0.6825519733349806,
           0.8594353950142545,
           0.5618487770667114
          ],
          [
           0.9600927059965645,
           0.7000269094695553,
           0.9540840938963908,
           0.48186752148076867
          ],
          [
           0.9327336194095505,
           0.7074969635505538,
           0.9457190450108378,
           0.4757674389403686
          ],
          [
           0.8014522187056712,
           0.5942108959256126,
           0.7701106215485719,
           0.49298382877952357
          ],
          [
           0.9263785583118295,
           0.7092021059284731,
           0.9634297310628289,
           0.4901349606651021
          ]
         ]
        }
       ],
       "layout": {
        "coloraxis": {
         "colorbar": {
          "title": {
           "text": "Jaccard Index"
          }
         },
         "colorscale": [
          [
           0,
           "rgb(255,255,217)"
          ],
          [
           0.125,
           "rgb(237,248,177)"
          ],
          [
           0.25,
           "rgb(199,233,180)"
          ],
          [
           0.375,
           "rgb(127,205,187)"
          ],
          [
           0.5,
           "rgb(65,182,196)"
          ],
          [
           0.625,
           "rgb(29,145,192)"
          ],
          [
           0.75,
           "rgb(34,94,168)"
          ],
          [
           0.875,
           "rgb(37,52,148)"
          ],
          [
           1,
           "rgb(8,29,88)"
          ]
         ]
        },
        "margin": {
         "t": 60
        },
        "template": {
         "data": {
          "bar": [
           {
            "error_x": {
             "color": "#2a3f5f"
            },
            "error_y": {
             "color": "#2a3f5f"
            },
            "marker": {
             "line": {
              "color": "#E5ECF6",
              "width": 0.5
             },
             "pattern": {
              "fillmode": "overlay",
              "size": 10,
              "solidity": 0.2
             }
            },
            "type": "bar"
           }
          ],
          "barpolar": [
           {
            "marker": {
             "line": {
              "color": "#E5ECF6",
              "width": 0.5
             },
             "pattern": {
              "fillmode": "overlay",
              "size": 10,
              "solidity": 0.2
             }
            },
            "type": "barpolar"
           }
          ],
          "carpet": [
           {
            "aaxis": {
             "endlinecolor": "#2a3f5f",
             "gridcolor": "white",
             "linecolor": "white",
             "minorgridcolor": "white",
             "startlinecolor": "#2a3f5f"
            },
            "baxis": {
             "endlinecolor": "#2a3f5f",
             "gridcolor": "white",
             "linecolor": "white",
             "minorgridcolor": "white",
             "startlinecolor": "#2a3f5f"
            },
            "type": "carpet"
           }
          ],
          "choropleth": [
           {
            "colorbar": {
             "outlinewidth": 0,
             "ticks": ""
            },
            "type": "choropleth"
           }
          ],
          "contour": [
           {
            "colorbar": {
             "outlinewidth": 0,
             "ticks": ""
            },
            "colorscale": [
             [
              0,
              "#0d0887"
             ],
             [
              0.1111111111111111,
              "#46039f"
             ],
             [
              0.2222222222222222,
              "#7201a8"
             ],
             [
              0.3333333333333333,
              "#9c179e"
             ],
             [
              0.4444444444444444,
              "#bd3786"
             ],
             [
              0.5555555555555556,
              "#d8576b"
             ],
             [
              0.6666666666666666,
              "#ed7953"
             ],
             [
              0.7777777777777778,
              "#fb9f3a"
             ],
             [
              0.8888888888888888,
              "#fdca26"
             ],
             [
              1,
              "#f0f921"
             ]
            ],
            "type": "contour"
           }
          ],
          "contourcarpet": [
           {
            "colorbar": {
             "outlinewidth": 0,
             "ticks": ""
            },
            "type": "contourcarpet"
           }
          ],
          "heatmap": [
           {
            "colorbar": {
             "outlinewidth": 0,
             "ticks": ""
            },
            "colorscale": [
             [
              0,
              "#0d0887"
             ],
             [
              0.1111111111111111,
              "#46039f"
             ],
             [
              0.2222222222222222,
              "#7201a8"
             ],
             [
              0.3333333333333333,
              "#9c179e"
             ],
             [
              0.4444444444444444,
              "#bd3786"
             ],
             [
              0.5555555555555556,
              "#d8576b"
             ],
             [
              0.6666666666666666,
              "#ed7953"
             ],
             [
              0.7777777777777778,
              "#fb9f3a"
             ],
             [
              0.8888888888888888,
              "#fdca26"
             ],
             [
              1,
              "#f0f921"
             ]
            ],
            "type": "heatmap"
           }
          ],
          "heatmapgl": [
           {
            "colorbar": {
             "outlinewidth": 0,
             "ticks": ""
            },
            "colorscale": [
             [
              0,
              "#0d0887"
             ],
             [
              0.1111111111111111,
              "#46039f"
             ],
             [
              0.2222222222222222,
              "#7201a8"
             ],
             [
              0.3333333333333333,
              "#9c179e"
             ],
             [
              0.4444444444444444,
              "#bd3786"
             ],
             [
              0.5555555555555556,
              "#d8576b"
             ],
             [
              0.6666666666666666,
              "#ed7953"
             ],
             [
              0.7777777777777778,
              "#fb9f3a"
             ],
             [
              0.8888888888888888,
              "#fdca26"
             ],
             [
              1,
              "#f0f921"
             ]
            ],
            "type": "heatmapgl"
           }
          ],
          "histogram": [
           {
            "marker": {
             "pattern": {
              "fillmode": "overlay",
              "size": 10,
              "solidity": 0.2
             }
            },
            "type": "histogram"
           }
          ],
          "histogram2d": [
           {
            "colorbar": {
             "outlinewidth": 0,
             "ticks": ""
            },
            "colorscale": [
             [
              0,
              "#0d0887"
             ],
             [
              0.1111111111111111,
              "#46039f"
             ],
             [
              0.2222222222222222,
              "#7201a8"
             ],
             [
              0.3333333333333333,
              "#9c179e"
             ],
             [
              0.4444444444444444,
              "#bd3786"
             ],
             [
              0.5555555555555556,
              "#d8576b"
             ],
             [
              0.6666666666666666,
              "#ed7953"
             ],
             [
              0.7777777777777778,
              "#fb9f3a"
             ],
             [
              0.8888888888888888,
              "#fdca26"
             ],
             [
              1,
              "#f0f921"
             ]
            ],
            "type": "histogram2d"
           }
          ],
          "histogram2dcontour": [
           {
            "colorbar": {
             "outlinewidth": 0,
             "ticks": ""
            },
            "colorscale": [
             [
              0,
              "#0d0887"
             ],
             [
              0.1111111111111111,
              "#46039f"
             ],
             [
              0.2222222222222222,
              "#7201a8"
             ],
             [
              0.3333333333333333,
              "#9c179e"
             ],
             [
              0.4444444444444444,
              "#bd3786"
             ],
             [
              0.5555555555555556,
              "#d8576b"
             ],
             [
              0.6666666666666666,
              "#ed7953"
             ],
             [
              0.7777777777777778,
              "#fb9f3a"
             ],
             [
              0.8888888888888888,
              "#fdca26"
             ],
             [
              1,
              "#f0f921"
             ]
            ],
            "type": "histogram2dcontour"
           }
          ],
          "mesh3d": [
           {
            "colorbar": {
             "outlinewidth": 0,
             "ticks": ""
            },
            "type": "mesh3d"
           }
          ],
          "parcoords": [
           {
            "line": {
             "colorbar": {
              "outlinewidth": 0,
              "ticks": ""
             }
            },
            "type": "parcoords"
           }
          ],
          "pie": [
           {
            "automargin": true,
            "type": "pie"
           }
          ],
          "scatter": [
           {
            "fillpattern": {
             "fillmode": "overlay",
             "size": 10,
             "solidity": 0.2
            },
            "type": "scatter"
           }
          ],
          "scatter3d": [
           {
            "line": {
             "colorbar": {
              "outlinewidth": 0,
              "ticks": ""
             }
            },
            "marker": {
             "colorbar": {
              "outlinewidth": 0,
              "ticks": ""
             }
            },
            "type": "scatter3d"
           }
          ],
          "scattercarpet": [
           {
            "marker": {
             "colorbar": {
              "outlinewidth": 0,
              "ticks": ""
             }
            },
            "type": "scattercarpet"
           }
          ],
          "scattergeo": [
           {
            "marker": {
             "colorbar": {
              "outlinewidth": 0,
              "ticks": ""
             }
            },
            "type": "scattergeo"
           }
          ],
          "scattergl": [
           {
            "marker": {
             "colorbar": {
              "outlinewidth": 0,
              "ticks": ""
             }
            },
            "type": "scattergl"
           }
          ],
          "scattermapbox": [
           {
            "marker": {
             "colorbar": {
              "outlinewidth": 0,
              "ticks": ""
             }
            },
            "type": "scattermapbox"
           }
          ],
          "scatterpolar": [
           {
            "marker": {
             "colorbar": {
              "outlinewidth": 0,
              "ticks": ""
             }
            },
            "type": "scatterpolar"
           }
          ],
          "scatterpolargl": [
           {
            "marker": {
             "colorbar": {
              "outlinewidth": 0,
              "ticks": ""
             }
            },
            "type": "scatterpolargl"
           }
          ],
          "scatterternary": [
           {
            "marker": {
             "colorbar": {
              "outlinewidth": 0,
              "ticks": ""
             }
            },
            "type": "scatterternary"
           }
          ],
          "surface": [
           {
            "colorbar": {
             "outlinewidth": 0,
             "ticks": ""
            },
            "colorscale": [
             [
              0,
              "#0d0887"
             ],
             [
              0.1111111111111111,
              "#46039f"
             ],
             [
              0.2222222222222222,
              "#7201a8"
             ],
             [
              0.3333333333333333,
              "#9c179e"
             ],
             [
              0.4444444444444444,
              "#bd3786"
             ],
             [
              0.5555555555555556,
              "#d8576b"
             ],
             [
              0.6666666666666666,
              "#ed7953"
             ],
             [
              0.7777777777777778,
              "#fb9f3a"
             ],
             [
              0.8888888888888888,
              "#fdca26"
             ],
             [
              1,
              "#f0f921"
             ]
            ],
            "type": "surface"
           }
          ],
          "table": [
           {
            "cells": {
             "fill": {
              "color": "#EBF0F8"
             },
             "line": {
              "color": "white"
             }
            },
            "header": {
             "fill": {
              "color": "#C8D4E3"
             },
             "line": {
              "color": "white"
             }
            },
            "type": "table"
           }
          ]
         },
         "layout": {
          "annotationdefaults": {
           "arrowcolor": "#2a3f5f",
           "arrowhead": 0,
           "arrowwidth": 1
          },
          "autotypenumbers": "strict",
          "coloraxis": {
           "colorbar": {
            "outlinewidth": 0,
            "ticks": ""
           }
          },
          "colorscale": {
           "diverging": [
            [
             0,
             "#8e0152"
            ],
            [
             0.1,
             "#c51b7d"
            ],
            [
             0.2,
             "#de77ae"
            ],
            [
             0.3,
             "#f1b6da"
            ],
            [
             0.4,
             "#fde0ef"
            ],
            [
             0.5,
             "#f7f7f7"
            ],
            [
             0.6,
             "#e6f5d0"
            ],
            [
             0.7,
             "#b8e186"
            ],
            [
             0.8,
             "#7fbc41"
            ],
            [
             0.9,
             "#4d9221"
            ],
            [
             1,
             "#276419"
            ]
           ],
           "sequential": [
            [
             0,
             "#0d0887"
            ],
            [
             0.1111111111111111,
             "#46039f"
            ],
            [
             0.2222222222222222,
             "#7201a8"
            ],
            [
             0.3333333333333333,
             "#9c179e"
            ],
            [
             0.4444444444444444,
             "#bd3786"
            ],
            [
             0.5555555555555556,
             "#d8576b"
            ],
            [
             0.6666666666666666,
             "#ed7953"
            ],
            [
             0.7777777777777778,
             "#fb9f3a"
            ],
            [
             0.8888888888888888,
             "#fdca26"
            ],
            [
             1,
             "#f0f921"
            ]
           ],
           "sequentialminus": [
            [
             0,
             "#0d0887"
            ],
            [
             0.1111111111111111,
             "#46039f"
            ],
            [
             0.2222222222222222,
             "#7201a8"
            ],
            [
             0.3333333333333333,
             "#9c179e"
            ],
            [
             0.4444444444444444,
             "#bd3786"
            ],
            [
             0.5555555555555556,
             "#d8576b"
            ],
            [
             0.6666666666666666,
             "#ed7953"
            ],
            [
             0.7777777777777778,
             "#fb9f3a"
            ],
            [
             0.8888888888888888,
             "#fdca26"
            ],
            [
             1,
             "#f0f921"
            ]
           ]
          },
          "colorway": [
           "#636efa",
           "#EF553B",
           "#00cc96",
           "#ab63fa",
           "#FFA15A",
           "#19d3f3",
           "#FF6692",
           "#B6E880",
           "#FF97FF",
           "#FECB52"
          ],
          "font": {
           "color": "#2a3f5f"
          },
          "geo": {
           "bgcolor": "white",
           "lakecolor": "white",
           "landcolor": "#E5ECF6",
           "showlakes": true,
           "showland": true,
           "subunitcolor": "white"
          },
          "hoverlabel": {
           "align": "left"
          },
          "hovermode": "closest",
          "mapbox": {
           "style": "light"
          },
          "paper_bgcolor": "white",
          "plot_bgcolor": "#E5ECF6",
          "polar": {
           "angularaxis": {
            "gridcolor": "white",
            "linecolor": "white",
            "ticks": ""
           },
           "bgcolor": "#E5ECF6",
           "radialaxis": {
            "gridcolor": "white",
            "linecolor": "white",
            "ticks": ""
           }
          },
          "scene": {
           "xaxis": {
            "backgroundcolor": "#E5ECF6",
            "gridcolor": "white",
            "gridwidth": 2,
            "linecolor": "white",
            "showbackground": true,
            "ticks": "",
            "zerolinecolor": "white"
           },
           "yaxis": {
            "backgroundcolor": "#E5ECF6",
            "gridcolor": "white",
            "gridwidth": 2,
            "linecolor": "white",
            "showbackground": true,
            "ticks": "",
            "zerolinecolor": "white"
           },
           "zaxis": {
            "backgroundcolor": "#E5ECF6",
            "gridcolor": "white",
            "gridwidth": 2,
            "linecolor": "white",
            "showbackground": true,
            "ticks": "",
            "zerolinecolor": "white"
           }
          },
          "shapedefaults": {
           "line": {
            "color": "#2a3f5f"
           }
          },
          "ternary": {
           "aaxis": {
            "gridcolor": "white",
            "linecolor": "white",
            "ticks": ""
           },
           "baxis": {
            "gridcolor": "white",
            "linecolor": "white",
            "ticks": ""
           },
           "bgcolor": "#E5ECF6",
           "caxis": {
            "gridcolor": "white",
            "linecolor": "white",
            "ticks": ""
           }
          },
          "title": {
           "x": 0.05
          },
          "xaxis": {
           "automargin": true,
           "gridcolor": "white",
           "linecolor": "white",
           "ticks": "",
           "title": {
            "standoff": 15
           },
           "zerolinecolor": "white",
           "zerolinewidth": 2
          },
          "yaxis": {
           "automargin": true,
           "gridcolor": "white",
           "linecolor": "white",
           "ticks": "",
           "title": {
            "standoff": 15
           },
           "zerolinecolor": "white",
           "zerolinewidth": 2
          }
         }
        },
        "title": {
         "text": "Jaccard Index Heatmap"
        },
        "xaxis": {
         "anchor": "y",
         "constrain": "domain",
         "domain": [
          0,
          1
         ],
         "scaleanchor": "y",
         "title": {
          "text": "Methods"
         }
        },
        "yaxis": {
         "anchor": "x",
         "autorange": "reversed",
         "constrain": "domain",
         "domain": [
          0,
          1
         ],
         "tickmode": "array",
         "ticktext": [
          "Feature 1",
          "Feature 2",
          "Feature 3",
          "Feature 4",
          "Feature 5",
          "Feature 6",
          "Feature 7",
          "Feature 8",
          "Feature 9",
          "Feature 10",
          "Feature 11",
          "Feature 12",
          "Feature 13",
          "Feature 14",
          "Feature 15",
          "Feature 16",
          "Feature 17",
          "Feature 18",
          "Feature 19",
          "Feature 20"
         ],
         "tickvals": [
          0,
          1,
          2,
          3,
          4,
          5,
          6,
          7,
          8,
          9,
          10,
          11,
          12,
          13,
          14,
          15,
          16,
          17,
          18,
          19
         ],
         "title": {
          "text": "Features"
         }
        }
       }
      }
     },
     "metadata": {},
     "output_type": "display_data"
    }
   ],
   "source": [
    "df_jaccard = final_df_result.iloc[:, -8:-4]\n",
    "\n",
    "fig = px.imshow(df_jaccard, \n",
    "                text_auto=\".2f\",  \n",
    "                color_continuous_scale=\"YlGnBu\", \n",
    "                labels=dict(color=\"Jaccard Index\")) \n",
    "\n",
    "fig.update_layout(\n",
    "    title=\"Jaccard Index Heatmap\",\n",
    "    xaxis_title=\"Methods\",\n",
    "    yaxis_title=\"Features\",\n",
    "    yaxis=dict(tickmode='array', tickvals=list(range(len(df_jaccard))), ticktext=[f'Feature {i+1}' for i in range(len(df_jaccard))])\n",
    ")\n",
    "\n",
    "\n",
    "fig.show()\n"
   ]
  },
  {
   "cell_type": "code",
   "execution_count": 9,
   "metadata": {},
   "outputs": [
    {
     "data": {
      "text/html": [
       "<div>\n",
       "<style scoped>\n",
       "    .dataframe tbody tr th:only-of-type {\n",
       "        vertical-align: middle;\n",
       "    }\n",
       "\n",
       "    .dataframe tbody tr th {\n",
       "        vertical-align: top;\n",
       "    }\n",
       "\n",
       "    .dataframe thead th {\n",
       "        text-align: right;\n",
       "    }\n",
       "</style>\n",
       "<table border=\"1\" class=\"dataframe\">\n",
       "  <thead>\n",
       "    <tr style=\"text-align: right;\">\n",
       "      <th></th>\n",
       "      <th>IQR</th>\n",
       "      <th>STD</th>\n",
       "      <th>MOD_Z</th>\n",
       "      <th>GAMMA</th>\n",
       "    </tr>\n",
       "  </thead>\n",
       "  <tbody>\n",
       "    <tr>\n",
       "      <th>mean jaccard coeff</th>\n",
       "      <td>0.914162</td>\n",
       "      <td>0.713323</td>\n",
       "      <td>0.912387</td>\n",
       "      <td>0.512187</td>\n",
       "    </tr>\n",
       "  </tbody>\n",
       "</table>\n",
       "</div>"
      ],
      "text/plain": [
       "                         IQR       STD     MOD_Z     GAMMA\n",
       "mean jaccard coeff  0.914162  0.713323  0.912387  0.512187"
      ]
     },
     "execution_count": 9,
     "metadata": {},
     "output_type": "execute_result"
    }
   ],
   "source": [
    "df_eval"
   ]
  },
  {
   "cell_type": "code",
   "execution_count": 10,
   "metadata": {},
   "outputs": [],
   "source": [
    "best_method = df_eval.idxmax(axis=1)"
   ]
  },
  {
   "cell_type": "code",
   "execution_count": 11,
   "metadata": {},
   "outputs": [
    {
     "name": "stdout",
     "output_type": "stream",
     "text": [
      "Best Method based on labeled data: IQR\n"
     ]
    }
   ],
   "source": [
    "print(f'Best Method based on labeled data: {best_method.values[0]}')"
   ]
  },
  {
   "cell_type": "code",
   "execution_count": 12,
   "metadata": {},
   "outputs": [],
   "source": [
    "values = [d['k'] for d in final_df_result['best_iqr_params'] if 'k' in d]"
   ]
  },
  {
   "cell_type": "code",
   "execution_count": 13,
   "metadata": {},
   "outputs": [],
   "source": [
    "mean_value_k = sum(values) / len(values) if values else 0"
   ]
  },
  {
   "cell_type": "code",
   "execution_count": 14,
   "metadata": {},
   "outputs": [
    {
     "data": {
      "text/plain": [
       "1.55"
      ]
     },
     "execution_count": 14,
     "metadata": {},
     "output_type": "execute_result"
    }
   ],
   "source": [
    "mean_value_k"
   ]
  },
  {
   "cell_type": "code",
   "execution_count": 15,
   "metadata": {},
   "outputs": [
    {
     "data": {
      "text/html": [
       "<div>\n",
       "<style scoped>\n",
       "    .dataframe tbody tr th:only-of-type {\n",
       "        vertical-align: middle;\n",
       "    }\n",
       "\n",
       "    .dataframe tbody tr th {\n",
       "        vertical-align: top;\n",
       "    }\n",
       "\n",
       "    .dataframe thead th {\n",
       "        text-align: right;\n",
       "    }\n",
       "</style>\n",
       "<table border=\"1\" class=\"dataframe\">\n",
       "  <thead>\n",
       "    <tr style=\"text-align: right;\">\n",
       "      <th></th>\n",
       "      <th>feature</th>\n",
       "      <th>values</th>\n",
       "      <th>lower_bound_gamma</th>\n",
       "      <th>upper_bound_gamma</th>\n",
       "      <th>baseline_lower</th>\n",
       "      <th>baseline_upper</th>\n",
       "      <th>jaccard_score</th>\n",
       "    </tr>\n",
       "  </thead>\n",
       "  <tbody>\n",
       "    <tr>\n",
       "      <th>0</th>\n",
       "      <td>Feature_1</td>\n",
       "      <td>[12.483570765056164, 9.308678494144077, 13.238...</td>\n",
       "      <td>-4.30</td>\n",
       "      <td>25.59</td>\n",
       "      <td>-6.206337</td>\n",
       "      <td>29.263657</td>\n",
       "      <td>0.842684</td>\n",
       "    </tr>\n",
       "    <tr>\n",
       "      <th>1</th>\n",
       "      <td>Feature_2</td>\n",
       "      <td>[14.178460560325709, 4.3514657267119095, 12.64...</td>\n",
       "      <td>-4.63</td>\n",
       "      <td>27.22</td>\n",
       "      <td>-3.484433</td>\n",
       "      <td>23.161910</td>\n",
       "      <td>0.836620</td>\n",
       "    </tr>\n",
       "    <tr>\n",
       "      <th>2</th>\n",
       "      <td>Feature_3</td>\n",
       "      <td>[8.391824743913087, 20.383739917804206, 11.909...</td>\n",
       "      <td>-5.25</td>\n",
       "      <td>27.50</td>\n",
       "      <td>-4.481277</td>\n",
       "      <td>23.008416</td>\n",
       "      <td>0.839380</td>\n",
       "    </tr>\n",
       "    <tr>\n",
       "      <th>3</th>\n",
       "      <td>Feature_4</td>\n",
       "      <td>[10.566352052688822, 2.8086101084131663, 14.59...</td>\n",
       "      <td>-3.97</td>\n",
       "      <td>26.09</td>\n",
       "      <td>-5.097561</td>\n",
       "      <td>25.688743</td>\n",
       "      <td>0.950980</td>\n",
       "    </tr>\n",
       "    <tr>\n",
       "      <th>4</th>\n",
       "      <td>Feature_5</td>\n",
       "      <td>[3.699176174137099, 6.918192959802613, 8.12401...</td>\n",
       "      <td>-4.72</td>\n",
       "      <td>26.19</td>\n",
       "      <td>-3.178739</td>\n",
       "      <td>25.549593</td>\n",
       "      <td>0.929419</td>\n",
       "    </tr>\n",
       "    <tr>\n",
       "      <th>5</th>\n",
       "      <td>Feature_6</td>\n",
       "      <td>[4.916584357117514, 8.779597631628993, 9.80346...</td>\n",
       "      <td>-4.44</td>\n",
       "      <td>25.97</td>\n",
       "      <td>-4.955680</td>\n",
       "      <td>29.631189</td>\n",
       "      <td>0.879235</td>\n",
       "    </tr>\n",
       "    <tr>\n",
       "      <th>6</th>\n",
       "      <td>Feature_7</td>\n",
       "      <td>[5.765745169373177, 16.248094526483335, 13.896...</td>\n",
       "      <td>-5.98</td>\n",
       "      <td>28.45</td>\n",
       "      <td>-4.647243</td>\n",
       "      <td>26.215465</td>\n",
       "      <td>0.896390</td>\n",
       "    </tr>\n",
       "    <tr>\n",
       "      <th>7</th>\n",
       "      <td>Feature_8</td>\n",
       "      <td>[11.38679230982338, 9.888605104081433, 11.6104...</td>\n",
       "      <td>-4.57</td>\n",
       "      <td>25.62</td>\n",
       "      <td>-5.038162</td>\n",
       "      <td>25.760284</td>\n",
       "      <td>0.980244</td>\n",
       "    </tr>\n",
       "    <tr>\n",
       "      <th>8</th>\n",
       "      <td>Feature_9</td>\n",
       "      <td>[16.033040774319574, 2.364160717051762, 4.7245...</td>\n",
       "      <td>-4.13</td>\n",
       "      <td>25.36</td>\n",
       "      <td>-5.883519</td>\n",
       "      <td>23.776089</td>\n",
       "      <td>0.893180</td>\n",
       "    </tr>\n",
       "    <tr>\n",
       "      <th>9</th>\n",
       "      <td>Feature_10</td>\n",
       "      <td>[12.939279440688676, 13.098693923514343, 0.443...</td>\n",
       "      <td>-4.15</td>\n",
       "      <td>26.06</td>\n",
       "      <td>-3.124085</td>\n",
       "      <td>25.564551</td>\n",
       "      <td>0.949640</td>\n",
       "    </tr>\n",
       "    <tr>\n",
       "      <th>10</th>\n",
       "      <td>Feature_11</td>\n",
       "      <td>[16.81614487566125, 8.481869635509995, 7.55556...</td>\n",
       "      <td>-4.39</td>\n",
       "      <td>25.52</td>\n",
       "      <td>-4.165151</td>\n",
       "      <td>25.491497</td>\n",
       "      <td>0.991530</td>\n",
       "    </tr>\n",
       "    <tr>\n",
       "      <th>11</th>\n",
       "      <td>Feature_12</td>\n",
       "      <td>[18.35673787718738, 5.493121600514128, 12.5286...</td>\n",
       "      <td>-5.04</td>\n",
       "      <td>27.04</td>\n",
       "      <td>-3.563063</td>\n",
       "      <td>23.899818</td>\n",
       "      <td>0.856075</td>\n",
       "    </tr>\n",
       "    <tr>\n",
       "      <th>12</th>\n",
       "      <td>Feature_13</td>\n",
       "      <td>[6.169773987998001, 7.693664747508464, -1.2639...</td>\n",
       "      <td>-6.92</td>\n",
       "      <td>28.00</td>\n",
       "      <td>-3.537719</td>\n",
       "      <td>27.645276</td>\n",
       "      <td>0.892984</td>\n",
       "    </tr>\n",
       "    <tr>\n",
       "      <th>13</th>\n",
       "      <td>Feature_14</td>\n",
       "      <td>[3.4227934647507716, 16.54722050701324, 8.6155...</td>\n",
       "      <td>-5.94</td>\n",
       "      <td>28.09</td>\n",
       "      <td>-6.105082</td>\n",
       "      <td>25.588406</td>\n",
       "      <td>0.922016</td>\n",
       "    </tr>\n",
       "    <tr>\n",
       "      <th>14</th>\n",
       "      <td>Feature_15</td>\n",
       "      <td>[10.882420918314764, 12.256130080680494, 9.634...</td>\n",
       "      <td>-5.31</td>\n",
       "      <td>27.47</td>\n",
       "      <td>-8.441826</td>\n",
       "      <td>24.326060</td>\n",
       "      <td>0.825245</td>\n",
       "    </tr>\n",
       "    <tr>\n",
       "      <th>15</th>\n",
       "      <td>Feature_16</td>\n",
       "      <td>[10.52639311954839, 10.753012464223168, 2.4847...</td>\n",
       "      <td>-4.76</td>\n",
       "      <td>26.64</td>\n",
       "      <td>-9.183278</td>\n",
       "      <td>26.886915</td>\n",
       "      <td>0.870525</td>\n",
       "    </tr>\n",
       "    <tr>\n",
       "      <th>16</th>\n",
       "      <td>Feature_17</td>\n",
       "      <td>[7.818684839099856, 15.240583796345774, 4.6573...</td>\n",
       "      <td>-2.85</td>\n",
       "      <td>25.09</td>\n",
       "      <td>-2.604235</td>\n",
       "      <td>25.788856</td>\n",
       "      <td>0.967016</td>\n",
       "    </tr>\n",
       "    <tr>\n",
       "      <th>17</th>\n",
       "      <td>Feature_18</td>\n",
       "      <td>[11.220492217511932, 11.369555434235895, 2.384...</td>\n",
       "      <td>-4.40</td>\n",
       "      <td>26.20</td>\n",
       "      <td>-4.009558</td>\n",
       "      <td>23.841868</td>\n",
       "      <td>0.910177</td>\n",
       "    </tr>\n",
       "    <tr>\n",
       "      <th>18</th>\n",
       "      <td>Feature_19</td>\n",
       "      <td>[5.375370921403631, 11.343878945743207, 10.935...</td>\n",
       "      <td>-5.01</td>\n",
       "      <td>25.74</td>\n",
       "      <td>-9.612001</td>\n",
       "      <td>22.651848</td>\n",
       "      <td>0.782469</td>\n",
       "    </tr>\n",
       "    <tr>\n",
       "      <th>19</th>\n",
       "      <td>Feature_20</td>\n",
       "      <td>[17.580580901775214, 2.462235276832896, 10.050...</td>\n",
       "      <td>-4.56</td>\n",
       "      <td>26.48</td>\n",
       "      <td>-4.053142</td>\n",
       "      <td>24.006865</td>\n",
       "      <td>0.903995</td>\n",
       "    </tr>\n",
       "  </tbody>\n",
       "</table>\n",
       "</div>"
      ],
      "text/plain": [
       "       feature                                             values  \\\n",
       "0    Feature_1  [12.483570765056164, 9.308678494144077, 13.238...   \n",
       "1    Feature_2  [14.178460560325709, 4.3514657267119095, 12.64...   \n",
       "2    Feature_3  [8.391824743913087, 20.383739917804206, 11.909...   \n",
       "3    Feature_4  [10.566352052688822, 2.8086101084131663, 14.59...   \n",
       "4    Feature_5  [3.699176174137099, 6.918192959802613, 8.12401...   \n",
       "5    Feature_6  [4.916584357117514, 8.779597631628993, 9.80346...   \n",
       "6    Feature_7  [5.765745169373177, 16.248094526483335, 13.896...   \n",
       "7    Feature_8  [11.38679230982338, 9.888605104081433, 11.6104...   \n",
       "8    Feature_9  [16.033040774319574, 2.364160717051762, 4.7245...   \n",
       "9   Feature_10  [12.939279440688676, 13.098693923514343, 0.443...   \n",
       "10  Feature_11  [16.81614487566125, 8.481869635509995, 7.55556...   \n",
       "11  Feature_12  [18.35673787718738, 5.493121600514128, 12.5286...   \n",
       "12  Feature_13  [6.169773987998001, 7.693664747508464, -1.2639...   \n",
       "13  Feature_14  [3.4227934647507716, 16.54722050701324, 8.6155...   \n",
       "14  Feature_15  [10.882420918314764, 12.256130080680494, 9.634...   \n",
       "15  Feature_16  [10.52639311954839, 10.753012464223168, 2.4847...   \n",
       "16  Feature_17  [7.818684839099856, 15.240583796345774, 4.6573...   \n",
       "17  Feature_18  [11.220492217511932, 11.369555434235895, 2.384...   \n",
       "18  Feature_19  [5.375370921403631, 11.343878945743207, 10.935...   \n",
       "19  Feature_20  [17.580580901775214, 2.462235276832896, 10.050...   \n",
       "\n",
       "    lower_bound_gamma  upper_bound_gamma  baseline_lower  baseline_upper  \\\n",
       "0               -4.30              25.59       -6.206337       29.263657   \n",
       "1               -4.63              27.22       -3.484433       23.161910   \n",
       "2               -5.25              27.50       -4.481277       23.008416   \n",
       "3               -3.97              26.09       -5.097561       25.688743   \n",
       "4               -4.72              26.19       -3.178739       25.549593   \n",
       "5               -4.44              25.97       -4.955680       29.631189   \n",
       "6               -5.98              28.45       -4.647243       26.215465   \n",
       "7               -4.57              25.62       -5.038162       25.760284   \n",
       "8               -4.13              25.36       -5.883519       23.776089   \n",
       "9               -4.15              26.06       -3.124085       25.564551   \n",
       "10              -4.39              25.52       -4.165151       25.491497   \n",
       "11              -5.04              27.04       -3.563063       23.899818   \n",
       "12              -6.92              28.00       -3.537719       27.645276   \n",
       "13              -5.94              28.09       -6.105082       25.588406   \n",
       "14              -5.31              27.47       -8.441826       24.326060   \n",
       "15              -4.76              26.64       -9.183278       26.886915   \n",
       "16              -2.85              25.09       -2.604235       25.788856   \n",
       "17              -4.40              26.20       -4.009558       23.841868   \n",
       "18              -5.01              25.74       -9.612001       22.651848   \n",
       "19              -4.56              26.48       -4.053142       24.006865   \n",
       "\n",
       "    jaccard_score  \n",
       "0        0.842684  \n",
       "1        0.836620  \n",
       "2        0.839380  \n",
       "3        0.950980  \n",
       "4        0.929419  \n",
       "5        0.879235  \n",
       "6        0.896390  \n",
       "7        0.980244  \n",
       "8        0.893180  \n",
       "9        0.949640  \n",
       "10       0.991530  \n",
       "11       0.856075  \n",
       "12       0.892984  \n",
       "13       0.922016  \n",
       "14       0.825245  \n",
       "15       0.870525  \n",
       "16       0.967016  \n",
       "17       0.910177  \n",
       "18       0.782469  \n",
       "19       0.903995  "
      ]
     },
     "execution_count": 15,
     "metadata": {},
     "output_type": "execute_result"
    }
   ],
   "source": [
    "results_best_approach = pd.DataFrame()\n",
    "\n",
    "for index, row in final_df.iterrows():\n",
    "    values_series = pd.Series(row['values'])\n",
    "    feature = row['feature']\n",
    "    baseline_bounds = (row['lower'], row['upper'])\n",
    "    \n",
    "    best_results = iqr_approach(values_series, feature, mean_value_k)\n",
    "    \n",
    "    if best_results is not None:\n",
    "        lower_bound_iqr = best_results['lower_bound_iqr'].iloc[0]\n",
    "        upper_bound_iqr = best_results['upper_bound_iqr'].iloc[0]\n",
    "\n",
    "        baseline_lower, baseline_upper = baseline_bounds\n",
    "\n",
    "        score = jaccard_index(lower_bound_iqr, upper_bound_iqr, baseline_lower, baseline_upper)\n",
    "\n",
    "        results = {\n",
    "            'feature': feature,\n",
    "            'values': values_series.tolist(),  \n",
    "            'lower_bound_gamma': lower_bound_iqr,\n",
    "            'upper_bound_gamma': upper_bound_iqr,\n",
    "            'baseline_lower': baseline_lower,\n",
    "            'baseline_upper': baseline_upper,\n",
    "            'jaccard_score': score\n",
    "        }\n",
    "\n",
    "        iqr_results_df = pd.DataFrame([results])\n",
    "\n",
    "        results_best_approach = pd.concat([results_best_approach, iqr_results_df], ignore_index=True)\n",
    "\n",
    "results_best_approach\n"
   ]
  },
  {
   "cell_type": "code",
   "execution_count": 16,
   "metadata": {},
   "outputs": [],
   "source": [
    "df_jaccard['IQR with best params'] = results_best_approach['jaccard_score']"
   ]
  },
  {
   "cell_type": "code",
   "execution_count": 17,
   "metadata": {},
   "outputs": [
    {
     "data": {
      "text/html": [
       "<div>\n",
       "<style scoped>\n",
       "    .dataframe tbody tr th:only-of-type {\n",
       "        vertical-align: middle;\n",
       "    }\n",
       "\n",
       "    .dataframe tbody tr th {\n",
       "        vertical-align: top;\n",
       "    }\n",
       "\n",
       "    .dataframe thead th {\n",
       "        text-align: right;\n",
       "    }\n",
       "</style>\n",
       "<table border=\"1\" class=\"dataframe\">\n",
       "  <thead>\n",
       "    <tr style=\"text-align: right;\">\n",
       "      <th></th>\n",
       "      <th>IQR</th>\n",
       "      <th>STD</th>\n",
       "      <th>MOD_Z</th>\n",
       "      <th>GAMMA</th>\n",
       "      <th>IQR with best params</th>\n",
       "    </tr>\n",
       "  </thead>\n",
       "  <tbody>\n",
       "    <tr>\n",
       "      <th>0</th>\n",
       "      <td>0.952032</td>\n",
       "      <td>0.796734</td>\n",
       "      <td>0.831689</td>\n",
       "      <td>0.597339</td>\n",
       "      <td>0.842684</td>\n",
       "    </tr>\n",
       "    <tr>\n",
       "      <th>1</th>\n",
       "      <td>0.874792</td>\n",
       "      <td>0.673494</td>\n",
       "      <td>0.916011</td>\n",
       "      <td>0.466139</td>\n",
       "      <td>0.836620</td>\n",
       "    </tr>\n",
       "    <tr>\n",
       "      <th>2</th>\n",
       "      <td>0.865022</td>\n",
       "      <td>0.653579</td>\n",
       "      <td>0.886628</td>\n",
       "      <td>0.456457</td>\n",
       "      <td>0.839380</td>\n",
       "    </tr>\n",
       "    <tr>\n",
       "      <th>3</th>\n",
       "      <td>0.950391</td>\n",
       "      <td>0.721112</td>\n",
       "      <td>0.944576</td>\n",
       "      <td>0.522865</td>\n",
       "      <td>0.950980</td>\n",
       "    </tr>\n",
       "    <tr>\n",
       "      <th>4</th>\n",
       "      <td>0.952847</td>\n",
       "      <td>0.718747</td>\n",
       "      <td>0.936997</td>\n",
       "      <td>0.495915</td>\n",
       "      <td>0.929419</td>\n",
       "    </tr>\n",
       "    <tr>\n",
       "      <th>5</th>\n",
       "      <td>0.916166</td>\n",
       "      <td>0.828807</td>\n",
       "      <td>0.857551</td>\n",
       "      <td>0.575489</td>\n",
       "      <td>0.879235</td>\n",
       "    </tr>\n",
       "    <tr>\n",
       "      <th>6</th>\n",
       "      <td>0.918806</td>\n",
       "      <td>0.736583</td>\n",
       "      <td>0.978851</td>\n",
       "      <td>0.531841</td>\n",
       "      <td>0.896390</td>\n",
       "    </tr>\n",
       "    <tr>\n",
       "      <th>7</th>\n",
       "      <td>0.956542</td>\n",
       "      <td>0.748729</td>\n",
       "      <td>0.972127</td>\n",
       "      <td>0.517882</td>\n",
       "      <td>0.980244</td>\n",
       "    </tr>\n",
       "    <tr>\n",
       "      <th>8</th>\n",
       "      <td>0.891935</td>\n",
       "      <td>0.676670</td>\n",
       "      <td>0.882392</td>\n",
       "      <td>0.494404</td>\n",
       "      <td>0.893180</td>\n",
       "    </tr>\n",
       "    <tr>\n",
       "      <th>9</th>\n",
       "      <td>0.973486</td>\n",
       "      <td>0.729434</td>\n",
       "      <td>0.957604</td>\n",
       "      <td>0.494356</td>\n",
       "      <td>0.949640</td>\n",
       "    </tr>\n",
       "    <tr>\n",
       "      <th>10</th>\n",
       "      <td>0.983591</td>\n",
       "      <td>0.757155</td>\n",
       "      <td>0.945825</td>\n",
       "      <td>0.511939</td>\n",
       "      <td>0.991530</td>\n",
       "    </tr>\n",
       "    <tr>\n",
       "      <th>11</th>\n",
       "      <td>0.877408</td>\n",
       "      <td>0.702265</td>\n",
       "      <td>0.968403</td>\n",
       "      <td>0.481641</td>\n",
       "      <td>0.856075</td>\n",
       "    </tr>\n",
       "    <tr>\n",
       "      <th>12</th>\n",
       "      <td>0.911333</td>\n",
       "      <td>0.790844</td>\n",
       "      <td>0.887742</td>\n",
       "      <td>0.540152</td>\n",
       "      <td>0.892984</td>\n",
       "    </tr>\n",
       "    <tr>\n",
       "      <th>13</th>\n",
       "      <td>0.921069</td>\n",
       "      <td>0.704053</td>\n",
       "      <td>0.945716</td>\n",
       "      <td>0.523513</td>\n",
       "      <td>0.922016</td>\n",
       "    </tr>\n",
       "    <tr>\n",
       "      <th>14</th>\n",
       "      <td>0.823277</td>\n",
       "      <td>0.634773</td>\n",
       "      <td>0.842848</td>\n",
       "      <td>0.531211</td>\n",
       "      <td>0.825245</td>\n",
       "    </tr>\n",
       "    <tr>\n",
       "      <th>15</th>\n",
       "      <td>0.893887</td>\n",
       "      <td>0.682552</td>\n",
       "      <td>0.859435</td>\n",
       "      <td>0.561849</td>\n",
       "      <td>0.870525</td>\n",
       "    </tr>\n",
       "    <tr>\n",
       "      <th>16</th>\n",
       "      <td>0.960093</td>\n",
       "      <td>0.700027</td>\n",
       "      <td>0.954084</td>\n",
       "      <td>0.481868</td>\n",
       "      <td>0.967016</td>\n",
       "    </tr>\n",
       "    <tr>\n",
       "      <th>17</th>\n",
       "      <td>0.932734</td>\n",
       "      <td>0.707497</td>\n",
       "      <td>0.945719</td>\n",
       "      <td>0.475767</td>\n",
       "      <td>0.910177</td>\n",
       "    </tr>\n",
       "    <tr>\n",
       "      <th>18</th>\n",
       "      <td>0.801452</td>\n",
       "      <td>0.594211</td>\n",
       "      <td>0.770111</td>\n",
       "      <td>0.492984</td>\n",
       "      <td>0.782469</td>\n",
       "    </tr>\n",
       "    <tr>\n",
       "      <th>19</th>\n",
       "      <td>0.926379</td>\n",
       "      <td>0.709202</td>\n",
       "      <td>0.963430</td>\n",
       "      <td>0.490135</td>\n",
       "      <td>0.903995</td>\n",
       "    </tr>\n",
       "  </tbody>\n",
       "</table>\n",
       "</div>"
      ],
      "text/plain": [
       "         IQR       STD     MOD_Z     GAMMA  IQR with best params\n",
       "0   0.952032  0.796734  0.831689  0.597339              0.842684\n",
       "1   0.874792  0.673494  0.916011  0.466139              0.836620\n",
       "2   0.865022  0.653579  0.886628  0.456457              0.839380\n",
       "3   0.950391  0.721112  0.944576  0.522865              0.950980\n",
       "4   0.952847  0.718747  0.936997  0.495915              0.929419\n",
       "5   0.916166  0.828807  0.857551  0.575489              0.879235\n",
       "6   0.918806  0.736583  0.978851  0.531841              0.896390\n",
       "7   0.956542  0.748729  0.972127  0.517882              0.980244\n",
       "8   0.891935  0.676670  0.882392  0.494404              0.893180\n",
       "9   0.973486  0.729434  0.957604  0.494356              0.949640\n",
       "10  0.983591  0.757155  0.945825  0.511939              0.991530\n",
       "11  0.877408  0.702265  0.968403  0.481641              0.856075\n",
       "12  0.911333  0.790844  0.887742  0.540152              0.892984\n",
       "13  0.921069  0.704053  0.945716  0.523513              0.922016\n",
       "14  0.823277  0.634773  0.842848  0.531211              0.825245\n",
       "15  0.893887  0.682552  0.859435  0.561849              0.870525\n",
       "16  0.960093  0.700027  0.954084  0.481868              0.967016\n",
       "17  0.932734  0.707497  0.945719  0.475767              0.910177\n",
       "18  0.801452  0.594211  0.770111  0.492984              0.782469\n",
       "19  0.926379  0.709202  0.963430  0.490135              0.903995"
      ]
     },
     "execution_count": 17,
     "metadata": {},
     "output_type": "execute_result"
    }
   ],
   "source": [
    "df_jaccard"
   ]
  },
  {
   "cell_type": "code",
   "execution_count": 18,
   "metadata": {},
   "outputs": [
    {
     "data": {
      "application/vnd.plotly.v1+json": {
       "config": {
        "plotlyServerURL": "https://plot.ly"
       },
       "data": [
        {
         "coloraxis": "coloraxis",
         "hovertemplate": "x: %{x}<br>y: %{y}<br>Jaccard Index: %{z}<extra></extra>",
         "name": "0",
         "texttemplate": "%{z:.2f}",
         "type": "heatmap",
         "x": [
          "IQR",
          "STD",
          "MOD_Z",
          "GAMMA",
          "IQR with best params"
         ],
         "xaxis": "x",
         "y": [
          0,
          1,
          2,
          3,
          4,
          5,
          6,
          7,
          8,
          9,
          10,
          11,
          12,
          13,
          14,
          15,
          16,
          17,
          18,
          19
         ],
         "yaxis": "y",
         "z": [
          [
           0.9520318862162471,
           0.7967338097420728,
           0.8316888881412501,
           0.5973390729811211,
           0.8426840971709141
          ],
          [
           0.8747916938763152,
           0.6734938964493417,
           0.9160105601130722,
           0.46613899964860556,
           0.8366198913310773
          ],
          [
           0.8650221548921279,
           0.6535786878608228,
           0.8866284545871301,
           0.4564568702299384,
           0.8393799224998602
          ],
          [
           0.9503913329882755,
           0.721112232181187,
           0.9445758906937569,
           0.5228652080061836,
           0.9509798755461352
          ],
          [
           0.9528468150948988,
           0.7187473473883212,
           0.9369971126911676,
           0.49591457750925594,
           0.9294186824688191
          ],
          [
           0.9161655337508836,
           0.8288066739394288,
           0.8575508967275591,
           0.575488658680287,
           0.879235427157285
          ],
          [
           0.9188064393565051,
           0.7365825080998007,
           0.9788512306929452,
           0.5318405703599002,
           0.8963900173681385
          ],
          [
           0.9565417879082875,
           0.7487286837120819,
           0.9721269901552657,
           0.5178820476043251,
           0.9802442829922335
          ],
          [
           0.8919349074096654,
           0.676670127101881,
           0.8823920308794938,
           0.4944039492911167,
           0.8931800755115801
          ],
          [
           0.9734861312212338,
           0.7294339254281659,
           0.9576035002829042,
           0.49435593626120644,
           0.9496403934819518
          ],
          [
           0.9835905726473676,
           0.757154554793418,
           0.9458250107219288,
           0.5119393858289313,
           0.9915295426636573
          ],
          [
           0.8774083367466444,
           0.7022653025728518,
           0.9684025788640086,
           0.48164081639096684,
           0.8560748422746249
          ],
          [
           0.9113330738209008,
           0.7908444132578825,
           0.8877424108577308,
           0.5401523508532532,
           0.8929838263103753
          ],
          [
           0.9210694190039647,
           0.7040528327574518,
           0.9457160333522995,
           0.5235131718858409,
           0.9220157989078538
          ],
          [
           0.8232767230577009,
           0.6347732699966945,
           0.8428475736763102,
           0.531210925444893,
           0.8252451361892714
          ],
          [
           0.8938865172126128,
           0.6825519733349806,
           0.8594353950142545,
           0.5618487770667114,
           0.8705248839821803
          ],
          [
           0.9600927059965645,
           0.7000269094695553,
           0.9540840938963908,
           0.48186752148076867,
           0.9670160927984627
          ],
          [
           0.9327336194095505,
           0.7074969635505538,
           0.9457190450108378,
           0.4757674389403686,
           0.9101773161950711
          ],
          [
           0.8014522187056712,
           0.5942108959256126,
           0.7701106215485719,
           0.49298382877952357,
           0.7824690925206655
          ],
          [
           0.9263785583118295,
           0.7092021059284731,
           0.9634297310628289,
           0.4901349606651021,
           0.9039950557753
          ]
         ]
        }
       ],
       "layout": {
        "coloraxis": {
         "colorbar": {
          "title": {
           "text": "Jaccard Index"
          }
         },
         "colorscale": [
          [
           0,
           "rgb(255,255,217)"
          ],
          [
           0.125,
           "rgb(237,248,177)"
          ],
          [
           0.25,
           "rgb(199,233,180)"
          ],
          [
           0.375,
           "rgb(127,205,187)"
          ],
          [
           0.5,
           "rgb(65,182,196)"
          ],
          [
           0.625,
           "rgb(29,145,192)"
          ],
          [
           0.75,
           "rgb(34,94,168)"
          ],
          [
           0.875,
           "rgb(37,52,148)"
          ],
          [
           1,
           "rgb(8,29,88)"
          ]
         ]
        },
        "margin": {
         "t": 60
        },
        "template": {
         "data": {
          "bar": [
           {
            "error_x": {
             "color": "#2a3f5f"
            },
            "error_y": {
             "color": "#2a3f5f"
            },
            "marker": {
             "line": {
              "color": "#E5ECF6",
              "width": 0.5
             },
             "pattern": {
              "fillmode": "overlay",
              "size": 10,
              "solidity": 0.2
             }
            },
            "type": "bar"
           }
          ],
          "barpolar": [
           {
            "marker": {
             "line": {
              "color": "#E5ECF6",
              "width": 0.5
             },
             "pattern": {
              "fillmode": "overlay",
              "size": 10,
              "solidity": 0.2
             }
            },
            "type": "barpolar"
           }
          ],
          "carpet": [
           {
            "aaxis": {
             "endlinecolor": "#2a3f5f",
             "gridcolor": "white",
             "linecolor": "white",
             "minorgridcolor": "white",
             "startlinecolor": "#2a3f5f"
            },
            "baxis": {
             "endlinecolor": "#2a3f5f",
             "gridcolor": "white",
             "linecolor": "white",
             "minorgridcolor": "white",
             "startlinecolor": "#2a3f5f"
            },
            "type": "carpet"
           }
          ],
          "choropleth": [
           {
            "colorbar": {
             "outlinewidth": 0,
             "ticks": ""
            },
            "type": "choropleth"
           }
          ],
          "contour": [
           {
            "colorbar": {
             "outlinewidth": 0,
             "ticks": ""
            },
            "colorscale": [
             [
              0,
              "#0d0887"
             ],
             [
              0.1111111111111111,
              "#46039f"
             ],
             [
              0.2222222222222222,
              "#7201a8"
             ],
             [
              0.3333333333333333,
              "#9c179e"
             ],
             [
              0.4444444444444444,
              "#bd3786"
             ],
             [
              0.5555555555555556,
              "#d8576b"
             ],
             [
              0.6666666666666666,
              "#ed7953"
             ],
             [
              0.7777777777777778,
              "#fb9f3a"
             ],
             [
              0.8888888888888888,
              "#fdca26"
             ],
             [
              1,
              "#f0f921"
             ]
            ],
            "type": "contour"
           }
          ],
          "contourcarpet": [
           {
            "colorbar": {
             "outlinewidth": 0,
             "ticks": ""
            },
            "type": "contourcarpet"
           }
          ],
          "heatmap": [
           {
            "colorbar": {
             "outlinewidth": 0,
             "ticks": ""
            },
            "colorscale": [
             [
              0,
              "#0d0887"
             ],
             [
              0.1111111111111111,
              "#46039f"
             ],
             [
              0.2222222222222222,
              "#7201a8"
             ],
             [
              0.3333333333333333,
              "#9c179e"
             ],
             [
              0.4444444444444444,
              "#bd3786"
             ],
             [
              0.5555555555555556,
              "#d8576b"
             ],
             [
              0.6666666666666666,
              "#ed7953"
             ],
             [
              0.7777777777777778,
              "#fb9f3a"
             ],
             [
              0.8888888888888888,
              "#fdca26"
             ],
             [
              1,
              "#f0f921"
             ]
            ],
            "type": "heatmap"
           }
          ],
          "heatmapgl": [
           {
            "colorbar": {
             "outlinewidth": 0,
             "ticks": ""
            },
            "colorscale": [
             [
              0,
              "#0d0887"
             ],
             [
              0.1111111111111111,
              "#46039f"
             ],
             [
              0.2222222222222222,
              "#7201a8"
             ],
             [
              0.3333333333333333,
              "#9c179e"
             ],
             [
              0.4444444444444444,
              "#bd3786"
             ],
             [
              0.5555555555555556,
              "#d8576b"
             ],
             [
              0.6666666666666666,
              "#ed7953"
             ],
             [
              0.7777777777777778,
              "#fb9f3a"
             ],
             [
              0.8888888888888888,
              "#fdca26"
             ],
             [
              1,
              "#f0f921"
             ]
            ],
            "type": "heatmapgl"
           }
          ],
          "histogram": [
           {
            "marker": {
             "pattern": {
              "fillmode": "overlay",
              "size": 10,
              "solidity": 0.2
             }
            },
            "type": "histogram"
           }
          ],
          "histogram2d": [
           {
            "colorbar": {
             "outlinewidth": 0,
             "ticks": ""
            },
            "colorscale": [
             [
              0,
              "#0d0887"
             ],
             [
              0.1111111111111111,
              "#46039f"
             ],
             [
              0.2222222222222222,
              "#7201a8"
             ],
             [
              0.3333333333333333,
              "#9c179e"
             ],
             [
              0.4444444444444444,
              "#bd3786"
             ],
             [
              0.5555555555555556,
              "#d8576b"
             ],
             [
              0.6666666666666666,
              "#ed7953"
             ],
             [
              0.7777777777777778,
              "#fb9f3a"
             ],
             [
              0.8888888888888888,
              "#fdca26"
             ],
             [
              1,
              "#f0f921"
             ]
            ],
            "type": "histogram2d"
           }
          ],
          "histogram2dcontour": [
           {
            "colorbar": {
             "outlinewidth": 0,
             "ticks": ""
            },
            "colorscale": [
             [
              0,
              "#0d0887"
             ],
             [
              0.1111111111111111,
              "#46039f"
             ],
             [
              0.2222222222222222,
              "#7201a8"
             ],
             [
              0.3333333333333333,
              "#9c179e"
             ],
             [
              0.4444444444444444,
              "#bd3786"
             ],
             [
              0.5555555555555556,
              "#d8576b"
             ],
             [
              0.6666666666666666,
              "#ed7953"
             ],
             [
              0.7777777777777778,
              "#fb9f3a"
             ],
             [
              0.8888888888888888,
              "#fdca26"
             ],
             [
              1,
              "#f0f921"
             ]
            ],
            "type": "histogram2dcontour"
           }
          ],
          "mesh3d": [
           {
            "colorbar": {
             "outlinewidth": 0,
             "ticks": ""
            },
            "type": "mesh3d"
           }
          ],
          "parcoords": [
           {
            "line": {
             "colorbar": {
              "outlinewidth": 0,
              "ticks": ""
             }
            },
            "type": "parcoords"
           }
          ],
          "pie": [
           {
            "automargin": true,
            "type": "pie"
           }
          ],
          "scatter": [
           {
            "fillpattern": {
             "fillmode": "overlay",
             "size": 10,
             "solidity": 0.2
            },
            "type": "scatter"
           }
          ],
          "scatter3d": [
           {
            "line": {
             "colorbar": {
              "outlinewidth": 0,
              "ticks": ""
             }
            },
            "marker": {
             "colorbar": {
              "outlinewidth": 0,
              "ticks": ""
             }
            },
            "type": "scatter3d"
           }
          ],
          "scattercarpet": [
           {
            "marker": {
             "colorbar": {
              "outlinewidth": 0,
              "ticks": ""
             }
            },
            "type": "scattercarpet"
           }
          ],
          "scattergeo": [
           {
            "marker": {
             "colorbar": {
              "outlinewidth": 0,
              "ticks": ""
             }
            },
            "type": "scattergeo"
           }
          ],
          "scattergl": [
           {
            "marker": {
             "colorbar": {
              "outlinewidth": 0,
              "ticks": ""
             }
            },
            "type": "scattergl"
           }
          ],
          "scattermapbox": [
           {
            "marker": {
             "colorbar": {
              "outlinewidth": 0,
              "ticks": ""
             }
            },
            "type": "scattermapbox"
           }
          ],
          "scatterpolar": [
           {
            "marker": {
             "colorbar": {
              "outlinewidth": 0,
              "ticks": ""
             }
            },
            "type": "scatterpolar"
           }
          ],
          "scatterpolargl": [
           {
            "marker": {
             "colorbar": {
              "outlinewidth": 0,
              "ticks": ""
             }
            },
            "type": "scatterpolargl"
           }
          ],
          "scatterternary": [
           {
            "marker": {
             "colorbar": {
              "outlinewidth": 0,
              "ticks": ""
             }
            },
            "type": "scatterternary"
           }
          ],
          "surface": [
           {
            "colorbar": {
             "outlinewidth": 0,
             "ticks": ""
            },
            "colorscale": [
             [
              0,
              "#0d0887"
             ],
             [
              0.1111111111111111,
              "#46039f"
             ],
             [
              0.2222222222222222,
              "#7201a8"
             ],
             [
              0.3333333333333333,
              "#9c179e"
             ],
             [
              0.4444444444444444,
              "#bd3786"
             ],
             [
              0.5555555555555556,
              "#d8576b"
             ],
             [
              0.6666666666666666,
              "#ed7953"
             ],
             [
              0.7777777777777778,
              "#fb9f3a"
             ],
             [
              0.8888888888888888,
              "#fdca26"
             ],
             [
              1,
              "#f0f921"
             ]
            ],
            "type": "surface"
           }
          ],
          "table": [
           {
            "cells": {
             "fill": {
              "color": "#EBF0F8"
             },
             "line": {
              "color": "white"
             }
            },
            "header": {
             "fill": {
              "color": "#C8D4E3"
             },
             "line": {
              "color": "white"
             }
            },
            "type": "table"
           }
          ]
         },
         "layout": {
          "annotationdefaults": {
           "arrowcolor": "#2a3f5f",
           "arrowhead": 0,
           "arrowwidth": 1
          },
          "autotypenumbers": "strict",
          "coloraxis": {
           "colorbar": {
            "outlinewidth": 0,
            "ticks": ""
           }
          },
          "colorscale": {
           "diverging": [
            [
             0,
             "#8e0152"
            ],
            [
             0.1,
             "#c51b7d"
            ],
            [
             0.2,
             "#de77ae"
            ],
            [
             0.3,
             "#f1b6da"
            ],
            [
             0.4,
             "#fde0ef"
            ],
            [
             0.5,
             "#f7f7f7"
            ],
            [
             0.6,
             "#e6f5d0"
            ],
            [
             0.7,
             "#b8e186"
            ],
            [
             0.8,
             "#7fbc41"
            ],
            [
             0.9,
             "#4d9221"
            ],
            [
             1,
             "#276419"
            ]
           ],
           "sequential": [
            [
             0,
             "#0d0887"
            ],
            [
             0.1111111111111111,
             "#46039f"
            ],
            [
             0.2222222222222222,
             "#7201a8"
            ],
            [
             0.3333333333333333,
             "#9c179e"
            ],
            [
             0.4444444444444444,
             "#bd3786"
            ],
            [
             0.5555555555555556,
             "#d8576b"
            ],
            [
             0.6666666666666666,
             "#ed7953"
            ],
            [
             0.7777777777777778,
             "#fb9f3a"
            ],
            [
             0.8888888888888888,
             "#fdca26"
            ],
            [
             1,
             "#f0f921"
            ]
           ],
           "sequentialminus": [
            [
             0,
             "#0d0887"
            ],
            [
             0.1111111111111111,
             "#46039f"
            ],
            [
             0.2222222222222222,
             "#7201a8"
            ],
            [
             0.3333333333333333,
             "#9c179e"
            ],
            [
             0.4444444444444444,
             "#bd3786"
            ],
            [
             0.5555555555555556,
             "#d8576b"
            ],
            [
             0.6666666666666666,
             "#ed7953"
            ],
            [
             0.7777777777777778,
             "#fb9f3a"
            ],
            [
             0.8888888888888888,
             "#fdca26"
            ],
            [
             1,
             "#f0f921"
            ]
           ]
          },
          "colorway": [
           "#636efa",
           "#EF553B",
           "#00cc96",
           "#ab63fa",
           "#FFA15A",
           "#19d3f3",
           "#FF6692",
           "#B6E880",
           "#FF97FF",
           "#FECB52"
          ],
          "font": {
           "color": "#2a3f5f"
          },
          "geo": {
           "bgcolor": "white",
           "lakecolor": "white",
           "landcolor": "#E5ECF6",
           "showlakes": true,
           "showland": true,
           "subunitcolor": "white"
          },
          "hoverlabel": {
           "align": "left"
          },
          "hovermode": "closest",
          "mapbox": {
           "style": "light"
          },
          "paper_bgcolor": "white",
          "plot_bgcolor": "#E5ECF6",
          "polar": {
           "angularaxis": {
            "gridcolor": "white",
            "linecolor": "white",
            "ticks": ""
           },
           "bgcolor": "#E5ECF6",
           "radialaxis": {
            "gridcolor": "white",
            "linecolor": "white",
            "ticks": ""
           }
          },
          "scene": {
           "xaxis": {
            "backgroundcolor": "#E5ECF6",
            "gridcolor": "white",
            "gridwidth": 2,
            "linecolor": "white",
            "showbackground": true,
            "ticks": "",
            "zerolinecolor": "white"
           },
           "yaxis": {
            "backgroundcolor": "#E5ECF6",
            "gridcolor": "white",
            "gridwidth": 2,
            "linecolor": "white",
            "showbackground": true,
            "ticks": "",
            "zerolinecolor": "white"
           },
           "zaxis": {
            "backgroundcolor": "#E5ECF6",
            "gridcolor": "white",
            "gridwidth": 2,
            "linecolor": "white",
            "showbackground": true,
            "ticks": "",
            "zerolinecolor": "white"
           }
          },
          "shapedefaults": {
           "line": {
            "color": "#2a3f5f"
           }
          },
          "ternary": {
           "aaxis": {
            "gridcolor": "white",
            "linecolor": "white",
            "ticks": ""
           },
           "baxis": {
            "gridcolor": "white",
            "linecolor": "white",
            "ticks": ""
           },
           "bgcolor": "#E5ECF6",
           "caxis": {
            "gridcolor": "white",
            "linecolor": "white",
            "ticks": ""
           }
          },
          "title": {
           "x": 0.05
          },
          "xaxis": {
           "automargin": true,
           "gridcolor": "white",
           "linecolor": "white",
           "ticks": "",
           "title": {
            "standoff": 15
           },
           "zerolinecolor": "white",
           "zerolinewidth": 2
          },
          "yaxis": {
           "automargin": true,
           "gridcolor": "white",
           "linecolor": "white",
           "ticks": "",
           "title": {
            "standoff": 15
           },
           "zerolinecolor": "white",
           "zerolinewidth": 2
          }
         }
        },
        "title": {
         "text": "Jaccard Index Heatmap"
        },
        "xaxis": {
         "anchor": "y",
         "constrain": "domain",
         "domain": [
          0,
          1
         ],
         "scaleanchor": "y",
         "title": {
          "text": "Methods"
         }
        },
        "yaxis": {
         "anchor": "x",
         "autorange": "reversed",
         "constrain": "domain",
         "domain": [
          0,
          1
         ],
         "tickmode": "array",
         "ticktext": [
          "Feature 1",
          "Feature 2",
          "Feature 3",
          "Feature 4",
          "Feature 5",
          "Feature 6",
          "Feature 7",
          "Feature 8",
          "Feature 9",
          "Feature 10",
          "Feature 11",
          "Feature 12",
          "Feature 13",
          "Feature 14",
          "Feature 15",
          "Feature 16",
          "Feature 17",
          "Feature 18",
          "Feature 19",
          "Feature 20"
         ],
         "tickvals": [
          0,
          1,
          2,
          3,
          4,
          5,
          6,
          7,
          8,
          9,
          10,
          11,
          12,
          13,
          14,
          15,
          16,
          17,
          18,
          19
         ],
         "title": {
          "text": "Features"
         }
        }
       }
      }
     },
     "metadata": {},
     "output_type": "display_data"
    }
   ],
   "source": [
    "fig = px.imshow(df_jaccard, \n",
    "                text_auto=\".2f\",  \n",
    "                color_continuous_scale=\"YlGnBu\", \n",
    "                labels=dict(color=\"Jaccard Index\")) \n",
    "\n",
    "fig.update_layout(\n",
    "    title=\"Jaccard Index Heatmap\",\n",
    "    xaxis_title=\"Methods\",\n",
    "    yaxis_title=\"Features\",\n",
    "    yaxis=dict(tickmode='array', tickvals=list(range(len(df_jaccard))), ticktext=[f'Feature {i+1}' for i in range(len(df_jaccard))])\n",
    ")\n",
    "\n",
    "\n",
    "fig.show()"
   ]
  }
 ],
 "metadata": {
  "kernelspec": {
   "display_name": ".env",
   "language": "python",
   "name": "python3"
  },
  "language_info": {
   "codemirror_mode": {
    "name": "ipython",
    "version": 3
   },
   "file_extension": ".py",
   "mimetype": "text/x-python",
   "name": "python",
   "nbconvert_exporter": "python",
   "pygments_lexer": "ipython3",
   "version": "3.12.6"
  }
 },
 "nbformat": 4,
 "nbformat_minor": 2
}
